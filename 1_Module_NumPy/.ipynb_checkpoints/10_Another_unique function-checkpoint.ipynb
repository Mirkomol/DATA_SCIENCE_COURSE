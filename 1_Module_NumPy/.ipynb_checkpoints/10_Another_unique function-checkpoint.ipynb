{
 "cells": [
  {
   "cell_type": "code",
   "execution_count": 1,
   "id": "3974bd89",
   "metadata": {},
   "outputs": [],
   "source": [
    "import numpy as np"
   ]
  },
  {
   "cell_type": "code",
   "execution_count": 2,
   "id": "06d4e542",
   "metadata": {},
   "outputs": [],
   "source": [
    "names = np.array(['deep','abdurahmaon','Hasan','Temur','deep','Temur'])"
   ]
  },
  {
   "cell_type": "code",
   "execution_count": 3,
   "id": "6d79c139",
   "metadata": {},
   "outputs": [],
   "source": [
    "ints = np.array([3,3,3,2,2,1,1,4,4])"
   ]
  },
  {
   "cell_type": "code",
   "execution_count": 4,
   "id": "25db37d0",
   "metadata": {},
   "outputs": [],
   "source": [
    "# unique"
   ]
  },
  {
   "cell_type": "code",
   "execution_count": 5,
   "id": "be41015c",
   "metadata": {},
   "outputs": [
    {
     "data": {
      "text/plain": [
       "array(['Hasan', 'Temur', 'abdurahmaon', 'deep'], dtype='<U11')"
      ]
     },
     "execution_count": 5,
     "metadata": {},
     "output_type": "execute_result"
    }
   ],
   "source": [
    "np.unique(names)"
   ]
  },
  {
   "cell_type": "code",
   "execution_count": 6,
   "id": "9b05caee",
   "metadata": {},
   "outputs": [
    {
     "data": {
      "text/plain": [
       "array([1, 2, 3, 4])"
      ]
     },
     "execution_count": 6,
     "metadata": {},
     "output_type": "execute_result"
    }
   ],
   "source": [
    "np.unique(ints)"
   ]
  },
  {
   "cell_type": "code",
   "execution_count": 7,
   "id": "d050e9cf",
   "metadata": {},
   "outputs": [
    {
     "data": {
      "text/plain": [
       "{'Hasan', 'Temur', 'abdurahmaon', 'deep'}"
      ]
     },
     "execution_count": 7,
     "metadata": {},
     "output_type": "execute_result"
    }
   ],
   "source": [
    "set(names)"
   ]
  },
  {
   "cell_type": "code",
   "execution_count": 8,
   "id": "4f7a2434",
   "metadata": {},
   "outputs": [],
   "source": [
    "arr1 = np.array([6,0,0,3,2,5,6])\n",
    "arr2 = np.array([0,2,3])"
   ]
  },
  {
   "cell_type": "code",
   "execution_count": 9,
   "id": "3e628710",
   "metadata": {},
   "outputs": [
    {
     "data": {
      "text/plain": [
       "array([False,  True,  True,  True,  True, False, False])"
      ]
     },
     "execution_count": 9,
     "metadata": {},
     "output_type": "execute_result"
    }
   ],
   "source": [
    "np.in1d(arr1,arr2)"
   ]
  },
  {
   "cell_type": "code",
   "execution_count": 10,
   "id": "9f034ea8",
   "metadata": {},
   "outputs": [],
   "source": [
    "names1 = np.array(['Jasur', 'Abdurahmon','Hasan','Sarvar','Temur'])\n",
    "names2 = np.array(['Sarvar','Abdurahmon','Temur','Hasan','Temur'])\n"
   ]
  },
  {
   "cell_type": "code",
   "execution_count": 11,
   "id": "a08ed7a9",
   "metadata": {},
   "outputs": [
    {
     "data": {
      "text/plain": [
       "array(['Jasur'], dtype='<U10')"
      ]
     },
     "execution_count": 11,
     "metadata": {},
     "output_type": "execute_result"
    }
   ],
   "source": [
    "np.setdiff1d(names1,names2)"
   ]
  },
  {
   "cell_type": "code",
   "execution_count": null,
   "id": "64aebcc3",
   "metadata": {},
   "outputs": [],
   "source": []
  }
 ],
 "metadata": {
  "kernelspec": {
   "display_name": "Python 3",
   "language": "python",
   "name": "python3"
  },
  "language_info": {
   "codemirror_mode": {
    "name": "ipython",
    "version": 3
   },
   "file_extension": ".py",
   "mimetype": "text/x-python",
   "name": "python",
   "nbconvert_exporter": "python",
   "pygments_lexer": "ipython3",
   "version": "3.8.7"
  }
 },
 "nbformat": 4,
 "nbformat_minor": 5
}
