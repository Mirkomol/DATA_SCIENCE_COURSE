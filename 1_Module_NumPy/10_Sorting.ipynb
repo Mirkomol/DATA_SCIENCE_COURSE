{
 "cells": [
  {
   "cell_type": "code",
   "execution_count": 3,
   "id": "cffbde24",
   "metadata": {},
   "outputs": [],
   "source": [
    "import numpy as np"
   ]
  },
  {
   "cell_type": "code",
   "execution_count": 4,
   "id": "c6068b0d",
   "metadata": {},
   "outputs": [],
   "source": [
    "arr = np.random.rand(4)"
   ]
  },
  {
   "cell_type": "code",
   "execution_count": 5,
   "id": "8dbca072",
   "metadata": {},
   "outputs": [
    {
     "data": {
      "text/plain": [
       "array([0.32859972, 0.77938773, 0.57742662, 0.3653814 ])"
      ]
     },
     "execution_count": 5,
     "metadata": {},
     "output_type": "execute_result"
    }
   ],
   "source": [
    "arr"
   ]
  },
  {
   "cell_type": "code",
   "execution_count": 6,
   "id": "97e89ae0",
   "metadata": {},
   "outputs": [],
   "source": [
    "sorted_arr = np.sort(arr)"
   ]
  },
  {
   "cell_type": "code",
   "execution_count": 7,
   "id": "afe75bbe",
   "metadata": {},
   "outputs": [
    {
     "data": {
      "text/plain": [
       "array([0.32859972, 0.3653814 , 0.57742662, 0.77938773])"
      ]
     },
     "execution_count": 7,
     "metadata": {},
     "output_type": "execute_result"
    }
   ],
   "source": [
    "sorted_arr"
   ]
  },
  {
   "cell_type": "code",
   "execution_count": 8,
   "id": "c3afdc5b",
   "metadata": {},
   "outputs": [
    {
     "data": {
      "text/plain": [
       "array([0.32859972, 0.77938773, 0.57742662, 0.3653814 ])"
      ]
     },
     "execution_count": 8,
     "metadata": {},
     "output_type": "execute_result"
    }
   ],
   "source": []
  },
  {
   "cell_type": "code",
   "execution_count": 9,
   "id": "f0f3d604",
   "metadata": {},
   "outputs": [],
   "source": [
    "arr.sort()"
   ]
  },
  {
   "cell_type": "code",
   "execution_count": 10,
   "id": "7a87bb4a",
   "metadata": {},
   "outputs": [
    {
     "data": {
      "text/plain": [
       "array([0.32859972, 0.3653814 , 0.57742662, 0.77938773])"
      ]
     },
     "execution_count": 10,
     "metadata": {},
     "output_type": "execute_result"
    }
   ],
   "source": [
    "arr"
   ]
  },
  {
   "cell_type": "code",
   "execution_count": 11,
   "id": "e98ce1ee",
   "metadata": {},
   "outputs": [],
   "source": [
    "rev_arr = -np.sort(-arr) #descending arr"
   ]
  },
  {
   "cell_type": "code",
   "execution_count": 12,
   "id": "afb1654f",
   "metadata": {},
   "outputs": [
    {
     "data": {
      "text/plain": [
       "array([0.77938773, 0.57742662, 0.3653814 , 0.32859972])"
      ]
     },
     "execution_count": 12,
     "metadata": {},
     "output_type": "execute_result"
    }
   ],
   "source": [
    "rev_arr"
   ]
  },
  {
   "cell_type": "code",
   "execution_count": 13,
   "id": "cfcd6d2f",
   "metadata": {},
   "outputs": [],
   "source": [
    "#2d ara\n",
    "arr2d = np.random.randn(2,4)"
   ]
  },
  {
   "cell_type": "code",
   "execution_count": 14,
   "id": "2391a176",
   "metadata": {},
   "outputs": [
    {
     "data": {
      "text/plain": [
       "array([[ 1.28014524,  2.20904011, -0.33580411,  1.13490633],\n",
       "       [ 0.63378636, -0.78719948, -0.91592499,  0.18367853]])"
      ]
     },
     "execution_count": 14,
     "metadata": {},
     "output_type": "execute_result"
    }
   ],
   "source": [
    "arr2d"
   ]
  },
  {
   "cell_type": "code",
   "execution_count": 15,
   "id": "722877f9",
   "metadata": {},
   "outputs": [],
   "source": [
    "# axis0 __ row\n",
    "row_srt = np.sort(arr2d,axis=0)"
   ]
  },
  {
   "cell_type": "code",
   "execution_count": 17,
   "id": "38a24097",
   "metadata": {},
   "outputs": [
    {
     "data": {
      "text/plain": [
       "array([[ 0.63378636, -0.78719948, -0.91592499,  0.18367853],\n",
       "       [ 1.28014524,  2.20904011, -0.33580411,  1.13490633]])"
      ]
     },
     "execution_count": 17,
     "metadata": {},
     "output_type": "execute_result"
    }
   ],
   "source": [
    "row_srt"
   ]
  },
  {
   "cell_type": "code",
   "execution_count": 18,
   "id": "36ad5c49",
   "metadata": {},
   "outputs": [],
   "source": [
    "col_srt = np.sort(arr2d,axis =1 )"
   ]
  },
  {
   "cell_type": "code",
   "execution_count": 20,
   "id": "53c44eeb",
   "metadata": {},
   "outputs": [
    {
     "data": {
      "text/plain": [
       "array([[-0.33580411,  1.13490633,  1.28014524,  2.20904011],\n",
       "       [-0.91592499, -0.78719948,  0.18367853,  0.63378636]])"
      ]
     },
     "execution_count": 20,
     "metadata": {},
     "output_type": "execute_result"
    }
   ],
   "source": [
    "col_srt # axis =1 "
   ]
  },
  {
   "cell_type": "code",
   "execution_count": null,
   "id": "0e745c4e",
   "metadata": {},
   "outputs": [],
   "source": []
  }
 ],
 "metadata": {
  "kernelspec": {
   "display_name": "Python 3",
   "language": "python",
   "name": "python3"
  },
  "language_info": {
   "codemirror_mode": {
    "name": "ipython",
    "version": 3
   },
   "file_extension": ".py",
   "mimetype": "text/x-python",
   "name": "python",
   "nbconvert_exporter": "python",
   "pygments_lexer": "ipython3",
   "version": "3.8.7"
  }
 },
 "nbformat": 4,
 "nbformat_minor": 5
}
