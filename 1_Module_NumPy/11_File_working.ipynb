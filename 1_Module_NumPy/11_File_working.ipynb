{
 "cells": [
  {
   "cell_type": "code",
   "execution_count": 1,
   "id": "f428b4bc",
   "metadata": {},
   "outputs": [],
   "source": [
    "import numpy as np"
   ]
  },
  {
   "cell_type": "code",
   "execution_count": 2,
   "id": "efb33c42",
   "metadata": {},
   "outputs": [],
   "source": [
    "arr = np.arange(10)"
   ]
  },
  {
   "cell_type": "code",
   "execution_count": 3,
   "id": "cce53ffb",
   "metadata": {},
   "outputs": [
    {
     "data": {
      "text/plain": [
       "array([0, 1, 2, 3, 4, 5, 6, 7, 8, 9])"
      ]
     },
     "execution_count": 3,
     "metadata": {},
     "output_type": "execute_result"
    }
   ],
   "source": [
    "arr"
   ]
  },
  {
   "cell_type": "code",
   "execution_count": 7,
   "id": "a112f39d",
   "metadata": {},
   "outputs": [],
   "source": [
    "# binary mode\n",
    "np.save('data',arr)"
   ]
  },
  {
   "cell_type": "code",
   "execution_count": 5,
   "id": "5799d9b8",
   "metadata": {},
   "outputs": [],
   "source": [
    "arr2 = np.load('data.npy')"
   ]
  },
  {
   "cell_type": "code",
   "execution_count": 6,
   "id": "c6dd5b24",
   "metadata": {},
   "outputs": [
    {
     "data": {
      "text/plain": [
       "array([0, 1, 2, 3, 4, 5, 6, 7, 8, 9])"
      ]
     },
     "execution_count": 6,
     "metadata": {},
     "output_type": "execute_result"
    }
   ],
   "source": [
    "arr2"
   ]
  },
  {
   "cell_type": "code",
   "execution_count": 8,
   "id": "2782026c",
   "metadata": {},
   "outputs": [],
   "source": [
    "arr3 = np.arange(20)"
   ]
  },
  {
   "cell_type": "code",
   "execution_count": 9,
   "id": "747a298d",
   "metadata": {},
   "outputs": [],
   "source": [
    "np.savez('arrays',a=arr,b=arr2)"
   ]
  },
  {
   "cell_type": "code",
   "execution_count": 10,
   "id": "8352776d",
   "metadata": {},
   "outputs": [],
   "source": [
    "arrs = np.load('arrays.npz',)"
   ]
  },
  {
   "cell_type": "code",
   "execution_count": 11,
   "id": "2c73fe2e",
   "metadata": {},
   "outputs": [
    {
     "data": {
      "text/plain": [
       "<numpy.lib.npyio.NpzFile at 0x2ad8e2832e0>"
      ]
     },
     "execution_count": 11,
     "metadata": {},
     "output_type": "execute_result"
    }
   ],
   "source": [
    "arrs"
   ]
  },
  {
   "cell_type": "code",
   "execution_count": 12,
   "id": "ea47fca5",
   "metadata": {},
   "outputs": [
    {
     "data": {
      "text/plain": [
       "array([0, 1, 2, 3, 4, 5, 6, 7, 8, 9])"
      ]
     },
     "execution_count": 12,
     "metadata": {},
     "output_type": "execute_result"
    }
   ],
   "source": [
    "arrs['a']"
   ]
  },
  {
   "cell_type": "code",
   "execution_count": 13,
   "id": "c1297086",
   "metadata": {},
   "outputs": [
    {
     "data": {
      "text/plain": [
       "array([0, 1, 2, 3, 4, 5, 6, 7, 8, 9])"
      ]
     },
     "execution_count": 13,
     "metadata": {},
     "output_type": "execute_result"
    }
   ],
   "source": [
    "arrs['b']"
   ]
  },
  {
   "cell_type": "code",
   "execution_count": 14,
   "id": "84bf2f49",
   "metadata": {},
   "outputs": [],
   "source": [
    "np.savez_compressed('arrar_comp.npz',a=arr,b=arr3)"
   ]
  },
  {
   "cell_type": "code",
   "execution_count": 15,
   "id": "4843bfd0",
   "metadata": {},
   "outputs": [],
   "source": [
    "comp = np.load('arrar_comp.npz')"
   ]
  },
  {
   "cell_type": "code",
   "execution_count": 16,
   "id": "4564930e",
   "metadata": {},
   "outputs": [
    {
     "data": {
      "text/plain": [
       "<numpy.lib.npyio.NpzFile at 0x2ad8e283b50>"
      ]
     },
     "execution_count": 16,
     "metadata": {},
     "output_type": "execute_result"
    }
   ],
   "source": [
    "comp"
   ]
  },
  {
   "cell_type": "code",
   "execution_count": 18,
   "id": "586fa20e",
   "metadata": {},
   "outputs": [
    {
     "data": {
      "text/plain": [
       "array([0, 1, 2, 3, 4, 5, 6, 7, 8, 9])"
      ]
     },
     "execution_count": 18,
     "metadata": {},
     "output_type": "execute_result"
    }
   ],
   "source": [
    "comp['a']"
   ]
  },
  {
   "cell_type": "code",
   "execution_count": null,
   "id": "b7307bdb",
   "metadata": {},
   "outputs": [],
   "source": []
  }
 ],
 "metadata": {
  "kernelspec": {
   "display_name": "Python 3",
   "language": "python",
   "name": "python3"
  },
  "language_info": {
   "codemirror_mode": {
    "name": "ipython",
    "version": 3
   },
   "file_extension": ".py",
   "mimetype": "text/x-python",
   "name": "python",
   "nbconvert_exporter": "python",
   "pygments_lexer": "ipython3",
   "version": "3.8.7"
  }
 },
 "nbformat": 4,
 "nbformat_minor": 5
}
