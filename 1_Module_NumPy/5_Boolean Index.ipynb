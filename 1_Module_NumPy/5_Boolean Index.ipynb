{
 "cells": [
  {
   "cell_type": "code",
   "execution_count": 1,
   "id": "b8c89c48",
   "metadata": {},
   "outputs": [],
   "source": [
    "import numpy as np"
   ]
  },
  {
   "cell_type": "code",
   "execution_count": 11,
   "id": "cdb696cc",
   "metadata": {},
   "outputs": [],
   "source": [
    "names = np.array(['Hasan','Hasai','Elyor','Gypsy','Hasan','Aza','Yettei'])"
   ]
  },
  {
   "cell_type": "code",
   "execution_count": 8,
   "id": "c54a4fff",
   "metadata": {},
   "outputs": [
    {
     "data": {
      "text/plain": [
       "7"
      ]
     },
     "execution_count": 8,
     "metadata": {},
     "output_type": "execute_result"
    }
   ],
   "source": [
    "names.size"
   ]
  },
  {
   "cell_type": "code",
   "execution_count": 4,
   "id": "b3730cc8",
   "metadata": {},
   "outputs": [],
   "source": [
    "data = np.random.randn(7,4)"
   ]
  },
  {
   "cell_type": "code",
   "execution_count": 5,
   "id": "aa35238c",
   "metadata": {},
   "outputs": [
    {
     "data": {
      "text/plain": [
       "array([[-0.41933347,  0.24905745, -0.09840229,  1.80920116],\n",
       "       [-0.27556409,  0.10508247, -0.29613379, -0.78703773],\n",
       "       [-0.5485216 , -1.07902778,  0.83220462,  0.44554589],\n",
       "       [ 0.62248321, -0.12260303, -0.65606749, -0.36891669],\n",
       "       [-0.42117614,  0.8783545 ,  0.30295265, -0.89898713],\n",
       "       [-0.01490577,  0.49678404,  1.4068701 , -2.13626432],\n",
       "       [ 0.3952459 ,  0.31519102,  1.27641995,  1.76370821]])"
      ]
     },
     "execution_count": 5,
     "metadata": {},
     "output_type": "execute_result"
    }
   ],
   "source": [
    "data"
   ]
  },
  {
   "cell_type": "code",
   "execution_count": 12,
   "id": "1669f33a",
   "metadata": {},
   "outputs": [
    {
     "data": {
      "text/plain": [
       "array([ True, False, False, False,  True, False, False])"
      ]
     },
     "execution_count": 12,
     "metadata": {},
     "output_type": "execute_result"
    }
   ],
   "source": [
    "names == 'Hasan'"
   ]
  },
  {
   "cell_type": "code",
   "execution_count": 18,
   "id": "e80f6308",
   "metadata": {},
   "outputs": [
    {
     "name": "stdout",
     "output_type": "stream",
     "text": [
      "['Hasan' 'Hasai' 'Elyor' 'Gypsy' 'Hasan' 'Aza' 'Yettei']\n"
     ]
    },
    {
     "data": {
      "text/plain": [
       "array([[-0.41933347,  0.24905745, -0.09840229,  1.80920116],\n",
       "       [-0.27556409,  0.10508247, -0.29613379, -0.78703773],\n",
       "       [-0.5485216 , -1.07902778,  0.83220462,  0.44554589],\n",
       "       [ 0.62248321, -0.12260303, -0.65606749, -0.36891669],\n",
       "       [-0.42117614,  0.8783545 ,  0.30295265, -0.89898713],\n",
       "       [-0.01490577,  0.49678404,  1.4068701 , -2.13626432],\n",
       "       [ 0.3952459 ,  0.31519102,  1.27641995,  1.76370821]])"
      ]
     },
     "execution_count": 18,
     "metadata": {},
     "output_type": "execute_result"
    }
   ],
   "source": [
    "print(names)\n",
    "data"
   ]
  },
  {
   "cell_type": "code",
   "execution_count": 14,
   "id": "59d46ed1",
   "metadata": {},
   "outputs": [
    {
     "data": {
      "text/plain": [
       "array([[-0.41933347,  0.24905745, -0.09840229,  1.80920116],\n",
       "       [-0.42117614,  0.8783545 ,  0.30295265, -0.89898713]])"
      ]
     },
     "execution_count": 14,
     "metadata": {},
     "output_type": "execute_result"
    }
   ],
   "source": [
    "data[names == 'Hasan']"
   ]
  },
  {
   "cell_type": "code",
   "execution_count": 16,
   "id": "e14e7760",
   "metadata": {},
   "outputs": [
    {
     "data": {
      "text/plain": [
       "array([[ 0.62248321, -0.12260303, -0.65606749, -0.36891669]])"
      ]
     },
     "execution_count": 16,
     "metadata": {},
     "output_type": "execute_result"
    }
   ],
   "source": [
    "data[names == 'Gypsy']"
   ]
  },
  {
   "cell_type": "code",
   "execution_count": 17,
   "id": "d03da693",
   "metadata": {},
   "outputs": [
    {
     "data": {
      "text/plain": [
       "array([[-0.09840229,  1.80920116],\n",
       "       [ 0.30295265, -0.89898713]])"
      ]
     },
     "execution_count": 17,
     "metadata": {},
     "output_type": "execute_result"
    }
   ],
   "source": [
    "data[names == 'Hasan',2:]"
   ]
  },
  {
   "cell_type": "code",
   "execution_count": 19,
   "id": "38bb377e",
   "metadata": {},
   "outputs": [
    {
     "data": {
      "text/plain": [
       "array([[-0.27556409,  0.10508247, -0.29613379, -0.78703773],\n",
       "       [-0.5485216 , -1.07902778,  0.83220462,  0.44554589],\n",
       "       [ 0.62248321, -0.12260303, -0.65606749, -0.36891669],\n",
       "       [-0.01490577,  0.49678404,  1.4068701 , -2.13626432],\n",
       "       [ 0.3952459 ,  0.31519102,  1.27641995,  1.76370821]])"
      ]
     },
     "execution_count": 19,
     "metadata": {},
     "output_type": "execute_result"
    }
   ],
   "source": [
    "data[names != 'Hasan']"
   ]
  },
  {
   "cell_type": "code",
   "execution_count": 21,
   "id": "15d74cc3",
   "metadata": {},
   "outputs": [
    {
     "data": {
      "text/plain": [
       "array([[-0.27556409,  0.10508247, -0.29613379, -0.78703773],\n",
       "       [-0.5485216 , -1.07902778,  0.83220462,  0.44554589],\n",
       "       [ 0.62248321, -0.12260303, -0.65606749, -0.36891669],\n",
       "       [-0.01490577,  0.49678404,  1.4068701 , -2.13626432],\n",
       "       [ 0.3952459 ,  0.31519102,  1.27641995,  1.76370821]])"
      ]
     },
     "execution_count": 21,
     "metadata": {},
     "output_type": "execute_result"
    }
   ],
   "source": [
    "data[~(names=='Hasan')] # not equal"
   ]
  },
  {
   "cell_type": "code",
   "execution_count": 22,
   "id": "75915222",
   "metadata": {},
   "outputs": [
    {
     "name": "stdout",
     "output_type": "stream",
     "text": [
      "['Hasan' 'Hasai' 'Elyor' 'Gypsy' 'Hasan' 'Aza' 'Yettei']\n"
     ]
    }
   ],
   "source": [
    "print(names)"
   ]
  },
  {
   "cell_type": "code",
   "execution_count": 23,
   "id": "5acd5aeb",
   "metadata": {},
   "outputs": [
    {
     "data": {
      "text/plain": [
       "array([[-0.41933347,  0.24905745, -0.09840229,  1.80920116],\n",
       "       [-0.27556409,  0.10508247, -0.29613379, -0.78703773],\n",
       "       [-0.5485216 , -1.07902778,  0.83220462,  0.44554589],\n",
       "       [ 0.62248321, -0.12260303, -0.65606749, -0.36891669],\n",
       "       [-0.42117614,  0.8783545 ,  0.30295265, -0.89898713],\n",
       "       [-0.01490577,  0.49678404,  1.4068701 , -2.13626432],\n",
       "       [ 0.3952459 ,  0.31519102,  1.27641995,  1.76370821]])"
      ]
     },
     "execution_count": 23,
     "metadata": {},
     "output_type": "execute_result"
    }
   ],
   "source": [
    "data\n"
   ]
  },
  {
   "cell_type": "code",
   "execution_count": 24,
   "id": "a5491764",
   "metadata": {},
   "outputs": [],
   "source": [
    "mask = (names == 'Hasan') | (names=='Gypsy')"
   ]
  },
  {
   "cell_type": "code",
   "execution_count": 25,
   "id": "abf42d8a",
   "metadata": {},
   "outputs": [
    {
     "data": {
      "text/plain": [
       "array([ True, False, False,  True,  True, False, False])"
      ]
     },
     "execution_count": 25,
     "metadata": {},
     "output_type": "execute_result"
    }
   ],
   "source": [
    "mask"
   ]
  },
  {
   "cell_type": "code",
   "execution_count": 26,
   "id": "4221d88b",
   "metadata": {},
   "outputs": [
    {
     "data": {
      "text/plain": [
       "array([[-0.41933347,  0.24905745, -0.09840229,  1.80920116],\n",
       "       [ 0.62248321, -0.12260303, -0.65606749, -0.36891669],\n",
       "       [-0.42117614,  0.8783545 ,  0.30295265, -0.89898713]])"
      ]
     },
     "execution_count": 26,
     "metadata": {},
     "output_type": "execute_result"
    }
   ],
   "source": [
    "data[mask]"
   ]
  },
  {
   "cell_type": "code",
   "execution_count": 27,
   "id": "513ba5c1",
   "metadata": {
    "scrolled": true
   },
   "outputs": [
    {
     "data": {
      "text/plain": [
       "array([[-0.41933347,  0.24905745, -0.09840229,  1.80920116],\n",
       "       [-0.27556409,  0.10508247, -0.29613379, -0.78703773],\n",
       "       [-0.5485216 , -1.07902778,  0.83220462,  0.44554589],\n",
       "       [ 0.62248321, -0.12260303, -0.65606749, -0.36891669],\n",
       "       [-0.42117614,  0.8783545 ,  0.30295265, -0.89898713],\n",
       "       [-0.01490577,  0.49678404,  1.4068701 , -2.13626432],\n",
       "       [ 0.3952459 ,  0.31519102,  1.27641995,  1.76370821]])"
      ]
     },
     "execution_count": 27,
     "metadata": {},
     "output_type": "execute_result"
    }
   ],
   "source": [
    "data"
   ]
  },
  {
   "cell_type": "code",
   "execution_count": 29,
   "id": "9e218822",
   "metadata": {},
   "outputs": [],
   "source": [
    "data[data<0\n",
    "    ]=0"
   ]
  },
  {
   "cell_type": "code",
   "execution_count": 30,
   "id": "c835c22a",
   "metadata": {
    "scrolled": false
   },
   "outputs": [
    {
     "data": {
      "text/plain": [
       "array([[0.        , 0.24905745, 0.        , 1.80920116],\n",
       "       [0.        , 0.10508247, 0.        , 0.        ],\n",
       "       [0.        , 0.        , 0.83220462, 0.44554589],\n",
       "       [0.62248321, 0.        , 0.        , 0.        ],\n",
       "       [0.        , 0.8783545 , 0.30295265, 0.        ],\n",
       "       [0.        , 0.49678404, 1.4068701 , 0.        ],\n",
       "       [0.3952459 , 0.31519102, 1.27641995, 1.76370821]])"
      ]
     },
     "execution_count": 30,
     "metadata": {},
     "output_type": "execute_result"
    }
   ],
   "source": [
    "data"
   ]
  },
  {
   "cell_type": "code",
   "execution_count": null,
   "id": "9b4ffeeb",
   "metadata": {},
   "outputs": [],
   "source": []
  }
 ],
 "metadata": {
  "kernelspec": {
   "display_name": "Python 3",
   "language": "python",
   "name": "python3"
  },
  "language_info": {
   "codemirror_mode": {
    "name": "ipython",
    "version": 3
   },
   "file_extension": ".py",
   "mimetype": "text/x-python",
   "name": "python",
   "nbconvert_exporter": "python",
   "pygments_lexer": "ipython3",
   "version": "3.8.7"
  }
 },
 "nbformat": 4,
 "nbformat_minor": 5
}
