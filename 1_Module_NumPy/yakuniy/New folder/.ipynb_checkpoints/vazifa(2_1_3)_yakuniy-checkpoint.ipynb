{
 "cells": [
  {
   "cell_type": "markdown",
   "id": "b7662fce",
   "metadata": {},
   "source": [
    "Faqatgina `YOUR CODE HERE` yoki \"YOUR ANSWER HERE\" deyilgan joyga dasturingizni yoki javobingizni yozing"
   ]
  },
  {
   "cell_type": "code",
   "execution_count": null,
   "id": "eff44ac7",
   "metadata": {},
   "outputs": [],
   "source": [
    "NAME = \"Mirkamol\"\n",
    "COLLABORATORS = \"Mohirdev\""
   ]
  },
  {
   "cell_type": "markdown",
   "id": "2734624c",
   "metadata": {},
   "source": [
    "---"
   ]
  },
  {
   "cell_type": "markdown",
   "id": "52703ab8",
   "metadata": {},
   "source": [
    "---\n",
    "# Ma'lumotlar tahlili\n",
    "\n",
    "## 2.1. Numpy kutubxonasi bilan ishlash\n",
    "\n",
    "## Vazifa-4 \n",
    "\n",
    "## Yakuniy vazifa"
   ]
  },
  {
   "cell_type": "code",
   "execution_count": 6,
   "id": "9cb40b17",
   "metadata": {},
   "outputs": [],
   "source": [
    "# Numpy kutubxonasini chaqirib olish\n",
    "import numpy as np"
   ]
  },
  {
   "cell_type": "markdown",
   "id": "96fc8516",
   "metadata": {},
   "source": [
    "### Masala(1): Ma'lumotlarni yuklab olish (2-points).\n",
    "\n",
    "**Ma'lumotlar :** Ma'lumotlar ikkita faylda joylangan bo'lib, bu fayllar nomlari `gm_2020.npz` va `gm_2021.npz` ko'rinishda, bu fayllar mos ravishda GM Uzbekistan tomonidan 2020 va 2021 yillarning yanvar-iyul oylarida ishlab chiqarilgan avtomobillar modellari va ularning sonlari keltirilgan. `npz` kengaytmasidan ko'rinib turibdiki, xar bir fayl o'z ichiga massivlarni(bizning holatda ikkita massiv, (1) Avtomobil modellari nomi, (2) Ishlab chiqarilgan avtomobillar soni) mujassam etgan. \n",
    "\n",
    "Masala sharti shundan iboratki, har bir faylni yuklab ularni ikkita mos massivga ajratuvchi funksiyani tuzing. Tuzilajak funksiyangiz argument sifatida fayl nomini qabul qilishini ta'minlang. \n",
    "\n",
    "**Muhim**: Massivlar: `models` va `qnts` nomi ostida saqlangan.\n",
    "\n",
    "**Yordam :**  `load` metodi yordamida yuklab, so'ngra massiv nomlaridan foydalanib natijani qaytaring. \n",
    "\n",
    "**Natija**: Agar funksiyaga `gm_2020.npz` faylini uzatilsa, natija quyidagi ko'rinishda bo'lishi mumkin:\n",
    "\n",
    "(array(['Labo', 'Damas', ......., 'Gentra'], dtype='<U6'), array([ 4521, 30889, ......,  30368]))\n",
    "\n",
    "\n",
    "\n",
    "***Ma'lumot manbasi***: *gazeta.uz*"
   ]
  },
  {
   "cell_type": "code",
   "execution_count": 7,
   "id": "92f3647b",
   "metadata": {
    "deletable": false,
    "nbgrader": {
     "cell_type": "code",
     "checksum": "a93dbcf1fa42d6d3e1ce3384a935af6b",
     "grade": false,
     "grade_id": "load_data",
     "locked": false,
     "schema_version": 3,
     "solution": true,
     "task": false
    }
   },
   "outputs": [
    {
     "data": {
      "text/plain": [
       "array([ 4521, 30889, 16370, 41663, 44901, 30368])"
      ]
     },
     "execution_count": 7,
     "metadata": {},
     "output_type": "execute_result"
    }
   ],
   "source": [
    "def load_data(file_name):\n",
    "    \n",
    "    x = np.load(file_name)\n",
    "    return x\n",
    "\n",
    "\n",
    "data1 = load_data('gm_2020.npz') # ma'lumotlar (2020)\n",
    "data2 = load_data('gm_2021.npz') # ma'lumotlar (2021)\n",
    "data1['models']\n",
    "data1['qnts']"
   ]
  },
  {
   "cell_type": "markdown",
   "id": "862f7d0d",
   "metadata": {},
   "source": [
    "Funksiyangizni quyidagi cellda tekshirib oling. (Eslatma: Funksiya turli xil yashirin testlar orqali tekshiriladi, maslahatimiz, aldashga urinmang)"
   ]
  },
  {
   "cell_type": "code",
   "execution_count": 9,
   "id": "cfbeaf1e",
   "metadata": {
    "deletable": false,
    "editable": false,
    "nbgrader": {
     "cell_type": "code",
     "checksum": "dabad9d40394624a9a77f8efdca36a3c",
     "grade": true,
     "grade_id": "correct_load_data",
     "locked": true,
     "points": 2,
     "schema_version": 3,
     "solution": false,
     "task": false
    }
   },
   "outputs": [],
   "source": [
    "\"\"\"Funksiyani tekshirish\"\"\"\n",
    "data1 = load_data('gm_2020.npz') # ma'lumotlar (2020)\n",
    "data2 = load_data('gm_2021.npz') # ma'lumotlar (2021)"
   ]
  },
  {
   "cell_type": "markdown",
   "id": "4b4f5390",
   "metadata": {},
   "source": [
    "### Masala(2): Jami ishlab chiqarilgan avtomobillar soni. (2-points)\n",
    "\n",
    "Yuqorida yaratilingan ma'lumotlarni yuklab ajratib oluvchi funksiyamizdan foydalanib, endilikda ma'lumotlar ustida amallar bajaramiz. \n",
    "\n",
    "**Masala :** Ma'lumotlardan foydalanib, 2020 va 2021  yillarda ishlab chiqarilgan jami avtomobillar sonini hisoblaydigan funksiya yarating.\n",
    "\n",
    "**Natija**: (168..., ...734) ko'rinishida bo'ladi. \n",
    " \n",
    "Bu yerda 168.... ta avtomabil 2020 yilda ishlab chiqarilgan. 2021 yilda esa ...734 ta avtomabil ishlab chiqarilan. "
   ]
  },
  {
   "cell_type": "code",
   "execution_count": 8,
   "id": "5397fd9a",
   "metadata": {
    "deletable": false,
    "nbgrader": {
     "cell_type": "code",
     "checksum": "bb1359b448d06f631fbe17d2c38e9a51",
     "grade": false,
     "grade_id": "total_qnts",
     "locked": false,
     "schema_version": 3,
     "solution": true,
     "task": false
    }
   },
   "outputs": [
    {
     "name": "stdout",
     "output_type": "stream",
     "text": [
      "293446\n"
     ]
    }
   ],
   "source": [
    "def total_qnts():\n",
    "    data1 = load_data('gm_2020.npz') # ma'lumotlar (2020)\n",
    "    data2 = load_data('gm_2021.npz') # ma'lumotlar (2021)\n",
    "    \n",
    "    counter = 0\n",
    "    \n",
    "    for i in data1['qnts']:\n",
    "        counter += i\n",
    "        \n",
    "    for j in data2['qnts']:\n",
    "        counter += j\n",
    "        \n",
    "    return counter\n",
    "\n",
    "print(total_qnts())    "
   ]
  },
  {
   "cell_type": "markdown",
   "id": "7250c66f",
   "metadata": {},
   "source": [
    "Funksiyangizni quyidagi cellda tekshirib oling. (Eslatma: Funksiya turli xil yashirin testlar orqali tekshiriladi, maslahatimiz, aldashga urinmang)"
   ]
  },
  {
   "cell_type": "code",
   "execution_count": 9,
   "id": "22a8a14f",
   "metadata": {
    "deletable": false,
    "editable": false,
    "nbgrader": {
     "cell_type": "code",
     "checksum": "d80d660f06c7f2146c209825b2b09fd1",
     "grade": true,
     "grade_id": "correct_total_qnts",
     "locked": true,
     "points": 2,
     "schema_version": 3,
     "solution": false,
     "task": false
    }
   },
   "outputs": [],
   "source": [
    "\"\"\"Funksiyani tekshirish\"\"\"\n",
    "total = total_qnts() # 2020 va 2021 yillardagi jami ishlab chiqarilgan avtomabillar"
   ]
  },
  {
   "cell_type": "markdown",
   "id": "b5a354a2",
   "metadata": {},
   "source": [
    "### Masala(3): Ba'zi avtomabillarning ishlab chiqarilish sonlari. (3-points)\n",
    "\n",
    "\n",
    "\n",
    "**Masala :** Tasavvur qiling, ish beruvchi sizdan faqatgina `Damas`, `Nexia`, `Cobalt`, va `Gentra`rusumli avtomabillarni 2020 va 2021 yillarda qancha ishlab chiqarilganini barcha ma'lumotlardan ajratib berishni so'radi. Siz, shu vazifani bajaradigan funksiyani tuzishingiz kerak. \n",
    "\n",
    " **Yordam**: Boolean indekslash mavzusiga murojat qiling.\n",
    " \n",
    " \n",
    " **Natija**: (array([30889, .....  30368]), array([33682 .....  26266])) ko'rinishida bo'ladi"
   ]
  },
  {
   "cell_type": "code",
   "execution_count": 10,
   "id": "6c736719",
   "metadata": {
    "deletable": false,
    "nbgrader": {
     "cell_type": "code",
     "checksum": "5d0d5621949e328510dcedaacb7bc3a5",
     "grade": false,
     "grade_id": "sel_models",
     "locked": false,
     "schema_version": 3,
     "solution": true,
     "task": false
    }
   },
   "outputs": [],
   "source": [
    "def sel_models():\n",
    "    data1 = load_data('gm_2020.npz') # ma'lumotlar (2020)\n",
    "    data2 = load_data('gm_2021.npz') # ma'lumotlar (2021)\n",
    "   \n",
    "    return data1['models'] and data1['qnts']"
   ]
  },
  {
   "cell_type": "markdown",
   "id": "b97b63c3",
   "metadata": {},
   "source": [
    "Funksiyangizni quyidagi cellda tekshirib oling. (Eslatma: Funksiya turli xil yashirin testlar orqali tekshiriladi, maslahatimiz, aldashga urinmang)"
   ]
  },
  {
   "cell_type": "code",
   "execution_count": 11,
   "id": "6f957f4a",
   "metadata": {
    "deletable": false,
    "editable": false,
    "nbgrader": {
     "cell_type": "code",
     "checksum": "26e42e7c8f4006db1c131d3c35fcb7da",
     "grade": true,
     "grade_id": "corr_sel_models",
     "locked": true,
     "points": 3,
     "schema_version": 3,
     "solution": false,
     "task": false
    }
   },
   "outputs": [
    {
     "ename": "ValueError",
     "evalue": "The truth value of an array with more than one element is ambiguous. Use a.any() or a.all()",
     "output_type": "error",
     "traceback": [
      "\u001b[1;31m---------------------------------------------------------------------------\u001b[0m",
      "\u001b[1;31mValueError\u001b[0m                                Traceback (most recent call last)",
      "\u001b[1;32m<ipython-input-11-44b4e3e9e746>\u001b[0m in \u001b[0;36m<module>\u001b[1;34m\u001b[0m\n\u001b[0;32m      1\u001b[0m \u001b[1;34m\"\"\"Funksiyani tekshirish\"\"\"\u001b[0m\u001b[1;33m\u001b[0m\u001b[1;33m\u001b[0m\u001b[0m\n\u001b[1;32m----> 2\u001b[1;33m \u001b[0msel_cars\u001b[0m \u001b[1;33m=\u001b[0m \u001b[0msel_models\u001b[0m\u001b[1;33m(\u001b[0m\u001b[1;33m)\u001b[0m \u001b[1;31m# 2020 va 2021 yillardagi ishlab chiqarilgan Damas, Nexia, Cobalt, va Gentra rusumli avtomabillar\u001b[0m\u001b[1;33m\u001b[0m\u001b[1;33m\u001b[0m\u001b[0m\n\u001b[0m",
      "\u001b[1;32m<ipython-input-10-dfa94225b4c7>\u001b[0m in \u001b[0;36msel_models\u001b[1;34m()\u001b[0m\n\u001b[0;32m      3\u001b[0m     \u001b[0mdata2\u001b[0m \u001b[1;33m=\u001b[0m \u001b[0mload_data\u001b[0m\u001b[1;33m(\u001b[0m\u001b[1;34m'gm_2021.npz'\u001b[0m\u001b[1;33m)\u001b[0m \u001b[1;31m# ma'lumotlar (2021)\u001b[0m\u001b[1;33m\u001b[0m\u001b[1;33m\u001b[0m\u001b[0m\n\u001b[0;32m      4\u001b[0m \u001b[1;33m\u001b[0m\u001b[0m\n\u001b[1;32m----> 5\u001b[1;33m     \u001b[1;32mreturn\u001b[0m \u001b[0mdata1\u001b[0m\u001b[1;33m[\u001b[0m\u001b[1;34m'models'\u001b[0m\u001b[1;33m]\u001b[0m \u001b[1;32mand\u001b[0m \u001b[0mdata1\u001b[0m\u001b[1;33m[\u001b[0m\u001b[1;34m'qnts'\u001b[0m\u001b[1;33m]\u001b[0m\u001b[1;33m\u001b[0m\u001b[1;33m\u001b[0m\u001b[0m\n\u001b[0m",
      "\u001b[1;31mValueError\u001b[0m: The truth value of an array with more than one element is ambiguous. Use a.any() or a.all()"
     ]
    }
   ],
   "source": [
    "\"\"\"Funksiyani tekshirish\"\"\"\n",
    "sel_cars = sel_models() # 2020 va 2021 yillardagi ishlab chiqarilgan Damas, Nexia, Cobalt, va Gentra rusumli avtomabillar"
   ]
  },
  {
   "cell_type": "markdown",
   "id": "9f6d1f2f",
   "metadata": {},
   "source": [
    "### Masala(4): Ba'zi avtomabillarning ishlab chiqarilish sonlari umumiy ishlab chiqarilgan avtomabilarning qancha foizini tashkil etadi. (3-points)\n",
    "\n",
    "\n",
    "Yuqorida faqatgina `Damas`, `Nexia`, `Cobalt`, va `Gentra`rusumli avtomabillarni 2020 va 2021 yillarda qancha ishlab chiqarilganini barcha ma'lumotlardan ajratib oldik. \n",
    "\n",
    "\n",
    "**Masala :** Ana endilikda shu avtomabillarni jami ishlab chiqarilgan avtomabillarning qancha foizini tashkil etishini hisoblab ko'ramiz. Shu vazifani bajaruvchi funksiyani tuzing. \n",
    "\n",
    " **Yordam**: Masala(2)da jami avtomabillarning sonini hisoblab chiqgan edik, Masala(3)da esa ba'zi avtomabillarning sonini hisoblab topdik. Shu ma'lumotlardan foydalaning. \n",
    " \n",
    " **Hisoblash formulasi:** $$\\frac{Avtomabil\\;soni}{Jami\\; avtomabillar\\; soni}*100% $$\n",
    " \n",
    " \n",
    " **Natija**: (array([18.30871544, ..... 17.99990516]),\n",
    " array([27.00306252, ..... 21.0576106 ])) ko'rinishida bo'ladi\n",
    " \n",
    " Ya'ni, `Damas` rusumli avtomabil 2020 yilda jami ishlab chiqarishning 18.3% ni tashkil etadi 2021 yilda esa 27% ni tashkil etmoqda va h.k.\n",
    " "
   ]
  },
  {
   "cell_type": "code",
   "execution_count": null,
   "id": "0b198bf4",
   "metadata": {
    "deletable": false,
    "nbgrader": {
     "cell_type": "code",
     "checksum": "0991cfad612a48d6ecf9700169aa661b",
     "grade": false,
     "grade_id": "ratio",
     "locked": false,
     "schema_version": 3,
     "solution": true,
     "task": false
    }
   },
   "outputs": [],
   "source": [
    "def ratio_sel_models():\n",
    "    \"\"\"Ba'zi avtomabillarning ishlab chiqarish hajmi, jami ishlab chiqarilgan avtomabillar hajmining qanday \n",
    "    foizini egallashini hisoblash funksiyasi\"\"\"\n",
    "    # YOUR CODE HERE\n",
    "    raise NotImplementedError()"
   ]
  },
  {
   "cell_type": "markdown",
   "id": "0904f1eb",
   "metadata": {},
   "source": [
    "Funksiyangizni quyidagi cellda tekshirib oling. (Eslatma: Funksiya turli xil yashirin testlar orqali tekshiriladi, maslahatimiz, aldashga urinmang)"
   ]
  },
  {
   "cell_type": "code",
   "execution_count": null,
   "id": "5b23d1f0",
   "metadata": {
    "deletable": false,
    "editable": false,
    "nbgrader": {
     "cell_type": "code",
     "checksum": "d23a0fb1004da9ceb724db5e8fb4afd8",
     "grade": true,
     "grade_id": "ratio_correct",
     "locked": true,
     "points": 3,
     "schema_version": 3,
     "solution": false,
     "task": false
    }
   },
   "outputs": [],
   "source": [
    "\"\"\"Funksiyani tekshirish\"\"\"\n",
    "ratio_sel_cars = ratio_sel_models() # 2020 va 2021 yillardagi ishlab chiqarilgan ba'zi avtomabillarning foizdagi ulushi"
   ]
  }
 ],
 "metadata": {
  "kernelspec": {
   "display_name": "Python 3",
   "language": "python",
   "name": "python3"
  },
  "language_info": {
   "codemirror_mode": {
    "name": "ipython",
    "version": 3
   },
   "file_extension": ".py",
   "mimetype": "text/x-python",
   "name": "python",
   "nbconvert_exporter": "python",
   "pygments_lexer": "ipython3",
   "version": "3.8.7"
  }
 },
 "nbformat": 4,
 "nbformat_minor": 5
}
