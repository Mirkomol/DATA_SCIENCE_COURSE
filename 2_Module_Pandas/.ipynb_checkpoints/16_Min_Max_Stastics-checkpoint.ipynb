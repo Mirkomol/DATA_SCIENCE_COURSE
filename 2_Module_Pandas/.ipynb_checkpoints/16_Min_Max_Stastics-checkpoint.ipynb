{
 "cells": [
  {
   "cell_type": "code",
   "execution_count": 1,
   "id": "485ec91b",
   "metadata": {},
   "outputs": [],
   "source": [
    "import pandas as pd"
   ]
  },
  {
   "cell_type": "code",
   "execution_count": 2,
   "id": "ec216200",
   "metadata": {},
   "outputs": [],
   "source": [
    "import numpy as np"
   ]
  },
  {
   "cell_type": "code",
   "execution_count": 3,
   "id": "28cafb0a",
   "metadata": {},
   "outputs": [
    {
     "data": {
      "text/html": [
       "<div>\n",
       "<style scoped>\n",
       "    .dataframe tbody tr th:only-of-type {\n",
       "        vertical-align: middle;\n",
       "    }\n",
       "\n",
       "    .dataframe tbody tr th {\n",
       "        vertical-align: top;\n",
       "    }\n",
       "\n",
       "    .dataframe thead th {\n",
       "        text-align: right;\n",
       "    }\n",
       "</style>\n",
       "<table border=\"1\" class=\"dataframe\">\n",
       "  <thead>\n",
       "    <tr style=\"text-align: right;\">\n",
       "      <th></th>\n",
       "      <th>maydoni</th>\n",
       "      <th>aholisi</th>\n",
       "    </tr>\n",
       "    <tr>\n",
       "      <th>Boʻlinishi</th>\n",
       "      <th></th>\n",
       "      <th></th>\n",
       "    </tr>\n",
       "  </thead>\n",
       "  <tbody>\n",
       "    <tr>\n",
       "      <th>Andijon viloyati</th>\n",
       "      <td>4200.0</td>\n",
       "      <td>1899000.0</td>\n",
       "    </tr>\n",
       "    <tr>\n",
       "      <th>Buxoro viloyati</th>\n",
       "      <td>39400.0</td>\n",
       "      <td>1384700.0</td>\n",
       "    </tr>\n",
       "    <tr>\n",
       "      <th>Fargʻona viloyati</th>\n",
       "      <td>6800.0</td>\n",
       "      <td>2597000.0</td>\n",
       "    </tr>\n",
       "    <tr>\n",
       "      <th>Jizzax viloyati</th>\n",
       "      <td>20500.0</td>\n",
       "      <td>910500.0</td>\n",
       "    </tr>\n",
       "    <tr>\n",
       "      <th>Xorazm viloyati</th>\n",
       "      <td>6300.0</td>\n",
       "      <td>1200000.0</td>\n",
       "    </tr>\n",
       "    <tr>\n",
       "      <th>Namangan viloyati</th>\n",
       "      <td>7900.0</td>\n",
       "      <td>1862000.0</td>\n",
       "    </tr>\n",
       "    <tr>\n",
       "      <th>Navoiy viloyati</th>\n",
       "      <td>110800.0</td>\n",
       "      <td>767500.0</td>\n",
       "    </tr>\n",
       "    <tr>\n",
       "      <th>Qashqadaryo viloyati</th>\n",
       "      <td>28400.0</td>\n",
       "      <td>2029000.0</td>\n",
       "    </tr>\n",
       "    <tr>\n",
       "      <th>Qoraqalpogʻiston Respublikasi</th>\n",
       "      <td>160000.0</td>\n",
       "      <td>1200000.0</td>\n",
       "    </tr>\n",
       "    <tr>\n",
       "      <th>Samarqand viloyati</th>\n",
       "      <td>16400.0</td>\n",
       "      <td>2322000.0</td>\n",
       "    </tr>\n",
       "    <tr>\n",
       "      <th>Sirdaryo viloyati</th>\n",
       "      <td>5100.0</td>\n",
       "      <td>648100.0</td>\n",
       "    </tr>\n",
       "    <tr>\n",
       "      <th>Surxondaryo viloyati</th>\n",
       "      <td>20800.0</td>\n",
       "      <td>1676000.0</td>\n",
       "    </tr>\n",
       "    <tr>\n",
       "      <th>Toshkent viloyati</th>\n",
       "      <td>15300.0</td>\n",
       "      <td>4450000.0</td>\n",
       "    </tr>\n",
       "  </tbody>\n",
       "</table>\n",
       "</div>"
      ],
      "text/plain": [
       "                                maydoni    aholisi\n",
       "Boʻlinishi                                        \n",
       "Andijon viloyati                 4200.0  1899000.0\n",
       "Buxoro viloyati                 39400.0  1384700.0\n",
       "Fargʻona viloyati                6800.0  2597000.0\n",
       "Jizzax viloyati                 20500.0   910500.0\n",
       "Xorazm viloyati                  6300.0  1200000.0\n",
       "Namangan viloyati                7900.0  1862000.0\n",
       "Navoiy viloyati                110800.0   767500.0\n",
       "Qashqadaryo viloyati            28400.0  2029000.0\n",
       "Qoraqalpogʻiston Respublikasi  160000.0  1200000.0\n",
       "Samarqand viloyati              16400.0  2322000.0\n",
       "Sirdaryo viloyati                5100.0   648100.0\n",
       "Surxondaryo viloyati            20800.0  1676000.0\n",
       "Toshkent viloyati               15300.0  4450000.0"
      ]
     },
     "execution_count": 3,
     "metadata": {},
     "output_type": "execute_result"
    }
   ],
   "source": [
    "# Keyingi mashqlar uchun ma'lumotlarni Githubdan yuklab olamiz\n",
    "df = pd.read_csv('https://raw.githubusercontent.com/anvarnarz/praktikum_datasets/main/uzbekistan.csv', index_col=0)\n",
    "df.columns = ['maydoni','aholisi']\n",
    "df"
   ]
  },
  {
   "cell_type": "code",
   "execution_count": 4,
   "id": "7a04362f",
   "metadata": {},
   "outputs": [
    {
     "data": {
      "text/plain": [
       "maydoni      441900.0\n",
       "aholisi    22945800.0\n",
       "dtype: float64"
      ]
     },
     "execution_count": 4,
     "metadata": {},
     "output_type": "execute_result"
    }
   ],
   "source": [
    "df.sum()"
   ]
  },
  {
   "cell_type": "code",
   "execution_count": 5,
   "id": "7b9efea5",
   "metadata": {},
   "outputs": [
    {
     "data": {
      "text/html": [
       "<div>\n",
       "<style scoped>\n",
       "    .dataframe tbody tr th:only-of-type {\n",
       "        vertical-align: middle;\n",
       "    }\n",
       "\n",
       "    .dataframe tbody tr th {\n",
       "        vertical-align: top;\n",
       "    }\n",
       "\n",
       "    .dataframe thead th {\n",
       "        text-align: right;\n",
       "    }\n",
       "</style>\n",
       "<table border=\"1\" class=\"dataframe\">\n",
       "  <thead>\n",
       "    <tr style=\"text-align: right;\">\n",
       "      <th></th>\n",
       "      <th>2020</th>\n",
       "      <th>2021</th>\n",
       "    </tr>\n",
       "  </thead>\n",
       "  <tbody>\n",
       "    <tr>\n",
       "      <th>Labo</th>\n",
       "      <td>4521</td>\n",
       "      <td>7542</td>\n",
       "    </tr>\n",
       "    <tr>\n",
       "      <th>Damas</th>\n",
       "      <td>30889</td>\n",
       "      <td>33682</td>\n",
       "    </tr>\n",
       "    <tr>\n",
       "      <th>Spark</th>\n",
       "      <td>16370</td>\n",
       "      <td>6485</td>\n",
       "    </tr>\n",
       "    <tr>\n",
       "      <th>Nexia</th>\n",
       "      <td>41663</td>\n",
       "      <td>14442</td>\n",
       "    </tr>\n",
       "    <tr>\n",
       "      <th>Cobalt</th>\n",
       "      <td>44901</td>\n",
       "      <td>36317</td>\n",
       "    </tr>\n",
       "  </tbody>\n",
       "</table>\n",
       "</div>"
      ],
      "text/plain": [
       "         2020   2021\n",
       "Labo     4521   7542\n",
       "Damas   30889  33682\n",
       "Spark   16370   6485\n",
       "Nexia   41663  14442\n",
       "Cobalt  44901  36317"
      ]
     },
     "execution_count": 5,
     "metadata": {},
     "output_type": "execute_result"
    }
   ],
   "source": [
    "df2 = pd.read_csv(\"https://raw.githubusercontent.com/anvarnarz/praktikum_datasets/main/gm_sales.csv\", index_col=0)\n",
    "df2.head()"
   ]
  },
  {
   "cell_type": "code",
   "execution_count": 7,
   "id": "c4d636dd",
   "metadata": {},
   "outputs": [
    {
     "data": {
      "text/plain": [
       "2020    168712\n",
       "2021    124734\n",
       "dtype: int64"
      ]
     },
     "execution_count": 7,
     "metadata": {},
     "output_type": "execute_result"
    }
   ],
   "source": [
    "df2.sum()"
   ]
  },
  {
   "cell_type": "code",
   "execution_count": 8,
   "id": "a9ffe846",
   "metadata": {},
   "outputs": [
    {
     "data": {
      "text/plain": [
       "Labo      12063\n",
       "Damas     64571\n",
       "Spark     22855\n",
       "Nexia     56105\n",
       "Cobalt    81218\n",
       "Gentra    56634\n",
       "dtype: int64"
      ]
     },
     "execution_count": 8,
     "metadata": {},
     "output_type": "execute_result"
    }
   ],
   "source": [
    "df2.sum(axis=1) # axis = columns"
   ]
  },
  {
   "cell_type": "code",
   "execution_count": 10,
   "id": "ed4fbdae",
   "metadata": {},
   "outputs": [
    {
     "data": {
      "text/plain": [
       "Labo       6031.5\n",
       "Damas     32285.5\n",
       "Spark     11427.5\n",
       "Nexia     28052.5\n",
       "Cobalt    40609.0\n",
       "Gentra    28317.0\n",
       "dtype: float64"
      ]
     },
     "execution_count": 10,
     "metadata": {},
     "output_type": "execute_result"
    }
   ],
   "source": [
    "df2.mean(axis = 'columns')"
   ]
  },
  {
   "cell_type": "code",
   "execution_count": 11,
   "id": "28eed636",
   "metadata": {},
   "outputs": [
    {
     "data": {
      "text/html": [
       "<div>\n",
       "<style scoped>\n",
       "    .dataframe tbody tr th:only-of-type {\n",
       "        vertical-align: middle;\n",
       "    }\n",
       "\n",
       "    .dataframe tbody tr th {\n",
       "        vertical-align: top;\n",
       "    }\n",
       "\n",
       "    .dataframe thead th {\n",
       "        text-align: right;\n",
       "    }\n",
       "</style>\n",
       "<table border=\"1\" class=\"dataframe\">\n",
       "  <thead>\n",
       "    <tr style=\"text-align: right;\">\n",
       "      <th></th>\n",
       "      <th>maydoni</th>\n",
       "      <th>aholisi</th>\n",
       "    </tr>\n",
       "    <tr>\n",
       "      <th>Boʻlinishi</th>\n",
       "      <th></th>\n",
       "      <th></th>\n",
       "    </tr>\n",
       "  </thead>\n",
       "  <tbody>\n",
       "    <tr>\n",
       "      <th>Andijon viloyati</th>\n",
       "      <td>4200.0</td>\n",
       "      <td>1899000.0</td>\n",
       "    </tr>\n",
       "    <tr>\n",
       "      <th>Buxoro viloyati</th>\n",
       "      <td>39400.0</td>\n",
       "      <td>1384700.0</td>\n",
       "    </tr>\n",
       "    <tr>\n",
       "      <th>Fargʻona viloyati</th>\n",
       "      <td>6800.0</td>\n",
       "      <td>2597000.0</td>\n",
       "    </tr>\n",
       "    <tr>\n",
       "      <th>Jizzax viloyati</th>\n",
       "      <td>20500.0</td>\n",
       "      <td>910500.0</td>\n",
       "    </tr>\n",
       "    <tr>\n",
       "      <th>Xorazm viloyati</th>\n",
       "      <td>6300.0</td>\n",
       "      <td>1200000.0</td>\n",
       "    </tr>\n",
       "    <tr>\n",
       "      <th>Namangan viloyati</th>\n",
       "      <td>7900.0</td>\n",
       "      <td>1862000.0</td>\n",
       "    </tr>\n",
       "    <tr>\n",
       "      <th>Navoiy viloyati</th>\n",
       "      <td>110800.0</td>\n",
       "      <td>767500.0</td>\n",
       "    </tr>\n",
       "    <tr>\n",
       "      <th>Qashqadaryo viloyati</th>\n",
       "      <td>28400.0</td>\n",
       "      <td>2029000.0</td>\n",
       "    </tr>\n",
       "    <tr>\n",
       "      <th>Qoraqalpogʻiston Respublikasi</th>\n",
       "      <td>160000.0</td>\n",
       "      <td>1200000.0</td>\n",
       "    </tr>\n",
       "    <tr>\n",
       "      <th>Samarqand viloyati</th>\n",
       "      <td>16400.0</td>\n",
       "      <td>2322000.0</td>\n",
       "    </tr>\n",
       "    <tr>\n",
       "      <th>Sirdaryo viloyati</th>\n",
       "      <td>5100.0</td>\n",
       "      <td>648100.0</td>\n",
       "    </tr>\n",
       "    <tr>\n",
       "      <th>Surxondaryo viloyati</th>\n",
       "      <td>20800.0</td>\n",
       "      <td>1676000.0</td>\n",
       "    </tr>\n",
       "    <tr>\n",
       "      <th>Toshkent viloyati</th>\n",
       "      <td>15300.0</td>\n",
       "      <td>4450000.0</td>\n",
       "    </tr>\n",
       "  </tbody>\n",
       "</table>\n",
       "</div>"
      ],
      "text/plain": [
       "                                maydoni    aholisi\n",
       "Boʻlinishi                                        \n",
       "Andijon viloyati                 4200.0  1899000.0\n",
       "Buxoro viloyati                 39400.0  1384700.0\n",
       "Fargʻona viloyati                6800.0  2597000.0\n",
       "Jizzax viloyati                 20500.0   910500.0\n",
       "Xorazm viloyati                  6300.0  1200000.0\n",
       "Namangan viloyati                7900.0  1862000.0\n",
       "Navoiy viloyati                110800.0   767500.0\n",
       "Qashqadaryo viloyati            28400.0  2029000.0\n",
       "Qoraqalpogʻiston Respublikasi  160000.0  1200000.0\n",
       "Samarqand viloyati              16400.0  2322000.0\n",
       "Sirdaryo viloyati                5100.0   648100.0\n",
       "Surxondaryo viloyati            20800.0  1676000.0\n",
       "Toshkent viloyati               15300.0  4450000.0"
      ]
     },
     "execution_count": 11,
     "metadata": {},
     "output_type": "execute_result"
    }
   ],
   "source": [
    "df"
   ]
  },
  {
   "cell_type": "code",
   "execution_count": 12,
   "id": "773bf6e9",
   "metadata": {},
   "outputs": [
    {
     "data": {
      "text/plain": [
       "maydoni    3.399231e+04\n",
       "aholisi    1.765062e+06\n",
       "dtype: float64"
      ]
     },
     "execution_count": 12,
     "metadata": {},
     "output_type": "execute_result"
    }
   ],
   "source": [
    "df.mean()"
   ]
  },
  {
   "cell_type": "code",
   "execution_count": 16,
   "id": "21aac77f",
   "metadata": {},
   "outputs": [
    {
     "data": {
      "text/plain": [
       "maydoni    1.538590e+55\n",
       "aholisi    2.913892e+80\n",
       "dtype: float64"
      ]
     },
     "execution_count": 16,
     "metadata": {},
     "output_type": "execute_result"
    }
   ],
   "source": [
    "df.prod()"
   ]
  },
  {
   "cell_type": "code",
   "execution_count": 18,
   "id": "9b3eca22",
   "metadata": {},
   "outputs": [
    {
     "data": {
      "text/plain": [
       "maydoni     Andijon viloyati\n",
       "aholisi    Sirdaryo viloyati\n",
       "dtype: object"
      ]
     },
     "execution_count": 18,
     "metadata": {},
     "output_type": "execute_result"
    }
   ],
   "source": [
    "df.idxmin() # show index that minimum"
   ]
  },
  {
   "cell_type": "code",
   "execution_count": 20,
   "id": "439e770b",
   "metadata": {},
   "outputs": [
    {
     "data": {
      "text/plain": [
       "maydoni    Qoraqalpogʻiston Respublikasi\n",
       "aholisi                Toshkent viloyati\n",
       "dtype: object"
      ]
     },
     "execution_count": 20,
     "metadata": {},
     "output_type": "execute_result"
    }
   ],
   "source": [
    "df.idxmax() #show id max"
   ]
  },
  {
   "cell_type": "code",
   "execution_count": 22,
   "id": "931e862f",
   "metadata": {},
   "outputs": [
    {
     "data": {
      "text/plain": [
       "'Andijon viloyati'"
      ]
     },
     "execution_count": 22,
     "metadata": {},
     "output_type": "execute_result"
    }
   ],
   "source": [
    "df['maydoni'].idxmin()"
   ]
  },
  {
   "cell_type": "code",
   "execution_count": 23,
   "id": "cabe26ab",
   "metadata": {},
   "outputs": [
    {
     "data": {
      "text/plain": [
       "10"
      ]
     },
     "execution_count": 23,
     "metadata": {},
     "output_type": "execute_result"
    }
   ],
   "source": [
    "df['aholisi'].argmin() # show index that min"
   ]
  },
  {
   "cell_type": "code",
   "execution_count": 24,
   "id": "22d8d51b",
   "metadata": {},
   "outputs": [
    {
     "data": {
      "text/plain": [
       "maydoni      5100.0\n",
       "aholisi    648100.0\n",
       "Name: Sirdaryo viloyati, dtype: float64"
      ]
     },
     "execution_count": 24,
     "metadata": {},
     "output_type": "execute_result"
    }
   ],
   "source": [
    "df.iloc[10]"
   ]
  },
  {
   "cell_type": "code",
   "execution_count": null,
   "id": "5ae86e5e",
   "metadata": {},
   "outputs": [],
   "source": []
  }
 ],
 "metadata": {
  "kernelspec": {
   "display_name": "Python 3",
   "language": "python",
   "name": "python3"
  },
  "language_info": {
   "codemirror_mode": {
    "name": "ipython",
    "version": 3
   },
   "file_extension": ".py",
   "mimetype": "text/x-python",
   "name": "python",
   "nbconvert_exporter": "python",
   "pygments_lexer": "ipython3",
   "version": "3.8.7"
  }
 },
 "nbformat": 4,
 "nbformat_minor": 5
}
