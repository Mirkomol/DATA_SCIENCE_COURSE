{
 "cells": [
  {
   "cell_type": "code",
   "execution_count": 2,
   "id": "6566928d",
   "metadata": {},
   "outputs": [],
   "source": [
    "import numpy as np"
   ]
  },
  {
   "cell_type": "code",
   "execution_count": 3,
   "id": "5ec54c1a",
   "metadata": {},
   "outputs": [],
   "source": [
    "import pandas as pd\n"
   ]
  },
  {
   "cell_type": "code",
   "execution_count": 4,
   "id": "96497956",
   "metadata": {},
   "outputs": [],
   "source": [
    "from pandas import Series"
   ]
  },
  {
   "cell_type": "code",
   "execution_count": 5,
   "id": "c3238fea",
   "metadata": {},
   "outputs": [],
   "source": [
    "cars_dict = {'Malibu':100,'Laccetii':200,'Honda':3880}"
   ]
  },
  {
   "cell_type": "code",
   "execution_count": 6,
   "id": "373a2a43",
   "metadata": {},
   "outputs": [
    {
     "data": {
      "text/plain": [
       "dict"
      ]
     },
     "execution_count": 6,
     "metadata": {},
     "output_type": "execute_result"
    }
   ],
   "source": [
    "type(cars_dict)"
   ]
  },
  {
   "cell_type": "code",
   "execution_count": 7,
   "id": "1e04a256",
   "metadata": {},
   "outputs": [],
   "source": [
    "cars1 = Series(cars_dict)"
   ]
  },
  {
   "cell_type": "code",
   "execution_count": 8,
   "id": "9c50eea0",
   "metadata": {},
   "outputs": [
    {
     "data": {
      "text/plain": [
       "Malibu       100\n",
       "Laccetii     200\n",
       "Honda       3880\n",
       "dtype: int64"
      ]
     },
     "execution_count": 8,
     "metadata": {},
     "output_type": "execute_result"
    }
   ],
   "source": [
    "cars1\n"
   ]
  },
  {
   "cell_type": "code",
   "execution_count": 9,
   "id": "733d799c",
   "metadata": {},
   "outputs": [
    {
     "data": {
      "text/plain": [
       "True"
      ]
     },
     "execution_count": 9,
     "metadata": {},
     "output_type": "execute_result"
    }
   ],
   "source": [
    "'Honda' in cars1"
   ]
  },
  {
   "cell_type": "code",
   "execution_count": 10,
   "id": "50340ad7",
   "metadata": {},
   "outputs": [
    {
     "data": {
      "text/plain": [
       "100"
      ]
     },
     "execution_count": 10,
     "metadata": {},
     "output_type": "execute_result"
    }
   ],
   "source": [
    "cars1['Malibu']"
   ]
  },
  {
   "cell_type": "code",
   "execution_count": 19,
   "id": "92bfe12a",
   "metadata": {},
   "outputs": [],
   "source": [
    "models=['Honda','Laceti' ,'Mazda','Jaguar','Malibu']\n"
   ]
  },
  {
   "cell_type": "code",
   "execution_count": 20,
   "id": "7e8ca1a7",
   "metadata": {},
   "outputs": [],
   "source": [
    "cars2 = Series(cars_dict,index=models)"
   ]
  },
  {
   "cell_type": "code",
   "execution_count": 21,
   "id": "470d2f2e",
   "metadata": {},
   "outputs": [
    {
     "data": {
      "text/plain": [
       "Honda     3880.0\n",
       "Laceti       NaN\n",
       "Mazda        NaN\n",
       "Jaguar       NaN\n",
       "Malibu     100.0\n",
       "dtype: float64"
      ]
     },
     "execution_count": 21,
     "metadata": {},
     "output_type": "execute_result"
    }
   ],
   "source": [
    "cars2"
   ]
  },
  {
   "cell_type": "markdown",
   "id": "dd92054d",
   "metadata": {},
   "source": [
    "# Method\n"
   ]
  },
  {
   "cell_type": "code",
   "execution_count": 22,
   "id": "a3dc43c6",
   "metadata": {},
   "outputs": [
    {
     "data": {
      "text/plain": [
       "Honda     False\n",
       "Laceti     True\n",
       "Mazda      True\n",
       "Jaguar     True\n",
       "Malibu    False\n",
       "dtype: bool"
      ]
     },
     "execution_count": 22,
     "metadata": {},
     "output_type": "execute_result"
    }
   ],
   "source": [
    "cars2.isnull()"
   ]
  },
  {
   "cell_type": "code",
   "execution_count": 23,
   "id": "083f5d9c",
   "metadata": {},
   "outputs": [
    {
     "data": {
      "text/plain": [
       "Honda      True\n",
       "Laceti    False\n",
       "Mazda     False\n",
       "Jaguar    False\n",
       "Malibu     True\n",
       "dtype: bool"
      ]
     },
     "execution_count": 23,
     "metadata": {},
     "output_type": "execute_result"
    }
   ],
   "source": [
    "cars2.notnull()"
   ]
  },
  {
   "cell_type": "code",
   "execution_count": 24,
   "id": "734b8bc8",
   "metadata": {},
   "outputs": [
    {
     "data": {
      "text/plain": [
       "Honda     3880.0\n",
       "Laceti       NaN\n",
       "Mazda        NaN\n",
       "Jaguar       NaN\n",
       "Malibu     100.0\n",
       "dtype: float64"
      ]
     },
     "execution_count": 24,
     "metadata": {},
     "output_type": "execute_result"
    }
   ],
   "source": [
    "cars2"
   ]
  },
  {
   "cell_type": "code",
   "execution_count": 26,
   "id": "4b2e45c9",
   "metadata": {},
   "outputs": [
    {
     "data": {
      "text/plain": [
       "Malibu       100\n",
       "Laccetii     200\n",
       "Honda       3880\n",
       "dtype: int64"
      ]
     },
     "execution_count": 26,
     "metadata": {},
     "output_type": "execute_result"
    }
   ],
   "source": [
    "cars1\n"
   ]
  },
  {
   "cell_type": "code",
   "execution_count": 27,
   "id": "52b08032",
   "metadata": {},
   "outputs": [
    {
     "data": {
      "text/plain": [
       "Honda       7760.0\n",
       "Jaguar         NaN\n",
       "Laccetii       NaN\n",
       "Laceti         NaN\n",
       "Malibu       200.0\n",
       "Mazda          NaN\n",
       "dtype: float64"
      ]
     },
     "execution_count": 27,
     "metadata": {},
     "output_type": "execute_result"
    }
   ],
   "source": [
    "cars1+cars2"
   ]
  },
  {
   "cell_type": "code",
   "execution_count": 28,
   "id": "5823994f",
   "metadata": {},
   "outputs": [],
   "source": [
    "cars2.name = 'Avtosalon'"
   ]
  },
  {
   "cell_type": "code",
   "execution_count": 30,
   "id": "9bbb20d0",
   "metadata": {},
   "outputs": [],
   "source": [
    "cars2.index.name = 'Modellar'"
   ]
  },
  {
   "cell_type": "code",
   "execution_count": 31,
   "id": "bccb51fc",
   "metadata": {},
   "outputs": [
    {
     "data": {
      "text/plain": [
       "Modellar\n",
       "Honda     3880.0\n",
       "Laceti       NaN\n",
       "Mazda        NaN\n",
       "Jaguar       NaN\n",
       "Malibu     100.0\n",
       "Name: Avtosalon, dtype: float64"
      ]
     },
     "execution_count": 31,
     "metadata": {},
     "output_type": "execute_result"
    }
   ],
   "source": [
    "cars2"
   ]
  },
  {
   "cell_type": "code",
   "execution_count": null,
   "id": "abe265c2",
   "metadata": {},
   "outputs": [],
   "source": []
  }
 ],
 "metadata": {
  "kernelspec": {
   "display_name": "Python 3",
   "language": "python",
   "name": "python3"
  },
  "language_info": {
   "codemirror_mode": {
    "name": "ipython",
    "version": 3
   },
   "file_extension": ".py",
   "mimetype": "text/x-python",
   "name": "python",
   "nbconvert_exporter": "python",
   "pygments_lexer": "ipython3",
   "version": "3.8.7"
  }
 },
 "nbformat": 4,
 "nbformat_minor": 5
}
