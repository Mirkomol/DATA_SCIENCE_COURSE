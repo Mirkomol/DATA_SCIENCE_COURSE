{
 "cells": [
  {
   "cell_type": "code",
   "execution_count": 1,
   "id": "e4a61c37",
   "metadata": {},
   "outputs": [],
   "source": [
    "import pandas as pd"
   ]
  },
  {
   "cell_type": "code",
   "execution_count": 2,
   "id": "3e678980",
   "metadata": {},
   "outputs": [],
   "source": [
    "usernames = {\"Anvar\":\"anvar123\",\"Olim\":\"Olimtoy\",\"Maryam\":\"Mary1234\",\"Javohir\":\"Javohir123\"}\n",
    "emails =  {\"Anvar\":\"anvar@gmail.com\",\"Olim\":\"Olim@mail.ru\",\"Maryam\":\"Mary33@gmail.com\",\"Javohir\":\"javohir13@gmail.comn\"}\n",
    "\n",
    "data = {\n",
    "    'username' : usernames,\n",
    "    'email':emails\n",
    "}\n",
    "df = pd.DataFrame(data)"
   ]
  },
  {
   "cell_type": "code",
   "execution_count": 3,
   "id": "1780ceb5",
   "metadata": {},
   "outputs": [
    {
     "data": {
      "text/html": [
       "<div>\n",
       "<style scoped>\n",
       "    .dataframe tbody tr th:only-of-type {\n",
       "        vertical-align: middle;\n",
       "    }\n",
       "\n",
       "    .dataframe tbody tr th {\n",
       "        vertical-align: top;\n",
       "    }\n",
       "\n",
       "    .dataframe thead th {\n",
       "        text-align: right;\n",
       "    }\n",
       "</style>\n",
       "<table border=\"1\" class=\"dataframe\">\n",
       "  <thead>\n",
       "    <tr style=\"text-align: right;\">\n",
       "      <th></th>\n",
       "      <th>username</th>\n",
       "      <th>email</th>\n",
       "    </tr>\n",
       "  </thead>\n",
       "  <tbody>\n",
       "    <tr>\n",
       "      <th>Anvar</th>\n",
       "      <td>anvar123</td>\n",
       "      <td>anvar@gmail.com</td>\n",
       "    </tr>\n",
       "    <tr>\n",
       "      <th>Olim</th>\n",
       "      <td>Olimtoy</td>\n",
       "      <td>Olim@mail.ru</td>\n",
       "    </tr>\n",
       "    <tr>\n",
       "      <th>Maryam</th>\n",
       "      <td>Mary1234</td>\n",
       "      <td>Mary33@gmail.com</td>\n",
       "    </tr>\n",
       "    <tr>\n",
       "      <th>Javohir</th>\n",
       "      <td>Javohir123</td>\n",
       "      <td>javohir13@gmail.comn</td>\n",
       "    </tr>\n",
       "  </tbody>\n",
       "</table>\n",
       "</div>"
      ],
      "text/plain": [
       "           username                 email\n",
       "Anvar      anvar123       anvar@gmail.com\n",
       "Olim        Olimtoy          Olim@mail.ru\n",
       "Maryam     Mary1234      Mary33@gmail.com\n",
       "Javohir  Javohir123  javohir13@gmail.comn"
      ]
     },
     "execution_count": 3,
     "metadata": {},
     "output_type": "execute_result"
    }
   ],
   "source": [
    "df\n"
   ]
  },
  {
   "cell_type": "code",
   "execution_count": 4,
   "id": "acb3943b",
   "metadata": {},
   "outputs": [
    {
     "data": {
      "text/plain": [
       "Index(['Anvar', 'Olim', 'Maryam', 'Javohir'], dtype='object')"
      ]
     },
     "execution_count": 4,
     "metadata": {},
     "output_type": "execute_result"
    }
   ],
   "source": [
    "df.index"
   ]
  },
  {
   "cell_type": "code",
   "execution_count": 5,
   "id": "467f4f7f",
   "metadata": {},
   "outputs": [],
   "source": [
    "arr = ['Anvar', 'Olim', 'Maryam', 'Javohir']"
   ]
  },
  {
   "cell_type": "code",
   "execution_count": 6,
   "id": "bda9bc9a",
   "metadata": {},
   "outputs": [
    {
     "data": {
      "text/plain": [
       "'Anvar'"
      ]
     },
     "execution_count": 6,
     "metadata": {},
     "output_type": "execute_result"
    }
   ],
   "source": []
  },
  {
   "cell_type": "code",
   "execution_count": 7,
   "id": "0a0761c4",
   "metadata": {},
   "outputs": [
    {
     "data": {
      "text/plain": [
       "'Olim'"
      ]
     },
     "execution_count": 7,
     "metadata": {},
     "output_type": "execute_result"
    }
   ],
   "source": []
  },
  {
   "cell_type": "code",
   "execution_count": 9,
   "id": "fa2163c1",
   "metadata": {},
   "outputs": [],
   "source": [
    "data2 = {\n",
    "    'username':{\"Olim\":\"olimjom12\", \"Maryam\":\"Mary1234\"},\n",
    "    'email':{\"Olim\":\"Olim@mail.ru\", \"Maryam\":\"Mary33@gmail.com\"}\n",
    "    \n",
    "}"
   ]
  },
  {
   "cell_type": "code",
   "execution_count": 10,
   "id": "f3630ca1",
   "metadata": {},
   "outputs": [],
   "source": [
    "df2 = df.append(pd.DataFrame(data2))"
   ]
  },
  {
   "cell_type": "code",
   "execution_count": 11,
   "id": "cdf49187",
   "metadata": {},
   "outputs": [
    {
     "data": {
      "text/html": [
       "<div>\n",
       "<style scoped>\n",
       "    .dataframe tbody tr th:only-of-type {\n",
       "        vertical-align: middle;\n",
       "    }\n",
       "\n",
       "    .dataframe tbody tr th {\n",
       "        vertical-align: top;\n",
       "    }\n",
       "\n",
       "    .dataframe thead th {\n",
       "        text-align: right;\n",
       "    }\n",
       "</style>\n",
       "<table border=\"1\" class=\"dataframe\">\n",
       "  <thead>\n",
       "    <tr style=\"text-align: right;\">\n",
       "      <th></th>\n",
       "      <th>username</th>\n",
       "      <th>email</th>\n",
       "    </tr>\n",
       "  </thead>\n",
       "  <tbody>\n",
       "    <tr>\n",
       "      <th>Anvar</th>\n",
       "      <td>anvar123</td>\n",
       "      <td>anvar@gmail.com</td>\n",
       "    </tr>\n",
       "    <tr>\n",
       "      <th>Olim</th>\n",
       "      <td>Olimtoy</td>\n",
       "      <td>Olim@mail.ru</td>\n",
       "    </tr>\n",
       "    <tr>\n",
       "      <th>Maryam</th>\n",
       "      <td>Mary1234</td>\n",
       "      <td>Mary33@gmail.com</td>\n",
       "    </tr>\n",
       "    <tr>\n",
       "      <th>Javohir</th>\n",
       "      <td>Javohir123</td>\n",
       "      <td>javohir13@gmail.comn</td>\n",
       "    </tr>\n",
       "    <tr>\n",
       "      <th>Olim</th>\n",
       "      <td>olimjom12</td>\n",
       "      <td>Olim@mail.ru</td>\n",
       "    </tr>\n",
       "    <tr>\n",
       "      <th>Maryam</th>\n",
       "      <td>Mary1234</td>\n",
       "      <td>Mary33@gmail.com</td>\n",
       "    </tr>\n",
       "  </tbody>\n",
       "</table>\n",
       "</div>"
      ],
      "text/plain": [
       "           username                 email\n",
       "Anvar      anvar123       anvar@gmail.com\n",
       "Olim        Olimtoy          Olim@mail.ru\n",
       "Maryam     Mary1234      Mary33@gmail.com\n",
       "Javohir  Javohir123  javohir13@gmail.comn\n",
       "Olim      olimjom12          Olim@mail.ru\n",
       "Maryam     Mary1234      Mary33@gmail.com"
      ]
     },
     "execution_count": 11,
     "metadata": {},
     "output_type": "execute_result"
    }
   ],
   "source": [
    "df2"
   ]
  },
  {
   "cell_type": "code",
   "execution_count": 18,
   "id": "f91e2071",
   "metadata": {},
   "outputs": [],
   "source": [
    "newind = pd.Index(['Olim','nafisa','hamida'])"
   ]
  },
  {
   "cell_type": "code",
   "execution_count": 19,
   "id": "d0892e9f",
   "metadata": {},
   "outputs": [
    {
     "data": {
      "text/plain": [
       "Index(['Olim', 'nafisa', 'hamida'], dtype='object')"
      ]
     },
     "execution_count": 19,
     "metadata": {},
     "output_type": "execute_result"
    }
   ],
   "source": [
    "newind"
   ]
  },
  {
   "cell_type": "code",
   "execution_count": null,
   "id": "fea8bcfe",
   "metadata": {},
   "outputs": [],
   "source": []
  },
  {
   "cell_type": "code",
   "execution_count": 20,
   "id": "8c31abe3",
   "metadata": {},
   "outputs": [
    {
     "data": {
      "text/plain": [
       "array([ True, False, False])"
      ]
     },
     "execution_count": 20,
     "metadata": {},
     "output_type": "execute_result"
    }
   ],
   "source": [
    "newind.isin(df2.index) # check index is exists"
   ]
  },
  {
   "cell_type": "code",
   "execution_count": 21,
   "id": "f8bdf345",
   "metadata": {},
   "outputs": [
    {
     "data": {
      "text/plain": [
       "Index(['Anvar', 'Javohir', 'Maryam'], dtype='object')"
      ]
     },
     "execution_count": 21,
     "metadata": {},
     "output_type": "execute_result"
    }
   ],
   "source": [
    "df2.index.difference(newind)"
   ]
  },
  {
   "cell_type": "code",
   "execution_count": 22,
   "id": "4b5b2e56",
   "metadata": {},
   "outputs": [
    {
     "data": {
      "text/plain": [
       "Index(['hamida', 'nafisa'], dtype='object')"
      ]
     },
     "execution_count": 22,
     "metadata": {},
     "output_type": "execute_result"
    }
   ],
   "source": [
    "newind.difference(df2.index) # show difference"
   ]
  },
  {
   "cell_type": "code",
   "execution_count": 24,
   "id": "b9d2477c",
   "metadata": {},
   "outputs": [
    {
     "data": {
      "text/plain": [
       "Index(['Anvar', 'Javohir', 'Maryam', 'Maryam', 'Olim', 'Olim', 'hamida',\n",
       "       'nafisa'],\n",
       "      dtype='object')"
      ]
     },
     "execution_count": 24,
     "metadata": {},
     "output_type": "execute_result"
    }
   ],
   "source": [
    "df2.index.union(newind) #union two index"
   ]
  },
  {
   "cell_type": "code",
   "execution_count": 25,
   "id": "88f09805",
   "metadata": {},
   "outputs": [
    {
     "data": {
      "text/html": [
       "<div>\n",
       "<style scoped>\n",
       "    .dataframe tbody tr th:only-of-type {\n",
       "        vertical-align: middle;\n",
       "    }\n",
       "\n",
       "    .dataframe tbody tr th {\n",
       "        vertical-align: top;\n",
       "    }\n",
       "\n",
       "    .dataframe thead th {\n",
       "        text-align: right;\n",
       "    }\n",
       "</style>\n",
       "<table border=\"1\" class=\"dataframe\">\n",
       "  <thead>\n",
       "    <tr style=\"text-align: right;\">\n",
       "      <th></th>\n",
       "      <th>username</th>\n",
       "      <th>email</th>\n",
       "    </tr>\n",
       "  </thead>\n",
       "  <tbody>\n",
       "    <tr>\n",
       "      <th>Anvar</th>\n",
       "      <td>anvar123</td>\n",
       "      <td>anvar@gmail.com</td>\n",
       "    </tr>\n",
       "    <tr>\n",
       "      <th>Olim</th>\n",
       "      <td>Olimtoy</td>\n",
       "      <td>Olim@mail.ru</td>\n",
       "    </tr>\n",
       "    <tr>\n",
       "      <th>Maryam</th>\n",
       "      <td>Mary1234</td>\n",
       "      <td>Mary33@gmail.com</td>\n",
       "    </tr>\n",
       "    <tr>\n",
       "      <th>Javohir</th>\n",
       "      <td>Javohir123</td>\n",
       "      <td>javohir13@gmail.comn</td>\n",
       "    </tr>\n",
       "    <tr>\n",
       "      <th>Olim</th>\n",
       "      <td>olimjom12</td>\n",
       "      <td>Olim@mail.ru</td>\n",
       "    </tr>\n",
       "    <tr>\n",
       "      <th>Maryam</th>\n",
       "      <td>Mary1234</td>\n",
       "      <td>Mary33@gmail.com</td>\n",
       "    </tr>\n",
       "  </tbody>\n",
       "</table>\n",
       "</div>"
      ],
      "text/plain": [
       "           username                 email\n",
       "Anvar      anvar123       anvar@gmail.com\n",
       "Olim        Olimtoy          Olim@mail.ru\n",
       "Maryam     Mary1234      Mary33@gmail.com\n",
       "Javohir  Javohir123  javohir13@gmail.comn\n",
       "Olim      olimjom12          Olim@mail.ru\n",
       "Maryam     Mary1234      Mary33@gmail.com"
      ]
     },
     "execution_count": 25,
     "metadata": {},
     "output_type": "execute_result"
    }
   ],
   "source": [
    "df2"
   ]
  },
  {
   "cell_type": "code",
   "execution_count": 27,
   "id": "b58b9d4d",
   "metadata": {},
   "outputs": [
    {
     "ename": "KeyError",
     "evalue": "3",
     "output_type": "error",
     "traceback": [
      "\u001b[1;31m---------------------------------------------------------------------------\u001b[0m",
      "\u001b[1;31mKeyError\u001b[0m                                  Traceback (most recent call last)",
      "\u001b[1;32mc:\\users\\ultrashopuz\\appdata\\local\\programs\\python\\python38\\lib\\site-packages\\pandas\\core\\indexes\\base.py\u001b[0m in \u001b[0;36mget_loc\u001b[1;34m(self, key, method, tolerance)\u001b[0m\n\u001b[0;32m   3360\u001b[0m             \u001b[1;32mtry\u001b[0m\u001b[1;33m:\u001b[0m\u001b[1;33m\u001b[0m\u001b[1;33m\u001b[0m\u001b[0m\n\u001b[1;32m-> 3361\u001b[1;33m                 \u001b[1;32mreturn\u001b[0m \u001b[0mself\u001b[0m\u001b[1;33m.\u001b[0m\u001b[0m_engine\u001b[0m\u001b[1;33m.\u001b[0m\u001b[0mget_loc\u001b[0m\u001b[1;33m(\u001b[0m\u001b[0mcasted_key\u001b[0m\u001b[1;33m)\u001b[0m\u001b[1;33m\u001b[0m\u001b[1;33m\u001b[0m\u001b[0m\n\u001b[0m\u001b[0;32m   3362\u001b[0m             \u001b[1;32mexcept\u001b[0m \u001b[0mKeyError\u001b[0m \u001b[1;32mas\u001b[0m \u001b[0merr\u001b[0m\u001b[1;33m:\u001b[0m\u001b[1;33m\u001b[0m\u001b[1;33m\u001b[0m\u001b[0m\n",
      "\u001b[1;32mc:\\users\\ultrashopuz\\appdata\\local\\programs\\python\\python38\\lib\\site-packages\\pandas\\_libs\\index.pyx\u001b[0m in \u001b[0;36mpandas._libs.index.IndexEngine.get_loc\u001b[1;34m()\u001b[0m\n",
      "\u001b[1;32mc:\\users\\ultrashopuz\\appdata\\local\\programs\\python\\python38\\lib\\site-packages\\pandas\\_libs\\index.pyx\u001b[0m in \u001b[0;36mpandas._libs.index.IndexEngine.get_loc\u001b[1;34m()\u001b[0m\n",
      "\u001b[1;32mpandas\\_libs\\hashtable_class_helper.pxi\u001b[0m in \u001b[0;36mpandas._libs.hashtable.PyObjectHashTable.get_item\u001b[1;34m()\u001b[0m\n",
      "\u001b[1;32mpandas\\_libs\\hashtable_class_helper.pxi\u001b[0m in \u001b[0;36mpandas._libs.hashtable.PyObjectHashTable.get_item\u001b[1;34m()\u001b[0m\n",
      "\u001b[1;31mKeyError\u001b[0m: 3",
      "\nThe above exception was the direct cause of the following exception:\n",
      "\u001b[1;31mKeyError\u001b[0m                                  Traceback (most recent call last)",
      "\u001b[1;32m<ipython-input-27-0bf582465c09>\u001b[0m in \u001b[0;36m<module>\u001b[1;34m\u001b[0m\n\u001b[1;32m----> 1\u001b[1;33m \u001b[0mdf2\u001b[0m\u001b[1;33m[\u001b[0m\u001b[1;36m3\u001b[0m\u001b[1;33m]\u001b[0m\u001b[1;33m\u001b[0m\u001b[1;33m\u001b[0m\u001b[0m\n\u001b[0m",
      "\u001b[1;32mc:\\users\\ultrashopuz\\appdata\\local\\programs\\python\\python38\\lib\\site-packages\\pandas\\core\\frame.py\u001b[0m in \u001b[0;36m__getitem__\u001b[1;34m(self, key)\u001b[0m\n\u001b[0;32m   3456\u001b[0m             \u001b[1;32mif\u001b[0m \u001b[0mself\u001b[0m\u001b[1;33m.\u001b[0m\u001b[0mcolumns\u001b[0m\u001b[1;33m.\u001b[0m\u001b[0mnlevels\u001b[0m \u001b[1;33m>\u001b[0m \u001b[1;36m1\u001b[0m\u001b[1;33m:\u001b[0m\u001b[1;33m\u001b[0m\u001b[1;33m\u001b[0m\u001b[0m\n\u001b[0;32m   3457\u001b[0m                 \u001b[1;32mreturn\u001b[0m \u001b[0mself\u001b[0m\u001b[1;33m.\u001b[0m\u001b[0m_getitem_multilevel\u001b[0m\u001b[1;33m(\u001b[0m\u001b[0mkey\u001b[0m\u001b[1;33m)\u001b[0m\u001b[1;33m\u001b[0m\u001b[1;33m\u001b[0m\u001b[0m\n\u001b[1;32m-> 3458\u001b[1;33m             \u001b[0mindexer\u001b[0m \u001b[1;33m=\u001b[0m \u001b[0mself\u001b[0m\u001b[1;33m.\u001b[0m\u001b[0mcolumns\u001b[0m\u001b[1;33m.\u001b[0m\u001b[0mget_loc\u001b[0m\u001b[1;33m(\u001b[0m\u001b[0mkey\u001b[0m\u001b[1;33m)\u001b[0m\u001b[1;33m\u001b[0m\u001b[1;33m\u001b[0m\u001b[0m\n\u001b[0m\u001b[0;32m   3459\u001b[0m             \u001b[1;32mif\u001b[0m \u001b[0mis_integer\u001b[0m\u001b[1;33m(\u001b[0m\u001b[0mindexer\u001b[0m\u001b[1;33m)\u001b[0m\u001b[1;33m:\u001b[0m\u001b[1;33m\u001b[0m\u001b[1;33m\u001b[0m\u001b[0m\n\u001b[0;32m   3460\u001b[0m                 \u001b[0mindexer\u001b[0m \u001b[1;33m=\u001b[0m \u001b[1;33m[\u001b[0m\u001b[0mindexer\u001b[0m\u001b[1;33m]\u001b[0m\u001b[1;33m\u001b[0m\u001b[1;33m\u001b[0m\u001b[0m\n",
      "\u001b[1;32mc:\\users\\ultrashopuz\\appdata\\local\\programs\\python\\python38\\lib\\site-packages\\pandas\\core\\indexes\\base.py\u001b[0m in \u001b[0;36mget_loc\u001b[1;34m(self, key, method, tolerance)\u001b[0m\n\u001b[0;32m   3361\u001b[0m                 \u001b[1;32mreturn\u001b[0m \u001b[0mself\u001b[0m\u001b[1;33m.\u001b[0m\u001b[0m_engine\u001b[0m\u001b[1;33m.\u001b[0m\u001b[0mget_loc\u001b[0m\u001b[1;33m(\u001b[0m\u001b[0mcasted_key\u001b[0m\u001b[1;33m)\u001b[0m\u001b[1;33m\u001b[0m\u001b[1;33m\u001b[0m\u001b[0m\n\u001b[0;32m   3362\u001b[0m             \u001b[1;32mexcept\u001b[0m \u001b[0mKeyError\u001b[0m \u001b[1;32mas\u001b[0m \u001b[0merr\u001b[0m\u001b[1;33m:\u001b[0m\u001b[1;33m\u001b[0m\u001b[1;33m\u001b[0m\u001b[0m\n\u001b[1;32m-> 3363\u001b[1;33m                 \u001b[1;32mraise\u001b[0m \u001b[0mKeyError\u001b[0m\u001b[1;33m(\u001b[0m\u001b[0mkey\u001b[0m\u001b[1;33m)\u001b[0m \u001b[1;32mfrom\u001b[0m \u001b[0merr\u001b[0m\u001b[1;33m\u001b[0m\u001b[1;33m\u001b[0m\u001b[0m\n\u001b[0m\u001b[0;32m   3364\u001b[0m \u001b[1;33m\u001b[0m\u001b[0m\n\u001b[0;32m   3365\u001b[0m         \u001b[1;32mif\u001b[0m \u001b[0mis_scalar\u001b[0m\u001b[1;33m(\u001b[0m\u001b[0mkey\u001b[0m\u001b[1;33m)\u001b[0m \u001b[1;32mand\u001b[0m \u001b[0misna\u001b[0m\u001b[1;33m(\u001b[0m\u001b[0mkey\u001b[0m\u001b[1;33m)\u001b[0m \u001b[1;32mand\u001b[0m \u001b[1;32mnot\u001b[0m \u001b[0mself\u001b[0m\u001b[1;33m.\u001b[0m\u001b[0mhasnans\u001b[0m\u001b[1;33m:\u001b[0m\u001b[1;33m\u001b[0m\u001b[1;33m\u001b[0m\u001b[0m\n",
      "\u001b[1;31mKeyError\u001b[0m: 3"
     ]
    }
   ],
   "source": []
  },
  {
   "cell_type": "code",
   "execution_count": 28,
   "id": "248446ff",
   "metadata": {},
   "outputs": [
    {
     "data": {
      "text/plain": [
       "Index(['Olim', 'Maryam', 'Javohir', 'Olim', 'Maryam'], dtype='object')"
      ]
     },
     "execution_count": 28,
     "metadata": {},
     "output_type": "execute_result"
    }
   ],
   "source": [
    "df2.index.delete(0)"
   ]
  },
  {
   "cell_type": "code",
   "execution_count": 29,
   "id": "12add278",
   "metadata": {},
   "outputs": [
    {
     "data": {
      "text/html": [
       "<div>\n",
       "<style scoped>\n",
       "    .dataframe tbody tr th:only-of-type {\n",
       "        vertical-align: middle;\n",
       "    }\n",
       "\n",
       "    .dataframe tbody tr th {\n",
       "        vertical-align: top;\n",
       "    }\n",
       "\n",
       "    .dataframe thead th {\n",
       "        text-align: right;\n",
       "    }\n",
       "</style>\n",
       "<table border=\"1\" class=\"dataframe\">\n",
       "  <thead>\n",
       "    <tr style=\"text-align: right;\">\n",
       "      <th></th>\n",
       "      <th>username</th>\n",
       "      <th>email</th>\n",
       "    </tr>\n",
       "  </thead>\n",
       "  <tbody>\n",
       "    <tr>\n",
       "      <th>Anvar</th>\n",
       "      <td>anvar123</td>\n",
       "      <td>anvar@gmail.com</td>\n",
       "    </tr>\n",
       "    <tr>\n",
       "      <th>Olim</th>\n",
       "      <td>Olimtoy</td>\n",
       "      <td>Olim@mail.ru</td>\n",
       "    </tr>\n",
       "    <tr>\n",
       "      <th>Maryam</th>\n",
       "      <td>Mary1234</td>\n",
       "      <td>Mary33@gmail.com</td>\n",
       "    </tr>\n",
       "    <tr>\n",
       "      <th>Javohir</th>\n",
       "      <td>Javohir123</td>\n",
       "      <td>javohir13@gmail.comn</td>\n",
       "    </tr>\n",
       "  </tbody>\n",
       "</table>\n",
       "</div>"
      ],
      "text/plain": [
       "           username                 email\n",
       "Anvar      anvar123       anvar@gmail.com\n",
       "Olim        Olimtoy          Olim@mail.ru\n",
       "Maryam     Mary1234      Mary33@gmail.com\n",
       "Javohir  Javohir123  javohir13@gmail.comn"
      ]
     },
     "execution_count": 29,
     "metadata": {},
     "output_type": "execute_result"
    }
   ],
   "source": [
    "df"
   ]
  },
  {
   "cell_type": "code",
   "execution_count": 31,
   "id": "9ac0d8f5",
   "metadata": {},
   "outputs": [
    {
     "data": {
      "text/plain": [
       "Index(['Olim', 'nafisa'], dtype='object')"
      ]
     },
     "execution_count": 31,
     "metadata": {},
     "output_type": "execute_result"
    }
   ],
   "source": [
    "newind.drop('hamida') # drop by value"
   ]
  },
  {
   "cell_type": "code",
   "execution_count": null,
   "id": "c7dde616",
   "metadata": {},
   "outputs": [],
   "source": []
  },
  {
   "cell_type": "code",
   "execution_count": 36,
   "id": "10bd3e52",
   "metadata": {},
   "outputs": [
    {
     "data": {
      "text/plain": [
       "Index(['Olim', 'asd', 'nafisa', 'hamida'], dtype='object')"
      ]
     },
     "execution_count": 36,
     "metadata": {},
     "output_type": "execute_result"
    }
   ],
   "source": [
    "newind.insert(1,'asd')"
   ]
  },
  {
   "cell_type": "code",
   "execution_count": 37,
   "id": "f068ab2f",
   "metadata": {},
   "outputs": [
    {
     "data": {
      "text/plain": [
       "<bound method Index.unique of Index(['Olim', 'nafisa', 'hamida'], dtype='object')>"
      ]
     },
     "execution_count": 37,
     "metadata": {},
     "output_type": "execute_result"
    }
   ],
   "source": [
    "newind.unique"
   ]
  },
  {
   "cell_type": "code",
   "execution_count": 40,
   "id": "fe8107c0",
   "metadata": {},
   "outputs": [
    {
     "data": {
      "text/plain": [
       "Index(['Olim', 'nafisa', 'hamida'], dtype='object')"
      ]
     },
     "execution_count": 40,
     "metadata": {},
     "output_type": "execute_result"
    }
   ],
   "source": [
    "newind.unique()"
   ]
  },
  {
   "cell_type": "code",
   "execution_count": null,
   "id": "6e27be40",
   "metadata": {},
   "outputs": [],
   "source": []
  }
 ],
 "metadata": {
  "kernelspec": {
   "display_name": "Python 3",
   "language": "python",
   "name": "python3"
  },
  "language_info": {
   "codemirror_mode": {
    "name": "ipython",
    "version": 3
   },
   "file_extension": ".py",
   "mimetype": "text/x-python",
   "name": "python",
   "nbconvert_exporter": "python",
   "pygments_lexer": "ipython3",
   "version": "3.8.7"
  }
 },
 "nbformat": 4,
 "nbformat_minor": 5
}
