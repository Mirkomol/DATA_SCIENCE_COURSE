{
 "cells": [
  {
   "cell_type": "code",
   "execution_count": 2,
   "id": "538d7ced",
   "metadata": {},
   "outputs": [],
   "source": [
    "import numpy as np\n",
    "import pandas as pd"
   ]
  },
  {
   "cell_type": "markdown",
   "id": "a3936848",
   "metadata": {},
   "source": [
    "# MultiIndex\n"
   ]
  },
  {
   "cell_type": "markdown",
   "id": "e445c2dc",
   "metadata": {},
   "source": [
    "# Hierarchical index"
   ]
  },
  {
   "cell_type": "code",
   "execution_count": 3,
   "id": "e1540e7a",
   "metadata": {},
   "outputs": [],
   "source": [
    "data = pd.Series(np.random.randn(9),index = ['a','a','a','b','b','c','c','d','d'])"
   ]
  },
  {
   "cell_type": "code",
   "execution_count": 4,
   "id": "82adb5a8",
   "metadata": {},
   "outputs": [
    {
     "data": {
      "text/plain": [
       "a    0.293473\n",
       "a   -1.462459\n",
       "a   -1.237008\n",
       "b    0.208928\n",
       "b   -1.683926\n",
       "c    0.070342\n",
       "c    0.143429\n",
       "d    3.247919\n",
       "d   -0.734389\n",
       "dtype: float64"
      ]
     },
     "execution_count": 4,
     "metadata": {},
     "output_type": "execute_result"
    }
   ],
   "source": [
    "data"
   ]
  },
  {
   "cell_type": "code",
   "execution_count": 5,
   "id": "bb72d485",
   "metadata": {},
   "outputs": [
    {
     "data": {
      "text/plain": [
       "Index(['a', 'a', 'a', 'b', 'b', 'c', 'c', 'd', 'd'], dtype='object')"
      ]
     },
     "execution_count": 5,
     "metadata": {},
     "output_type": "execute_result"
    }
   ],
   "source": [
    "data.index"
   ]
  },
  {
   "cell_type": "code",
   "execution_count": 6,
   "id": "e0eef60c",
   "metadata": {},
   "outputs": [],
   "source": [
    "data1 = pd.Series(np.random.randn(9),\n",
    "                 index = [['a','a','a','b','b','c','c','d','d'],[1,2,3,1,3,1,2,2,3]])"
   ]
  },
  {
   "cell_type": "code",
   "execution_count": 7,
   "id": "090bc977",
   "metadata": {},
   "outputs": [
    {
     "data": {
      "text/plain": [
       "a  1   -0.800056\n",
       "   2    0.775391\n",
       "   3   -1.267552\n",
       "b  1   -1.047643\n",
       "   3    1.293372\n",
       "c  1   -0.679774\n",
       "   2   -0.669879\n",
       "d  2    1.287451\n",
       "   3   -0.461520\n",
       "dtype: float64"
      ]
     },
     "execution_count": 7,
     "metadata": {},
     "output_type": "execute_result"
    }
   ],
   "source": [
    "data1"
   ]
  },
  {
   "cell_type": "code",
   "execution_count": 8,
   "id": "64542300",
   "metadata": {},
   "outputs": [
    {
     "data": {
      "text/plain": [
       "MultiIndex([('a', 1),\n",
       "            ('a', 2),\n",
       "            ('a', 3),\n",
       "            ('b', 1),\n",
       "            ('b', 3),\n",
       "            ('c', 1),\n",
       "            ('c', 2),\n",
       "            ('d', 2),\n",
       "            ('d', 3)],\n",
       "           )"
      ]
     },
     "execution_count": 8,
     "metadata": {},
     "output_type": "execute_result"
    }
   ],
   "source": [
    "data1.index"
   ]
  },
  {
   "cell_type": "code",
   "execution_count": 9,
   "id": "d98559ea",
   "metadata": {},
   "outputs": [
    {
     "data": {
      "text/plain": [
       "a  1   -0.800056\n",
       "   2    0.775391\n",
       "   3   -1.267552\n",
       "b  1   -1.047643\n",
       "   3    1.293372\n",
       "c  1   -0.679774\n",
       "   2   -0.669879\n",
       "d  2    1.287451\n",
       "   3   -0.461520\n",
       "dtype: float64"
      ]
     },
     "execution_count": 9,
     "metadata": {},
     "output_type": "execute_result"
    }
   ],
   "source": [
    "data1"
   ]
  },
  {
   "cell_type": "code",
   "execution_count": 11,
   "id": "787e5edb",
   "metadata": {},
   "outputs": [
    {
     "data": {
      "text/plain": [
       "1   -0.800056\n",
       "2    0.775391\n",
       "3   -1.267552\n",
       "dtype: float64"
      ]
     },
     "execution_count": 11,
     "metadata": {},
     "output_type": "execute_result"
    }
   ],
   "source": [
    "data1['a'] # prints index with subsets"
   ]
  },
  {
   "cell_type": "code",
   "execution_count": 12,
   "id": "698f97b8",
   "metadata": {},
   "outputs": [
    {
     "data": {
      "text/plain": [
       "1   -1.047643\n",
       "3    1.293372\n",
       "dtype: float64"
      ]
     },
     "execution_count": 12,
     "metadata": {},
     "output_type": "execute_result"
    }
   ],
   "source": [
    "data1['b']"
   ]
  },
  {
   "cell_type": "code",
   "execution_count": 13,
   "id": "3c1805f1",
   "metadata": {},
   "outputs": [
    {
     "data": {
      "text/plain": [
       "c  1   -0.679774\n",
       "   2   -0.669879\n",
       "d  2    1.287451\n",
       "   3   -0.461520\n",
       "dtype: float64"
      ]
     },
     "execution_count": 13,
     "metadata": {},
     "output_type": "execute_result"
    }
   ],
   "source": [
    " data1['c':'d'] # from c to d"
   ]
  },
  {
   "cell_type": "code",
   "execution_count": 14,
   "id": "5dcfb14d",
   "metadata": {},
   "outputs": [
    {
     "data": {
      "text/plain": [
       "a    0.775391\n",
       "c   -0.669879\n",
       "d    1.287451\n",
       "dtype: float64"
      ]
     },
     "execution_count": 14,
     "metadata": {},
     "output_type": "execute_result"
    }
   ],
   "source": [
    "data1.loc[:,2]"
   ]
  },
  {
   "cell_type": "code",
   "execution_count": 15,
   "id": "8f67cc42",
   "metadata": {},
   "outputs": [
    {
     "data": {
      "text/plain": [
       "b  1   -1.047643\n",
       "   3    1.293372\n",
       "d  2    1.287451\n",
       "   3   -0.461520\n",
       "dtype: float64"
      ]
     },
     "execution_count": 15,
     "metadata": {},
     "output_type": "execute_result"
    }
   ],
   "source": [
    "data1.loc[['b','d']]"
   ]
  },
  {
   "cell_type": "code",
   "execution_count": null,
   "id": "42e17fb3",
   "metadata": {},
   "outputs": [],
   "source": []
  }
 ],
 "metadata": {
  "kernelspec": {
   "display_name": "Python 3",
   "language": "python",
   "name": "python3"
  },
  "language_info": {
   "codemirror_mode": {
    "name": "ipython",
    "version": 3
   },
   "file_extension": ".py",
   "mimetype": "text/x-python",
   "name": "python",
   "nbconvert_exporter": "python",
   "pygments_lexer": "ipython3",
   "version": "3.8.7"
  }
 },
 "nbformat": 4,
 "nbformat_minor": 5
}
