{
 "cells": [
  {
   "cell_type": "code",
   "execution_count": 1,
   "id": "c022646a",
   "metadata": {},
   "outputs": [],
   "source": [
    "import pandas as pd"
   ]
  },
  {
   "cell_type": "code",
   "execution_count": 2,
   "id": "497bcc97",
   "metadata": {},
   "outputs": [],
   "source": [
    "import numpy as np"
   ]
  },
  {
   "cell_type": "markdown",
   "id": "560afb11",
   "metadata": {},
   "source": [
    "# Unstack"
   ]
  },
  {
   "cell_type": "code",
   "execution_count": 3,
   "id": "8395946d",
   "metadata": {},
   "outputs": [],
   "source": [
    "data1 = pd.Series(np.random.randn(9),\n",
    "                 index = [['a','a','a','b','b','c','c','d','d'],[1,2,3,1,3,1,2,2,3]])"
   ]
  },
  {
   "cell_type": "code",
   "execution_count": 4,
   "id": "e2ec2de2",
   "metadata": {},
   "outputs": [
    {
     "data": {
      "text/plain": [
       "a  1   -1.015073\n",
       "   2   -0.105388\n",
       "   3    0.625524\n",
       "b  1   -0.373373\n",
       "   3   -0.662447\n",
       "c  1   -1.054500\n",
       "   2    0.750790\n",
       "d  2    0.201533\n",
       "   3   -1.488467\n",
       "dtype: float64"
      ]
     },
     "execution_count": 4,
     "metadata": {},
     "output_type": "execute_result"
    }
   ],
   "source": [
    "data1"
   ]
  },
  {
   "cell_type": "code",
   "execution_count": 5,
   "id": "c7916b79",
   "metadata": {},
   "outputs": [
    {
     "data": {
      "text/html": [
       "<div>\n",
       "<style scoped>\n",
       "    .dataframe tbody tr th:only-of-type {\n",
       "        vertical-align: middle;\n",
       "    }\n",
       "\n",
       "    .dataframe tbody tr th {\n",
       "        vertical-align: top;\n",
       "    }\n",
       "\n",
       "    .dataframe thead th {\n",
       "        text-align: right;\n",
       "    }\n",
       "</style>\n",
       "<table border=\"1\" class=\"dataframe\">\n",
       "  <thead>\n",
       "    <tr style=\"text-align: right;\">\n",
       "      <th></th>\n",
       "      <th>1</th>\n",
       "      <th>2</th>\n",
       "      <th>3</th>\n",
       "    </tr>\n",
       "  </thead>\n",
       "  <tbody>\n",
       "    <tr>\n",
       "      <th>a</th>\n",
       "      <td>-1.015073</td>\n",
       "      <td>-0.105388</td>\n",
       "      <td>0.625524</td>\n",
       "    </tr>\n",
       "    <tr>\n",
       "      <th>b</th>\n",
       "      <td>-0.373373</td>\n",
       "      <td>NaN</td>\n",
       "      <td>-0.662447</td>\n",
       "    </tr>\n",
       "    <tr>\n",
       "      <th>c</th>\n",
       "      <td>-1.054500</td>\n",
       "      <td>0.750790</td>\n",
       "      <td>NaN</td>\n",
       "    </tr>\n",
       "    <tr>\n",
       "      <th>d</th>\n",
       "      <td>NaN</td>\n",
       "      <td>0.201533</td>\n",
       "      <td>-1.488467</td>\n",
       "    </tr>\n",
       "  </tbody>\n",
       "</table>\n",
       "</div>"
      ],
      "text/plain": [
       "          1         2         3\n",
       "a -1.015073 -0.105388  0.625524\n",
       "b -0.373373       NaN -0.662447\n",
       "c -1.054500  0.750790       NaN\n",
       "d       NaN  0.201533 -1.488467"
      ]
     },
     "execution_count": 5,
     "metadata": {},
     "output_type": "execute_result"
    }
   ],
   "source": [
    "data1.unstack() # sort by dataframe"
   ]
  },
  {
   "cell_type": "markdown",
   "id": "0ff41f05",
   "metadata": {},
   "source": [
    "# Stack()"
   ]
  },
  {
   "cell_type": "code",
   "execution_count": 7,
   "id": "9c07acb3",
   "metadata": {},
   "outputs": [
    {
     "data": {
      "text/plain": [
       "a  1   -1.015073\n",
       "   2   -0.105388\n",
       "   3    0.625524\n",
       "b  1   -0.373373\n",
       "   3   -0.662447\n",
       "c  1   -1.054500\n",
       "   2    0.750790\n",
       "d  2    0.201533\n",
       "   3   -1.488467\n",
       "dtype: float64"
      ]
     },
     "execution_count": 7,
     "metadata": {},
     "output_type": "execute_result"
    }
   ],
   "source": [
    "data1.unstack().stack() # will do series"
   ]
  },
  {
   "cell_type": "code",
   "execution_count": null,
   "id": "40c2e0ad",
   "metadata": {},
   "outputs": [],
   "source": []
  }
 ],
 "metadata": {
  "kernelspec": {
   "display_name": "Python 3",
   "language": "python",
   "name": "python3"
  },
  "language_info": {
   "codemirror_mode": {
    "name": "ipython",
    "version": 3
   },
   "file_extension": ".py",
   "mimetype": "text/x-python",
   "name": "python",
   "nbconvert_exporter": "python",
   "pygments_lexer": "ipython3",
   "version": "3.8.7"
  }
 },
 "nbformat": 4,
 "nbformat_minor": 5
}
