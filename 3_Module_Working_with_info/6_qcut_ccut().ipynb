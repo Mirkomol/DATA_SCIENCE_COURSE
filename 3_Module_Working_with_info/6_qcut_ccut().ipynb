{
 "cells": [
  {
   "cell_type": "code",
   "execution_count": 2,
   "id": "257bf49c",
   "metadata": {},
   "outputs": [],
   "source": [
    "import pandas as pd\n",
    "import numpy as np"
   ]
  },
  {
   "cell_type": "code",
   "execution_count": 3,
   "id": "666d6015",
   "metadata": {},
   "outputs": [],
   "source": [
    "df = pd.read_csv(\"praktikum_datasets/world_population.csv\",usecols=['country','pop2021','area'],index_col='country')"
   ]
  },
  {
   "cell_type": "code",
   "execution_count": 4,
   "id": "74d0ba5d",
   "metadata": {},
   "outputs": [
    {
     "data": {
      "text/html": [
       "<div>\n",
       "<style scoped>\n",
       "    .dataframe tbody tr th:only-of-type {\n",
       "        vertical-align: middle;\n",
       "    }\n",
       "\n",
       "    .dataframe tbody tr th {\n",
       "        vertical-align: top;\n",
       "    }\n",
       "\n",
       "    .dataframe thead th {\n",
       "        text-align: right;\n",
       "    }\n",
       "</style>\n",
       "<table border=\"1\" class=\"dataframe\">\n",
       "  <thead>\n",
       "    <tr style=\"text-align: right;\">\n",
       "      <th></th>\n",
       "      <th>pop2021</th>\n",
       "      <th>area</th>\n",
       "    </tr>\n",
       "    <tr>\n",
       "      <th>country</th>\n",
       "      <th></th>\n",
       "      <th></th>\n",
       "    </tr>\n",
       "  </thead>\n",
       "  <tbody>\n",
       "    <tr>\n",
       "      <th>Macau</th>\n",
       "      <td>658.394</td>\n",
       "      <td>30</td>\n",
       "    </tr>\n",
       "    <tr>\n",
       "      <th>Monaco</th>\n",
       "      <td>39.511</td>\n",
       "      <td>2</td>\n",
       "    </tr>\n",
       "    <tr>\n",
       "      <th>Singapore</th>\n",
       "      <td>5896.686</td>\n",
       "      <td>710</td>\n",
       "    </tr>\n",
       "    <tr>\n",
       "      <th>Hong Kong</th>\n",
       "      <td>7552.810</td>\n",
       "      <td>1104</td>\n",
       "    </tr>\n",
       "    <tr>\n",
       "      <th>Gibraltar</th>\n",
       "      <td>33.698</td>\n",
       "      <td>6</td>\n",
       "    </tr>\n",
       "    <tr>\n",
       "      <th>...</th>\n",
       "      <td>...</td>\n",
       "      <td>...</td>\n",
       "    </tr>\n",
       "    <tr>\n",
       "      <th>Namibia</th>\n",
       "      <td>2587.344</td>\n",
       "      <td>825615</td>\n",
       "    </tr>\n",
       "    <tr>\n",
       "      <th>Western Sahara</th>\n",
       "      <td>611.875</td>\n",
       "      <td>266000</td>\n",
       "    </tr>\n",
       "    <tr>\n",
       "      <th>Mongolia</th>\n",
       "      <td>3329.289</td>\n",
       "      <td>1564110</td>\n",
       "    </tr>\n",
       "    <tr>\n",
       "      <th>Falkland Islands</th>\n",
       "      <td>3.533</td>\n",
       "      <td>12173</td>\n",
       "    </tr>\n",
       "    <tr>\n",
       "      <th>Greenland</th>\n",
       "      <td>56.877</td>\n",
       "      <td>2166086</td>\n",
       "    </tr>\n",
       "  </tbody>\n",
       "</table>\n",
       "<p>232 rows × 2 columns</p>\n",
       "</div>"
      ],
      "text/plain": [
       "                   pop2021     area\n",
       "country                            \n",
       "Macau              658.394       30\n",
       "Monaco              39.511        2\n",
       "Singapore         5896.686      710\n",
       "Hong Kong         7552.810     1104\n",
       "Gibraltar           33.698        6\n",
       "...                    ...      ...\n",
       "Namibia           2587.344   825615\n",
       "Western Sahara     611.875   266000\n",
       "Mongolia          3329.289  1564110\n",
       "Falkland Islands     3.533    12173\n",
       "Greenland           56.877  2166086\n",
       "\n",
       "[232 rows x 2 columns]"
      ]
     },
     "execution_count": 4,
     "metadata": {},
     "output_type": "execute_result"
    }
   ],
   "source": [
    "df"
   ]
  },
  {
   "cell_type": "code",
   "execution_count": 5,
   "id": "10db77e0",
   "metadata": {},
   "outputs": [
    {
     "data": {
      "text/plain": [
       "pop2021     33935.763\n",
       "area       447400.000\n",
       "Name: Uzbekistan, dtype: float64"
      ]
     },
     "execution_count": 5,
     "metadata": {},
     "output_type": "execute_result"
    }
   ],
   "source": [
    "df.loc['Uzbekistan']"
   ]
  },
  {
   "cell_type": "code",
   "execution_count": 6,
   "id": "fab25517",
   "metadata": {},
   "outputs": [
    {
     "data": {
      "text/plain": [
       "pop2021    1393409.038\n",
       "area       3287590.000\n",
       "Name: India, dtype: float64"
      ]
     },
     "execution_count": 6,
     "metadata": {},
     "output_type": "execute_result"
    }
   ],
   "source": [
    "df.loc['India']"
   ]
  },
  {
   "cell_type": "code",
   "execution_count": 7,
   "id": "eca1aab3",
   "metadata": {},
   "outputs": [],
   "source": [
    "bins =[0,1000,10000,30000,50000,100000,300000,1500000]"
   ]
  },
  {
   "cell_type": "code",
   "execution_count": 8,
   "id": "67c6e434",
   "metadata": {},
   "outputs": [],
   "source": [
    "population = df.pop2021"
   ]
  },
  {
   "cell_type": "code",
   "execution_count": 9,
   "id": "33af9b8c",
   "metadata": {},
   "outputs": [
    {
     "data": {
      "text/plain": [
       "country\n",
       "Macau                658.394\n",
       "Monaco                39.511\n",
       "Singapore           5896.686\n",
       "Hong Kong           7552.810\n",
       "Gibraltar             33.698\n",
       "                      ...   \n",
       "Namibia             2587.344\n",
       "Western Sahara       611.875\n",
       "Mongolia            3329.289\n",
       "Falkland Islands       3.533\n",
       "Greenland             56.877\n",
       "Name: pop2021, Length: 232, dtype: float64"
      ]
     },
     "execution_count": 9,
     "metadata": {},
     "output_type": "execute_result"
    }
   ],
   "source": [
    "population"
   ]
  },
  {
   "cell_type": "code",
   "execution_count": 10,
   "id": "2c7abf38",
   "metadata": {},
   "outputs": [],
   "source": [
    "group = pd.cut(population,bins) # filtering to group"
   ]
  },
  {
   "cell_type": "code",
   "execution_count": 11,
   "id": "575a9cfd",
   "metadata": {},
   "outputs": [
    {
     "data": {
      "text/plain": [
       "country\n",
       "Macau                   (0, 1000]\n",
       "Monaco                  (0, 1000]\n",
       "Singapore           (1000, 10000]\n",
       "Hong Kong           (1000, 10000]\n",
       "Gibraltar               (0, 1000]\n",
       "                        ...      \n",
       "Namibia             (1000, 10000]\n",
       "Western Sahara          (0, 1000]\n",
       "Mongolia            (1000, 10000]\n",
       "Falkland Islands        (0, 1000]\n",
       "Greenland               (0, 1000]\n",
       "Name: pop2021, Length: 232, dtype: category\n",
       "Categories (7, interval[int64, right]): [(0, 1000] < (1000, 10000] < (10000, 30000] < (30000, 50000] < (50000, 100000] < (100000, 300000] < (300000, 1500000]]"
      ]
     },
     "execution_count": 11,
     "metadata": {},
     "output_type": "execute_result"
    }
   ],
   "source": [
    "group"
   ]
  },
  {
   "cell_type": "code",
   "execution_count": 12,
   "id": "ace128ba",
   "metadata": {
    "scrolled": true
   },
   "outputs": [
    {
     "data": {
      "text/plain": [
       "(0, 1000]            72\n",
       "(1000, 10000]        68\n",
       "(10000, 30000]       44\n",
       "(30000, 50000]       19\n",
       "(50000, 100000]      15\n",
       "(100000, 300000]     11\n",
       "(300000, 1500000]     3\n",
       "Name: pop2021, dtype: int64"
      ]
     },
     "execution_count": 12,
     "metadata": {},
     "output_type": "execute_result"
    }
   ],
   "source": [
    "group.value_counts() # count values quantity"
   ]
  },
  {
   "cell_type": "code",
   "execution_count": null,
   "id": "f0ae6e92",
   "metadata": {},
   "outputs": [],
   "source": []
  },
  {
   "cell_type": "code",
   "execution_count": 13,
   "id": "536161d6",
   "metadata": {},
   "outputs": [],
   "source": [
    "df['group'] = group # adding to group"
   ]
  },
  {
   "cell_type": "code",
   "execution_count": 14,
   "id": "ec8a4c63",
   "metadata": {},
   "outputs": [
    {
     "data": {
      "text/html": [
       "<div>\n",
       "<style scoped>\n",
       "    .dataframe tbody tr th:only-of-type {\n",
       "        vertical-align: middle;\n",
       "    }\n",
       "\n",
       "    .dataframe tbody tr th {\n",
       "        vertical-align: top;\n",
       "    }\n",
       "\n",
       "    .dataframe thead th {\n",
       "        text-align: right;\n",
       "    }\n",
       "</style>\n",
       "<table border=\"1\" class=\"dataframe\">\n",
       "  <thead>\n",
       "    <tr style=\"text-align: right;\">\n",
       "      <th></th>\n",
       "      <th>pop2021</th>\n",
       "      <th>area</th>\n",
       "      <th>group</th>\n",
       "    </tr>\n",
       "    <tr>\n",
       "      <th>country</th>\n",
       "      <th></th>\n",
       "      <th></th>\n",
       "      <th></th>\n",
       "    </tr>\n",
       "  </thead>\n",
       "  <tbody>\n",
       "    <tr>\n",
       "      <th>Macau</th>\n",
       "      <td>658.394</td>\n",
       "      <td>30</td>\n",
       "      <td>(0, 1000]</td>\n",
       "    </tr>\n",
       "    <tr>\n",
       "      <th>Monaco</th>\n",
       "      <td>39.511</td>\n",
       "      <td>2</td>\n",
       "      <td>(0, 1000]</td>\n",
       "    </tr>\n",
       "    <tr>\n",
       "      <th>Singapore</th>\n",
       "      <td>5896.686</td>\n",
       "      <td>710</td>\n",
       "      <td>(1000, 10000]</td>\n",
       "    </tr>\n",
       "    <tr>\n",
       "      <th>Hong Kong</th>\n",
       "      <td>7552.810</td>\n",
       "      <td>1104</td>\n",
       "      <td>(1000, 10000]</td>\n",
       "    </tr>\n",
       "    <tr>\n",
       "      <th>Gibraltar</th>\n",
       "      <td>33.698</td>\n",
       "      <td>6</td>\n",
       "      <td>(0, 1000]</td>\n",
       "    </tr>\n",
       "    <tr>\n",
       "      <th>...</th>\n",
       "      <td>...</td>\n",
       "      <td>...</td>\n",
       "      <td>...</td>\n",
       "    </tr>\n",
       "    <tr>\n",
       "      <th>Namibia</th>\n",
       "      <td>2587.344</td>\n",
       "      <td>825615</td>\n",
       "      <td>(1000, 10000]</td>\n",
       "    </tr>\n",
       "    <tr>\n",
       "      <th>Western Sahara</th>\n",
       "      <td>611.875</td>\n",
       "      <td>266000</td>\n",
       "      <td>(0, 1000]</td>\n",
       "    </tr>\n",
       "    <tr>\n",
       "      <th>Mongolia</th>\n",
       "      <td>3329.289</td>\n",
       "      <td>1564110</td>\n",
       "      <td>(1000, 10000]</td>\n",
       "    </tr>\n",
       "    <tr>\n",
       "      <th>Falkland Islands</th>\n",
       "      <td>3.533</td>\n",
       "      <td>12173</td>\n",
       "      <td>(0, 1000]</td>\n",
       "    </tr>\n",
       "    <tr>\n",
       "      <th>Greenland</th>\n",
       "      <td>56.877</td>\n",
       "      <td>2166086</td>\n",
       "      <td>(0, 1000]</td>\n",
       "    </tr>\n",
       "  </tbody>\n",
       "</table>\n",
       "<p>232 rows × 3 columns</p>\n",
       "</div>"
      ],
      "text/plain": [
       "                   pop2021     area          group\n",
       "country                                           \n",
       "Macau              658.394       30      (0, 1000]\n",
       "Monaco              39.511        2      (0, 1000]\n",
       "Singapore         5896.686      710  (1000, 10000]\n",
       "Hong Kong         7552.810     1104  (1000, 10000]\n",
       "Gibraltar           33.698        6      (0, 1000]\n",
       "...                    ...      ...            ...\n",
       "Namibia           2587.344   825615  (1000, 10000]\n",
       "Western Sahara     611.875   266000      (0, 1000]\n",
       "Mongolia          3329.289  1564110  (1000, 10000]\n",
       "Falkland Islands     3.533    12173      (0, 1000]\n",
       "Greenland           56.877  2166086      (0, 1000]\n",
       "\n",
       "[232 rows x 3 columns]"
      ]
     },
     "execution_count": 14,
     "metadata": {},
     "output_type": "execute_result"
    }
   ],
   "source": [
    "df"
   ]
  },
  {
   "cell_type": "markdown",
   "id": "3a6066e3",
   "metadata": {},
   "source": [
    "# price qcut"
   ]
  },
  {
   "cell_type": "code",
   "execution_count": 15,
   "id": "7c0a4510",
   "metadata": {},
   "outputs": [],
   "source": [
    "df = pd.read_csv(\"praktikum_datasets/automobile_data.csv\",index_col =0)"
   ]
  },
  {
   "cell_type": "code",
   "execution_count": 16,
   "id": "f18e8eb9",
   "metadata": {},
   "outputs": [
    {
     "data": {
      "text/html": [
       "<div>\n",
       "<style scoped>\n",
       "    .dataframe tbody tr th:only-of-type {\n",
       "        vertical-align: middle;\n",
       "    }\n",
       "\n",
       "    .dataframe tbody tr th {\n",
       "        vertical-align: top;\n",
       "    }\n",
       "\n",
       "    .dataframe thead th {\n",
       "        text-align: right;\n",
       "    }\n",
       "</style>\n",
       "<table border=\"1\" class=\"dataframe\">\n",
       "  <thead>\n",
       "    <tr style=\"text-align: right;\">\n",
       "      <th></th>\n",
       "      <th>company</th>\n",
       "      <th>body-style</th>\n",
       "      <th>wheel-base</th>\n",
       "      <th>length</th>\n",
       "      <th>engine-type</th>\n",
       "      <th>num-of-cylinders</th>\n",
       "      <th>horsepower</th>\n",
       "      <th>average-mileage</th>\n",
       "      <th>price</th>\n",
       "    </tr>\n",
       "    <tr>\n",
       "      <th>index</th>\n",
       "      <th></th>\n",
       "      <th></th>\n",
       "      <th></th>\n",
       "      <th></th>\n",
       "      <th></th>\n",
       "      <th></th>\n",
       "      <th></th>\n",
       "      <th></th>\n",
       "      <th></th>\n",
       "    </tr>\n",
       "  </thead>\n",
       "  <tbody>\n",
       "    <tr>\n",
       "      <th>0</th>\n",
       "      <td>alfa-romero</td>\n",
       "      <td>convertible</td>\n",
       "      <td>88.6</td>\n",
       "      <td>168.8</td>\n",
       "      <td>dohc</td>\n",
       "      <td>four</td>\n",
       "      <td>111</td>\n",
       "      <td>21</td>\n",
       "      <td>13495.0</td>\n",
       "    </tr>\n",
       "    <tr>\n",
       "      <th>1</th>\n",
       "      <td>alfa-romero</td>\n",
       "      <td>convertible</td>\n",
       "      <td>88.6</td>\n",
       "      <td>168.8</td>\n",
       "      <td>dohc</td>\n",
       "      <td>four</td>\n",
       "      <td>111</td>\n",
       "      <td>21</td>\n",
       "      <td>16500.0</td>\n",
       "    </tr>\n",
       "    <tr>\n",
       "      <th>2</th>\n",
       "      <td>alfa-romero</td>\n",
       "      <td>hatchback</td>\n",
       "      <td>94.5</td>\n",
       "      <td>171.2</td>\n",
       "      <td>ohcv</td>\n",
       "      <td>six</td>\n",
       "      <td>154</td>\n",
       "      <td>19</td>\n",
       "      <td>16500.0</td>\n",
       "    </tr>\n",
       "    <tr>\n",
       "      <th>3</th>\n",
       "      <td>audi</td>\n",
       "      <td>sedan</td>\n",
       "      <td>99.8</td>\n",
       "      <td>176.6</td>\n",
       "      <td>ohc</td>\n",
       "      <td>four</td>\n",
       "      <td>102</td>\n",
       "      <td>24</td>\n",
       "      <td>13950.0</td>\n",
       "    </tr>\n",
       "    <tr>\n",
       "      <th>4</th>\n",
       "      <td>audi</td>\n",
       "      <td>sedan</td>\n",
       "      <td>99.4</td>\n",
       "      <td>176.6</td>\n",
       "      <td>ohc</td>\n",
       "      <td>five</td>\n",
       "      <td>115</td>\n",
       "      <td>18</td>\n",
       "      <td>17450.0</td>\n",
       "    </tr>\n",
       "  </tbody>\n",
       "</table>\n",
       "</div>"
      ],
      "text/plain": [
       "           company   body-style  wheel-base  length engine-type  \\\n",
       "index                                                             \n",
       "0      alfa-romero  convertible        88.6   168.8        dohc   \n",
       "1      alfa-romero  convertible        88.6   168.8        dohc   \n",
       "2      alfa-romero    hatchback        94.5   171.2        ohcv   \n",
       "3             audi        sedan        99.8   176.6         ohc   \n",
       "4             audi        sedan        99.4   176.6         ohc   \n",
       "\n",
       "      num-of-cylinders  horsepower  average-mileage    price  \n",
       "index                                                         \n",
       "0                 four         111               21  13495.0  \n",
       "1                 four         111               21  16500.0  \n",
       "2                  six         154               19  16500.0  \n",
       "3                 four         102               24  13950.0  \n",
       "4                 five         115               18  17450.0  "
      ]
     },
     "execution_count": 16,
     "metadata": {},
     "output_type": "execute_result"
    }
   ],
   "source": [
    "df.head()"
   ]
  },
  {
   "cell_type": "code",
   "execution_count": 17,
   "id": "214c0a33",
   "metadata": {},
   "outputs": [
    {
     "data": {
      "text/plain": [
       "count       58.000000\n",
       "mean     15387.000000\n",
       "std      11320.259841\n",
       "min       5151.000000\n",
       "25%       6808.500000\n",
       "50%      11095.000000\n",
       "75%      18120.500000\n",
       "max      45400.000000\n",
       "Name: price, dtype: float64"
      ]
     },
     "execution_count": 17,
     "metadata": {},
     "output_type": "execute_result"
    }
   ],
   "source": [
    "df.price.describe()"
   ]
  },
  {
   "cell_type": "code",
   "execution_count": 19,
   "id": "01e28b0c",
   "metadata": {},
   "outputs": [],
   "source": [
    "bins=[0,10000,20000,50000]"
   ]
  },
  {
   "cell_type": "code",
   "execution_count": 23,
   "id": "9c8e7d4c",
   "metadata": {},
   "outputs": [],
   "source": [
    "range = pd.cut(df.price,bins)"
   ]
  },
  {
   "cell_type": "code",
   "execution_count": 24,
   "id": "14045114",
   "metadata": {},
   "outputs": [
    {
     "data": {
      "text/plain": [
       "(0, 10000]        28\n",
       "(10000, 20000]    17\n",
       "(20000, 50000]    13\n",
       "Name: price, dtype: int64"
      ]
     },
     "execution_count": 24,
     "metadata": {},
     "output_type": "execute_result"
    }
   ],
   "source": [
    "range.value_counts()"
   ]
  },
  {
   "cell_type": "code",
   "execution_count": 25,
   "id": "1e9f46e5",
   "metadata": {},
   "outputs": [],
   "source": [
    "names = [\"arzon\",\"o'rta\",\"qimmat\"]\n",
    "range = pd.cut(df.price,bins,labels=names) # naming labels"
   ]
  },
  {
   "cell_type": "code",
   "execution_count": 26,
   "id": "71f17b6a",
   "metadata": {},
   "outputs": [
    {
     "data": {
      "text/plain": [
       "arzon     28\n",
       "o'rta     17\n",
       "qimmat    13\n",
       "Name: price, dtype: int64"
      ]
     },
     "execution_count": 26,
     "metadata": {},
     "output_type": "execute_result"
    }
   ],
   "source": [
    "range.value_counts()"
   ]
  },
  {
   "cell_type": "code",
   "execution_count": 28,
   "id": "a9ef3ea3",
   "metadata": {},
   "outputs": [
    {
     "data": {
      "text/plain": [
       "(5110.751, 13200.8]    32\n",
       "(13200.8, 21250.6]     14\n",
       "(29300.4, 37350.2]      7\n",
       "(37350.2, 45400.0]      3\n",
       "(21250.6, 29300.4]      2\n",
       "Name: price, dtype: int64"
      ]
     },
     "execution_count": 28,
     "metadata": {},
     "output_type": "execute_result"
    }
   ],
   "source": [
    "# without giving categorizing\n",
    "range = pd.cut(df.price,5)\n",
    "range.value_counts()"
   ]
  },
  {
   "cell_type": "markdown",
   "id": "3fffb5e2",
   "metadata": {},
   "source": [
    "# qcut()"
   ]
  },
  {
   "cell_type": "code",
   "execution_count": 29,
   "id": "0c1bd1b0",
   "metadata": {},
   "outputs": [],
   "source": [
    "range = pd.qcut(df.horsepower,3) # equal category"
   ]
  },
  {
   "cell_type": "code",
   "execution_count": 33,
   "id": "a0c05ac4",
   "metadata": {},
   "outputs": [
    {
     "data": {
      "text/plain": [
       "(47.999, 70.0]    24\n",
       "(111.0, 288.0]    20\n",
       "(70.0, 111.0]     17\n",
       "Name: horsepower, dtype: int64"
      ]
     },
     "execution_count": 33,
     "metadata": {},
     "output_type": "execute_result"
    }
   ],
   "source": [
    "range.value_counts()"
   ]
  },
  {
   "cell_type": "code",
   "execution_count": 34,
   "id": "987cff6d",
   "metadata": {},
   "outputs": [],
   "source": [
    "range = pd.qcut(df.price,3)"
   ]
  },
  {
   "cell_type": "code",
   "execution_count": 35,
   "id": "9f5dbae6",
   "metadata": {},
   "outputs": [
    {
     "data": {
      "text/plain": [
       "(5150.999, 7295.0]    20\n",
       "(7295.0, 16430.0]     19\n",
       "(16430.0, 45400.0]    19\n",
       "Name: price, dtype: int64"
      ]
     },
     "execution_count": 35,
     "metadata": {},
     "output_type": "execute_result"
    }
   ],
   "source": [
    "range.value_counts()"
   ]
  },
  {
   "cell_type": "code",
   "execution_count": null,
   "id": "07251841",
   "metadata": {},
   "outputs": [],
   "source": []
  }
 ],
 "metadata": {
  "kernelspec": {
   "display_name": "Python 3",
   "language": "python",
   "name": "python3"
  },
  "language_info": {
   "codemirror_mode": {
    "name": "ipython",
    "version": 3
   },
   "file_extension": ".py",
   "mimetype": "text/x-python",
   "name": "python",
   "nbconvert_exporter": "python",
   "pygments_lexer": "ipython3",
   "version": "3.8.7"
  }
 },
 "nbformat": 4,
 "nbformat_minor": 5
}
