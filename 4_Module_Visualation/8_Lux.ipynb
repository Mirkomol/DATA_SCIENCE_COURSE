{
 "cells": [
  {
   "cell_type": "code",
   "execution_count": 1,
   "id": "89c185d4",
   "metadata": {},
   "outputs": [
    {
     "name": "stdout",
     "output_type": "stream",
     "text": [
      "Collecting lux-api\n",
      "  Downloading lux-api-0.5.1.tar.gz (127 kB)\n",
      "  Installing build dependencies: started\n",
      "  Installing build dependencies: finished with status 'done'\n",
      "  Getting requirements to build wheel: started\n",
      "  Getting requirements to build wheel: finished with status 'done'\n",
      "  Preparing metadata (pyproject.toml): started\n",
      "  Preparing metadata (pyproject.toml): finished with status 'done'\n",
      "Requirement already satisfied: pandas in c:\\users\\ultrashopuz\\appdata\\local\\programs\\python\\python38\\lib\\site-packages (from lux-api) (1.3.5)\n",
      "Collecting sh\n",
      "  Downloading sh-1.14.2-py2.py3-none-any.whl (40 kB)\n",
      "Collecting autopep8>=1.5\n",
      "  Downloading autopep8-1.6.0-py2.py3-none-any.whl (45 kB)\n",
      "Requirement already satisfied: matplotlib>=3.0.0 in c:\\users\\ultrashopuz\\appdata\\local\\programs\\python\\python38\\lib\\site-packages (from lux-api) (3.5.1)\n",
      "Collecting scikit-learn>=0.22\n",
      "  Downloading scikit_learn-1.0.2-cp38-cp38-win_amd64.whl (7.2 MB)\n",
      "Collecting lux-widget>=0.1.4\n",
      "  Downloading lux-widget-0.1.11.tar.gz (2.5 MB)\n",
      "  Preparing metadata (setup.py): started\n",
      "  Preparing metadata (setup.py): finished with status 'done'\n",
      "Collecting psutil>=5.9.0\n",
      "  Downloading psutil-5.9.0-cp38-cp38-win_amd64.whl (246 kB)\n",
      "Collecting iso3166\n",
      "  Downloading iso3166-2.0.2-py3-none-any.whl (8.5 kB)\n",
      "Requirement already satisfied: scipy>=1.3.3 in c:\\users\\ultrashopuz\\appdata\\local\\programs\\python\\python38\\lib\\site-packages (from lux-api) (1.7.3)\n",
      "Collecting altair>=4.0.0\n",
      "  Downloading altair-4.2.0-py3-none-any.whl (812 kB)\n",
      "Requirement already satisfied: numpy>=1.16.5 in c:\\users\\ultrashopuz\\appdata\\local\\programs\\python\\python38\\lib\\site-packages (from lux-api) (1.21.4)\n",
      "Requirement already satisfied: entrypoints in c:\\users\\ultrashopuz\\appdata\\local\\programs\\python\\python38\\lib\\site-packages (from altair>=4.0.0->lux-api) (0.3)\n",
      "Requirement already satisfied: jsonschema>=3.0 in c:\\users\\ultrashopuz\\appdata\\local\\programs\\python\\python38\\lib\\site-packages (from altair>=4.0.0->lux-api) (3.2.0)\n",
      "Requirement already satisfied: jinja2 in c:\\users\\ultrashopuz\\appdata\\local\\programs\\python\\python38\\lib\\site-packages (from altair>=4.0.0->lux-api) (2.11.3)\n",
      "Collecting toolz\n",
      "  Downloading toolz-0.11.2-py3-none-any.whl (55 kB)\n",
      "Collecting toml\n",
      "  Using cached toml-0.10.2-py2.py3-none-any.whl (16 kB)\n",
      "Collecting pycodestyle>=2.8.0\n",
      "  Downloading pycodestyle-2.8.0-py2.py3-none-any.whl (42 kB)\n",
      "Requirement already satisfied: notebook>=4.0.0 in c:\\users\\ultrashopuz\\appdata\\local\\programs\\python\\python38\\lib\\site-packages (from lux-widget>=0.1.4->lux-api) (6.3.0)\n",
      "Requirement already satisfied: ipywidgets>=7.5.0 in c:\\users\\ultrashopuz\\appdata\\local\\programs\\python\\python38\\lib\\site-packages (from lux-widget>=0.1.4->lux-api) (7.6.3)\n",
      "Requirement already satisfied: fonttools>=4.22.0 in c:\\users\\ultrashopuz\\appdata\\local\\programs\\python\\python38\\lib\\site-packages (from matplotlib>=3.0.0->lux-api) (4.28.5)\n",
      "Requirement already satisfied: python-dateutil>=2.7 in c:\\users\\ultrashopuz\\appdata\\local\\programs\\python\\python38\\lib\\site-packages (from matplotlib>=3.0.0->lux-api) (2.8.1)\n",
      "Requirement already satisfied: packaging>=20.0 in c:\\users\\ultrashopuz\\appdata\\local\\programs\\python\\python38\\lib\\site-packages (from matplotlib>=3.0.0->lux-api) (20.9)\n",
      "Requirement already satisfied: kiwisolver>=1.0.1 in c:\\users\\ultrashopuz\\appdata\\local\\programs\\python\\python38\\lib\\site-packages (from matplotlib>=3.0.0->lux-api) (1.3.2)\n",
      "Requirement already satisfied: cycler>=0.10 in c:\\users\\ultrashopuz\\appdata\\local\\programs\\python\\python38\\lib\\site-packages (from matplotlib>=3.0.0->lux-api) (0.11.0)\n",
      "Requirement already satisfied: pillow>=6.2.0 in c:\\users\\ultrashopuz\\appdata\\local\\programs\\python\\python38\\lib\\site-packages (from matplotlib>=3.0.0->lux-api) (8.2.0)\n",
      "Requirement already satisfied: pyparsing>=2.2.1 in c:\\users\\ultrashopuz\\appdata\\local\\programs\\python\\python38\\lib\\site-packages (from matplotlib>=3.0.0->lux-api) (2.4.7)\n",
      "Requirement already satisfied: pytz>=2017.3 in c:\\users\\ultrashopuz\\appdata\\local\\programs\\python\\python38\\lib\\site-packages (from pandas->lux-api) (2021.1)\n",
      "Collecting threadpoolctl>=2.0.0\n",
      "  Downloading threadpoolctl-3.1.0-py3-none-any.whl (14 kB)\n",
      "Collecting joblib>=0.11\n",
      "  Downloading joblib-1.1.0-py2.py3-none-any.whl (306 kB)\n",
      "Requirement already satisfied: ipython>=4.0.0 in c:\\users\\ultrashopuz\\appdata\\local\\programs\\python\\python38\\lib\\site-packages (from ipywidgets>=7.5.0->lux-widget>=0.1.4->lux-api) (7.22.0)\n",
      "Requirement already satisfied: nbformat>=4.2.0 in c:\\users\\ultrashopuz\\appdata\\local\\programs\\python\\python38\\lib\\site-packages (from ipywidgets>=7.5.0->lux-widget>=0.1.4->lux-api) (5.1.3)\n",
      "Requirement already satisfied: jupyterlab-widgets>=1.0.0 in c:\\users\\ultrashopuz\\appdata\\local\\programs\\python\\python38\\lib\\site-packages (from ipywidgets>=7.5.0->lux-widget>=0.1.4->lux-api) (1.0.0)\n",
      "Requirement already satisfied: widgetsnbextension~=3.5.0 in c:\\users\\ultrashopuz\\appdata\\local\\programs\\python\\python38\\lib\\site-packages (from ipywidgets>=7.5.0->lux-widget>=0.1.4->lux-api) (3.5.1)\n",
      "Requirement already satisfied: traitlets>=4.3.1 in c:\\users\\ultrashopuz\\appdata\\local\\programs\\python\\python38\\lib\\site-packages (from ipywidgets>=7.5.0->lux-widget>=0.1.4->lux-api) (5.0.5)\n",
      "Requirement already satisfied: ipykernel>=4.5.1 in c:\\users\\ultrashopuz\\appdata\\local\\programs\\python\\python38\\lib\\site-packages (from ipywidgets>=7.5.0->lux-widget>=0.1.4->lux-api) (5.5.3)\n",
      "Requirement already satisfied: six>=1.11.0 in c:\\users\\ultrashopuz\\appdata\\local\\programs\\python\\python38\\lib\\site-packages (from jsonschema>=3.0->altair>=4.0.0->lux-api) (1.15.0)\n",
      "Requirement already satisfied: setuptools in c:\\users\\ultrashopuz\\appdata\\local\\programs\\python\\python38\\lib\\site-packages (from jsonschema>=3.0->altair>=4.0.0->lux-api) (49.2.1)\n",
      "Requirement already satisfied: attrs>=17.4.0 in c:\\users\\ultrashopuz\\appdata\\local\\programs\\python\\python38\\lib\\site-packages (from jsonschema>=3.0->altair>=4.0.0->lux-api) (20.3.0)\n",
      "Requirement already satisfied: pyrsistent>=0.14.0 in c:\\users\\ultrashopuz\\appdata\\local\\programs\\python\\python38\\lib\\site-packages (from jsonschema>=3.0->altair>=4.0.0->lux-api) (0.17.3)\n",
      "Requirement already satisfied: prometheus-client in c:\\users\\ultrashopuz\\appdata\\local\\programs\\python\\python38\\lib\\site-packages (from notebook>=4.0.0->lux-widget>=0.1.4->lux-api) (0.10.0)\n",
      "Requirement already satisfied: pyzmq>=17 in c:\\users\\ultrashopuz\\appdata\\local\\programs\\python\\python38\\lib\\site-packages (from notebook>=4.0.0->lux-widget>=0.1.4->lux-api) (22.0.3)\n",
      "Requirement already satisfied: Send2Trash>=1.5.0 in c:\\users\\ultrashopuz\\appdata\\local\\programs\\python\\python38\\lib\\site-packages (from notebook>=4.0.0->lux-widget>=0.1.4->lux-api) (1.5.0)\n",
      "Requirement already satisfied: jupyter-client>=5.3.4 in c:\\users\\ultrashopuz\\appdata\\local\\programs\\python\\python38\\lib\\site-packages (from notebook>=4.0.0->lux-widget>=0.1.4->lux-api) (6.1.12)\n",
      "Requirement already satisfied: nbconvert in c:\\users\\ultrashopuz\\appdata\\local\\programs\\python\\python38\\lib\\site-packages (from notebook>=4.0.0->lux-widget>=0.1.4->lux-api) (6.0.7)\n",
      "Requirement already satisfied: tornado>=6.1 in c:\\users\\ultrashopuz\\appdata\\local\\programs\\python\\python38\\lib\\site-packages (from notebook>=4.0.0->lux-widget>=0.1.4->lux-api) (6.1)\n",
      "Requirement already satisfied: jupyter-core>=4.6.1 in c:\\users\\ultrashopuz\\appdata\\local\\programs\\python\\python38\\lib\\site-packages (from notebook>=4.0.0->lux-widget>=0.1.4->lux-api) (4.7.1)\n",
      "Requirement already satisfied: terminado>=0.8.3 in c:\\users\\ultrashopuz\\appdata\\local\\programs\\python\\python38\\lib\\site-packages (from notebook>=4.0.0->lux-widget>=0.1.4->lux-api) (0.9.4)\n",
      "Requirement already satisfied: argon2-cffi in c:\\users\\ultrashopuz\\appdata\\local\\programs\\python\\python38\\lib\\site-packages (from notebook>=4.0.0->lux-widget>=0.1.4->lux-api) (20.1.0)\n",
      "Requirement already satisfied: ipython-genutils in c:\\users\\ultrashopuz\\appdata\\local\\programs\\python\\python38\\lib\\site-packages (from notebook>=4.0.0->lux-widget>=0.1.4->lux-api) (0.2.0)\n",
      "Requirement already satisfied: MarkupSafe>=0.23 in c:\\users\\ultrashopuz\\appdata\\local\\programs\\python\\python38\\lib\\site-packages (from jinja2->altair>=4.0.0->lux-api) (1.1.1)\n",
      "Requirement already satisfied: backcall in c:\\users\\ultrashopuz\\appdata\\local\\programs\\python\\python38\\lib\\site-packages (from ipython>=4.0.0->ipywidgets>=7.5.0->lux-widget>=0.1.4->lux-api) (0.2.0)\n",
      "Requirement already satisfied: prompt-toolkit!=3.0.0,!=3.0.1,<3.1.0,>=2.0.0 in c:\\users\\ultrashopuz\\appdata\\local\\programs\\python\\python38\\lib\\site-packages (from ipython>=4.0.0->ipywidgets>=7.5.0->lux-widget>=0.1.4->lux-api) (3.0.18)\n",
      "Requirement already satisfied: decorator in c:\\users\\ultrashopuz\\appdata\\local\\programs\\python\\python38\\lib\\site-packages (from ipython>=4.0.0->ipywidgets>=7.5.0->lux-widget>=0.1.4->lux-api) (5.0.5)\n",
      "Requirement already satisfied: pygments in c:\\users\\ultrashopuz\\appdata\\local\\programs\\python\\python38\\lib\\site-packages (from ipython>=4.0.0->ipywidgets>=7.5.0->lux-widget>=0.1.4->lux-api) (2.8.1)\n",
      "Requirement already satisfied: pickleshare in c:\\users\\ultrashopuz\\appdata\\local\\programs\\python\\python38\\lib\\site-packages (from ipython>=4.0.0->ipywidgets>=7.5.0->lux-widget>=0.1.4->lux-api) (0.7.5)\n",
      "Requirement already satisfied: colorama in c:\\users\\ultrashopuz\\appdata\\local\\programs\\python\\python38\\lib\\site-packages (from ipython>=4.0.0->ipywidgets>=7.5.0->lux-widget>=0.1.4->lux-api) (0.4.4)\n",
      "Requirement already satisfied: jedi>=0.16 in c:\\users\\ultrashopuz\\appdata\\local\\programs\\python\\python38\\lib\\site-packages (from ipython>=4.0.0->ipywidgets>=7.5.0->lux-widget>=0.1.4->lux-api) (0.18.0)\n",
      "Requirement already satisfied: pywin32>=1.0 in c:\\users\\ultrashopuz\\appdata\\local\\programs\\python\\python38\\lib\\site-packages (from jupyter-core>=4.6.1->notebook>=4.0.0->lux-widget>=0.1.4->lux-api) (300)\n",
      "Requirement already satisfied: pywinpty>=0.5 in c:\\users\\ultrashopuz\\appdata\\local\\programs\\python\\python38\\lib\\site-packages (from terminado>=0.8.3->notebook>=4.0.0->lux-widget>=0.1.4->lux-api) (0.5.7)\n",
      "Requirement already satisfied: cffi>=1.0.0 in c:\\users\\ultrashopuz\\appdata\\local\\programs\\python\\python38\\lib\\site-packages (from argon2-cffi->notebook>=4.0.0->lux-widget>=0.1.4->lux-api) (1.14.5)\n",
      "Requirement already satisfied: defusedxml in c:\\users\\ultrashopuz\\appdata\\local\\programs\\python\\python38\\lib\\site-packages (from nbconvert->notebook>=4.0.0->lux-widget>=0.1.4->lux-api) (0.7.1)\n",
      "Requirement already satisfied: jupyterlab-pygments in c:\\users\\ultrashopuz\\appdata\\local\\programs\\python\\python38\\lib\\site-packages (from nbconvert->notebook>=4.0.0->lux-widget>=0.1.4->lux-api) (0.1.2)\n",
      "Requirement already satisfied: testpath in c:\\users\\ultrashopuz\\appdata\\local\\programs\\python\\python38\\lib\\site-packages (from nbconvert->notebook>=4.0.0->lux-widget>=0.1.4->lux-api) (0.4.4)\n",
      "Requirement already satisfied: mistune<2,>=0.8.1 in c:\\users\\ultrashopuz\\appdata\\local\\programs\\python\\python38\\lib\\site-packages (from nbconvert->notebook>=4.0.0->lux-widget>=0.1.4->lux-api) (0.8.4)\n",
      "Requirement already satisfied: pandocfilters>=1.4.1 in c:\\users\\ultrashopuz\\appdata\\local\\programs\\python\\python38\\lib\\site-packages (from nbconvert->notebook>=4.0.0->lux-widget>=0.1.4->lux-api) (1.4.3)\n",
      "Requirement already satisfied: bleach in c:\\users\\ultrashopuz\\appdata\\local\\programs\\python\\python38\\lib\\site-packages (from nbconvert->notebook>=4.0.0->lux-widget>=0.1.4->lux-api) (3.3.0)\n",
      "Requirement already satisfied: nbclient<0.6.0,>=0.5.0 in c:\\users\\ultrashopuz\\appdata\\local\\programs\\python\\python38\\lib\\site-packages (from nbconvert->notebook>=4.0.0->lux-widget>=0.1.4->lux-api) (0.5.3)\n",
      "Requirement already satisfied: pycparser in c:\\users\\ultrashopuz\\appdata\\local\\programs\\python\\python38\\lib\\site-packages (from cffi>=1.0.0->argon2-cffi->notebook>=4.0.0->lux-widget>=0.1.4->lux-api) (2.20)\n",
      "Requirement already satisfied: parso<0.9.0,>=0.8.0 in c:\\users\\ultrashopuz\\appdata\\local\\programs\\python\\python38\\lib\\site-packages (from jedi>=0.16->ipython>=4.0.0->ipywidgets>=7.5.0->lux-widget>=0.1.4->lux-api) (0.8.2)\n",
      "Requirement already satisfied: nest-asyncio in c:\\users\\ultrashopuz\\appdata\\local\\programs\\python\\python38\\lib\\site-packages (from nbclient<0.6.0,>=0.5.0->nbconvert->notebook>=4.0.0->lux-widget>=0.1.4->lux-api) (1.5.1)\n",
      "Requirement already satisfied: async-generator in c:\\users\\ultrashopuz\\appdata\\local\\programs\\python\\python38\\lib\\site-packages (from nbclient<0.6.0,>=0.5.0->nbconvert->notebook>=4.0.0->lux-widget>=0.1.4->lux-api) (1.10)\n",
      "Requirement already satisfied: wcwidth in c:\\users\\ultrashopuz\\appdata\\local\\programs\\python\\python38\\lib\\site-packages (from prompt-toolkit!=3.0.0,!=3.0.1,<3.1.0,>=2.0.0->ipython>=4.0.0->ipywidgets>=7.5.0->lux-widget>=0.1.4->lux-api) (0.2.5)\n",
      "Requirement already satisfied: webencodings in c:\\users\\ultrashopuz\\appdata\\local\\programs\\python\\python38\\lib\\site-packages (from bleach->nbconvert->notebook>=4.0.0->lux-widget>=0.1.4->lux-api) (0.5.1)\n",
      "Building wheels for collected packages: lux-api, lux-widget\n",
      "  Building wheel for lux-api (pyproject.toml): started\n",
      "  Building wheel for lux-api (pyproject.toml): finished with status 'done'\n",
      "  Created wheel for lux-api: filename=lux_api-0.5.1-py3-none-any.whl size=185620 sha256=753cc5388266e6a376299aa9fa77daa0add5baf101055af4c0de86331605a0e8\n",
      "  Stored in directory: c:\\users\\ultrashopuz\\appdata\\local\\pip\\cache\\wheels\\58\\c7\\50\\1cc05b708e6be379f40d0609f2878bbd89c947021b9a2c6085\n",
      "  Building wheel for lux-widget (setup.py): started\n",
      "  Building wheel for lux-widget (setup.py): finished with status 'done'\n",
      "  Created wheel for lux-widget: filename=lux_widget-0.1.11-py3-none-any.whl size=2540442 sha256=bd6961facda7a3cb0ae137bc8fb6d2fe2dff4e1cc2517f9e37b87174fbdd27fa"
     ]
    },
    {
     "name": "stderr",
     "output_type": "stream",
     "text": [
      "WARNING: You are using pip version 21.3.1; however, version 22.0.4 is available.\n",
      "You should consider upgrading via the 'c:\\users\\ultrashopuz\\appdata\\local\\programs\\python\\python38\\python.exe -m pip install --upgrade pip' command.\n"
     ]
    },
    {
     "name": "stdout",
     "output_type": "stream",
     "text": [
      "\n",
      "  Stored in directory: c:\\users\\ultrashopuz\\appdata\\local\\pip\\cache\\wheels\\e5\\b4\\32\\50f87f9ee0473d4c3278a2b8ec8ea08f49d9ac08534fdb9efd\n",
      "Successfully built lux-api lux-widget\n",
      "Installing collected packages: toolz, toml, threadpoolctl, pycodestyle, joblib, sh, scikit-learn, psutil, lux-widget, iso3166, autopep8, altair, lux-api\n",
      "Successfully installed altair-4.2.0 autopep8-1.6.0 iso3166-2.0.2 joblib-1.1.0 lux-api-0.5.1 lux-widget-0.1.11 psutil-5.9.0 pycodestyle-2.8.0 scikit-learn-1.0.2 sh-1.14.2 threadpoolctl-3.1.0 toml-0.10.2 toolz-0.11.2\n"
     ]
    }
   ],
   "source": [
    "!pip install lux-api"
   ]
  },
  {
   "cell_type": "code",
   "execution_count": 3,
   "id": "714a9aca",
   "metadata": {},
   "outputs": [
    {
     "name": "stderr",
     "output_type": "stream",
     "text": [
      "Installing c:\\users\\ultrashopuz\\appdata\\local\\programs\\python\\python38\\lib\\site-packages\\luxwidget\\nbextension/static -> luxwidget\n",
      "Making directory: C:\\ProgramData\\jupyter\\nbextensions\\luxwidget\\\n",
      "Copying: c:\\users\\ultrashopuz\\appdata\\local\\programs\\python\\python38\\lib\\site-packages\\luxwidget\\nbextension\\static\\extension.js -> C:\\ProgramData\\jupyter\\nbextensions\\luxwidget\\extension.js\n",
      "Copying: c:\\users\\ultrashopuz\\appdata\\local\\programs\\python\\python38\\lib\\site-packages\\luxwidget\\nbextension\\static\\index.js -> C:\\ProgramData\\jupyter\\nbextensions\\luxwidget\\index.js\n",
      "Copying: c:\\users\\ultrashopuz\\appdata\\local\\programs\\python\\python38\\lib\\site-packages\\luxwidget\\nbextension\\static\\index.js.map -> C:\\ProgramData\\jupyter\\nbextensions\\luxwidget\\index.js.map\n",
      "- Validating: ok\n",
      "\n",
      "    To initialize this nbextension in the browser every time the notebook (or other app) loads:\n",
      "    \n",
      "          jupyter nbextension enable luxwidget --py\n",
      "    \n",
      "Enabling notebook extension luxwidget/extension...\n",
      "      - Validating: ok\n"
     ]
    }
   ],
   "source": [
    "!jupyter nbextension install --py luxwidget\n",
    "!jupyter nbextension enable --py luxwidget"
   ]
  },
  {
   "cell_type": "code",
   "execution_count": 6,
   "id": "d850074e",
   "metadata": {},
   "outputs": [],
   "source": [
    "import lux\n",
    "import pandas as pd\n",
    "import numpy as np"
   ]
  },
  {
   "cell_type": "code",
   "execution_count": 8,
   "id": "7366b99c",
   "metadata": {},
   "outputs": [],
   "source": [
    "df = pd.read_csv(\"praktikum_datasets/merc.csv\")\n",
    "df = df[df.year >=2010]\n",
    "df = df[df.transmission!='other']\n",
    "df = df[df.fuelType!='other']\n",
    "df['year'] = pd.to_datetime(df['year'],format='%Y')"
   ]
  },
  {
   "cell_type": "code",
   "execution_count": 9,
   "id": "2868751a",
   "metadata": {},
   "outputs": [
    {
     "data": {
      "application/vnd.jupyter.widget-view+json": {
       "model_id": "19fad284eb4747efbc66543fa008d34b",
       "version_major": 2,
       "version_minor": 0
      },
      "text/plain": [
       "Button(description='Toggle Pandas/Lux', layout=Layout(top='5px', width='140px'), style=ButtonStyle())"
      ]
     },
     "metadata": {},
     "output_type": "display_data"
    },
    {
     "data": {
      "application/vnd.jupyter.widget-view+json": {
       "model_id": "d84633f082af4df3a844f5c761ccb72e",
       "version_major": 2,
       "version_minor": 0
      },
      "text/plain": [
       "Output()"
      ]
     },
     "metadata": {},
     "output_type": "display_data"
    }
   ],
   "source": [
    "df.intent = ['price','mileage']\n",
    "df"
   ]
  },
  {
   "cell_type": "code",
   "execution_count": null,
   "id": "8fa4eff5",
   "metadata": {},
   "outputs": [],
   "source": []
  }
 ],
 "metadata": {
  "kernelspec": {
   "display_name": "Python 3",
   "language": "python",
   "name": "python3"
  },
  "language_info": {
   "codemirror_mode": {
    "name": "ipython",
    "version": 3
   },
   "file_extension": ".py",
   "mimetype": "text/x-python",
   "name": "python",
   "nbconvert_exporter": "python",
   "pygments_lexer": "ipython3",
   "version": "3.8.7"
  }
 },
 "nbformat": 4,
 "nbformat_minor": 5
}
