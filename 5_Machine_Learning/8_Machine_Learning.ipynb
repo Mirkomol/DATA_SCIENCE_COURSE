{
 "cells": [
  {
   "cell_type": "code",
   "execution_count": 2,
   "id": "998c4ad4",
   "metadata": {},
   "outputs": [],
   "source": [
    "import pandas as pd\n",
    "import numpy as np\n",
    "import sklearn # scikit-learn kutubxonasi"
   ]
  },
  {
   "cell_type": "code",
   "execution_count": 3,
   "id": "b1d8bf14",
   "metadata": {},
   "outputs": [],
   "source": [
    "# Onlayn dataset joylashgan manzilini ko'rsatamiaz\n",
    "URL = \"https://github.com/ageron/handson-ml2/blob/master/datasets/housing/housing.csv?raw=true\"\n",
    "df = pd.read_csv(URL)"
   ]
  },
  {
   "cell_type": "code",
   "execution_count": 22,
   "id": "a61ce0f1",
   "metadata": {},
   "outputs": [],
   "source": [
    "from sklearn.model_selection import train_test_split\n",
    "train_set, test_set = train_test_split(df, test_size=0.2, random_state=42)\n",
    "\n",
    "X_train = train_set.drop(\"median_house_value\", axis=1)\n",
    "y = train_set[\"median_house_value\"].copy()\n",
    "\n",
    "X_num = X_train.drop(\"ocean_proximity\", axis=1)"
   ]
  },
  {
   "cell_type": "code",
   "execution_count": 23,
   "id": "18885df0",
   "metadata": {},
   "outputs": [],
   "source": [
    "from sklearn.base import BaseEstimator, TransformerMixin\n",
    "# bizga kerak ustunlar indekslari\n",
    "rooms_ix, bedrooms_ix, population_ix, households_ix = 3, 4, 5, 6\n",
    "\n",
    "class CombinedAttributesAdder(BaseEstimator, TransformerMixin):\n",
    "    def __init__(self, add_bedrooms_per_room = True):\n",
    "        self.add_bedrooms_per_room = add_bedrooms_per_room\n",
    "    def fit(self, X, y=None):\n",
    "        return self # bizni funksiyamiz faqat transformer. estimator emas\n",
    "    def transform(self, X):\n",
    "        rooms_per_household = X[:, rooms_ix] / X[:, households_ix]\n",
    "        population_per_household = X[:, population_ix] / X[:, households_ix]\n",
    "        if self.add_bedrooms_per_room: # add_bedrooms_per_room ustuni ixtiyoriy bo'ladi\n",
    "            bedrooms_per_room = X[:, bedrooms_ix] / X[:, rooms_ix]\n",
    "            return np.c_[X, rooms_per_household, population_per_household, bedrooms_per_room]\n",
    "        else:\n",
    "            return np.c_[X, rooms_per_household, population_per_household]"
   ]
  },
  {
   "cell_type": "code",
   "execution_count": 24,
   "id": "66bdf3b1",
   "metadata": {},
   "outputs": [
    {
     "data": {
      "text/plain": [
       "array([[ 1.27258656, -1.3728112 ,  0.34849025, ..., -0.17491646,\n",
       "         0.05137609, -0.2117846 ],\n",
       "       [ 0.70916212, -0.87669601,  1.61811813, ..., -0.40283542,\n",
       "        -0.11736222,  0.34218528],\n",
       "       [-0.44760309, -0.46014647, -1.95271028, ...,  0.08821601,\n",
       "        -0.03227969, -0.66165785],\n",
       "       ...,\n",
       "       [ 0.59946887, -0.75500738,  0.58654547, ..., -0.60675918,\n",
       "         0.02030568,  0.99951387],\n",
       "       [-1.18553953,  0.90651045, -1.07984112, ...,  0.40217517,\n",
       "         0.00707608, -0.79086209],\n",
       "       [-1.41489815,  0.99543676,  1.85617335, ..., -0.85144571,\n",
       "        -0.08535429,  1.69520292]])"
      ]
     },
     "execution_count": 24,
     "metadata": {},
     "output_type": "execute_result"
    }
   ],
   "source": [
    "from sklearn.pipeline import Pipeline\n",
    "from sklearn.impute import SimpleImputer\n",
    "from sklearn.preprocessing import OneHotEncoder, StandardScaler\n",
    "\n",
    "num_pipeline = Pipeline([\n",
    "    ('imputermedian',SimpleImputer(strategy='median')),\n",
    "    ('attribs_adder',CombinedAttributesAdder()),\n",
    "    ('std_scaler',StandardScaler())\n",
    "])\n",
    "\n",
    "num_pipeline.fit_transform(X_num)"
   ]
  },
  {
   "cell_type": "code",
   "execution_count": 25,
   "id": "059c9897",
   "metadata": {},
   "outputs": [],
   "source": [
    "from sklearn.compose import ColumnTransformer\n",
    "\n",
    "num_attribs = list(X_num)"
   ]
  },
  {
   "cell_type": "code",
   "execution_count": 26,
   "id": "58af99e7",
   "metadata": {},
   "outputs": [
    {
     "data": {
      "text/plain": [
       "['longitude',\n",
       " 'latitude',\n",
       " 'housing_median_age',\n",
       " 'total_rooms',\n",
       " 'total_bedrooms',\n",
       " 'population',\n",
       " 'households',\n",
       " 'median_income']"
      ]
     },
     "execution_count": 26,
     "metadata": {},
     "output_type": "execute_result"
    }
   ],
   "source": [
    "num_attribs"
   ]
  },
  {
   "cell_type": "code",
   "execution_count": 27,
   "id": "d57c8e37",
   "metadata": {},
   "outputs": [
    {
     "data": {
      "text/plain": [
       "['ocean_proximity']"
      ]
     },
     "execution_count": 27,
     "metadata": {},
     "output_type": "execute_result"
    }
   ],
   "source": [
    "cat_attribs = ['ocean_proximity']\n",
    "cat_attribs"
   ]
  },
  {
   "cell_type": "code",
   "execution_count": 28,
   "id": "df3b0d34",
   "metadata": {},
   "outputs": [],
   "source": [
    "full_pipeline = ColumnTransformer([\n",
    "    ('num',num_pipeline,num_attribs),\n",
    "    ('cat',OneHotEncoder(),cat_attribs)\n",
    "])"
   ]
  },
  {
   "cell_type": "code",
   "execution_count": 29,
   "id": "bdd3f252",
   "metadata": {},
   "outputs": [],
   "source": [
    "x_prepared = full_pipeline.fit_transform(X_train)"
   ]
  },
  {
   "cell_type": "code",
   "execution_count": 30,
   "id": "550d468f",
   "metadata": {},
   "outputs": [
    {
     "data": {
      "text/plain": [
       "array([[ 1.27258656, -1.3728112 ,  0.34849025, ...,  0.        ,\n",
       "         0.        ,  1.        ],\n",
       "       [ 0.70916212, -0.87669601,  1.61811813, ...,  0.        ,\n",
       "         0.        ,  1.        ],\n",
       "       [-0.44760309, -0.46014647, -1.95271028, ...,  0.        ,\n",
       "         0.        ,  1.        ],\n",
       "       ...,\n",
       "       [ 0.59946887, -0.75500738,  0.58654547, ...,  0.        ,\n",
       "         0.        ,  0.        ],\n",
       "       [-1.18553953,  0.90651045, -1.07984112, ...,  0.        ,\n",
       "         0.        ,  0.        ],\n",
       "       [-1.41489815,  0.99543676,  1.85617335, ...,  0.        ,\n",
       "         1.        ,  0.        ]])"
      ]
     },
     "execution_count": 30,
     "metadata": {},
     "output_type": "execute_result"
    }
   ],
   "source": [
    "x_prepared"
   ]
  },
  {
   "cell_type": "markdown",
   "id": "48704cb8",
   "metadata": {},
   "source": [
    "# LINEAR REGRESSION"
   ]
  },
  {
   "cell_type": "code",
   "execution_count": 33,
   "id": "4f4a7dca",
   "metadata": {},
   "outputs": [],
   "source": [
    "from sklearn.linear_model import LinearRegression"
   ]
  },
  {
   "cell_type": "code",
   "execution_count": 35,
   "id": "4dfa37d8",
   "metadata": {},
   "outputs": [],
   "source": [
    "LR_model = LinearRegression()"
   ]
  },
  {
   "cell_type": "code",
   "execution_count": 36,
   "id": "2e439b25",
   "metadata": {},
   "outputs": [
    {
     "data": {
      "text/plain": [
       "LinearRegression()"
      ]
     },
     "execution_count": 36,
     "metadata": {},
     "output_type": "execute_result"
    }
   ],
   "source": [
    "LR_model.fit(x_prepared,y)"
   ]
  },
  {
   "cell_type": "code",
   "execution_count": 37,
   "id": "d57282e0",
   "metadata": {},
   "outputs": [],
   "source": [
    "test_data = X_train.sample(10)"
   ]
  },
  {
   "cell_type": "code",
   "execution_count": 38,
   "id": "1a56855a",
   "metadata": {},
   "outputs": [
    {
     "data": {
      "text/html": [
       "<div>\n",
       "<style scoped>\n",
       "    .dataframe tbody tr th:only-of-type {\n",
       "        vertical-align: middle;\n",
       "    }\n",
       "\n",
       "    .dataframe tbody tr th {\n",
       "        vertical-align: top;\n",
       "    }\n",
       "\n",
       "    .dataframe thead th {\n",
       "        text-align: right;\n",
       "    }\n",
       "</style>\n",
       "<table border=\"1\" class=\"dataframe\">\n",
       "  <thead>\n",
       "    <tr style=\"text-align: right;\">\n",
       "      <th></th>\n",
       "      <th>longitude</th>\n",
       "      <th>latitude</th>\n",
       "      <th>housing_median_age</th>\n",
       "      <th>total_rooms</th>\n",
       "      <th>total_bedrooms</th>\n",
       "      <th>population</th>\n",
       "      <th>households</th>\n",
       "      <th>median_income</th>\n",
       "      <th>ocean_proximity</th>\n",
       "    </tr>\n",
       "  </thead>\n",
       "  <tbody>\n",
       "    <tr>\n",
       "      <th>3186</th>\n",
       "      <td>-119.79</td>\n",
       "      <td>36.29</td>\n",
       "      <td>6.0</td>\n",
       "      <td>1265.0</td>\n",
       "      <td>227.0</td>\n",
       "      <td>764.0</td>\n",
       "      <td>246.0</td>\n",
       "      <td>4.2917</td>\n",
       "      <td>INLAND</td>\n",
       "    </tr>\n",
       "    <tr>\n",
       "      <th>13904</th>\n",
       "      <td>-116.39</td>\n",
       "      <td>34.15</td>\n",
       "      <td>15.0</td>\n",
       "      <td>5583.0</td>\n",
       "      <td>1149.0</td>\n",
       "      <td>2709.0</td>\n",
       "      <td>964.0</td>\n",
       "      <td>1.9779</td>\n",
       "      <td>INLAND</td>\n",
       "    </tr>\n",
       "    <tr>\n",
       "      <th>14154</th>\n",
       "      <td>-117.07</td>\n",
       "      <td>32.77</td>\n",
       "      <td>34.0</td>\n",
       "      <td>2245.0</td>\n",
       "      <td>394.0</td>\n",
       "      <td>1849.0</td>\n",
       "      <td>429.0</td>\n",
       "      <td>3.5446</td>\n",
       "      <td>NEAR OCEAN</td>\n",
       "    </tr>\n",
       "    <tr>\n",
       "      <th>5758</th>\n",
       "      <td>-118.28</td>\n",
       "      <td>34.17</td>\n",
       "      <td>22.0</td>\n",
       "      <td>2664.0</td>\n",
       "      <td>651.0</td>\n",
       "      <td>1553.0</td>\n",
       "      <td>629.0</td>\n",
       "      <td>3.6354</td>\n",
       "      <td>&lt;1H OCEAN</td>\n",
       "    </tr>\n",
       "    <tr>\n",
       "      <th>16608</th>\n",
       "      <td>-120.64</td>\n",
       "      <td>35.65</td>\n",
       "      <td>9.0</td>\n",
       "      <td>3466.0</td>\n",
       "      <td>673.0</td>\n",
       "      <td>2356.0</td>\n",
       "      <td>619.0</td>\n",
       "      <td>2.9926</td>\n",
       "      <td>&lt;1H OCEAN</td>\n",
       "    </tr>\n",
       "    <tr>\n",
       "      <th>6465</th>\n",
       "      <td>-118.04</td>\n",
       "      <td>34.10</td>\n",
       "      <td>38.0</td>\n",
       "      <td>2317.0</td>\n",
       "      <td>451.0</td>\n",
       "      <td>1155.0</td>\n",
       "      <td>426.0</td>\n",
       "      <td>4.1488</td>\n",
       "      <td>INLAND</td>\n",
       "    </tr>\n",
       "    <tr>\n",
       "      <th>5121</th>\n",
       "      <td>-118.31</td>\n",
       "      <td>33.96</td>\n",
       "      <td>52.0</td>\n",
       "      <td>2523.0</td>\n",
       "      <td>460.0</td>\n",
       "      <td>1167.0</td>\n",
       "      <td>413.0</td>\n",
       "      <td>3.0625</td>\n",
       "      <td>&lt;1H OCEAN</td>\n",
       "    </tr>\n",
       "    <tr>\n",
       "      <th>10848</th>\n",
       "      <td>-117.91</td>\n",
       "      <td>33.66</td>\n",
       "      <td>26.0</td>\n",
       "      <td>5761.0</td>\n",
       "      <td>1326.0</td>\n",
       "      <td>2681.0</td>\n",
       "      <td>1116.0</td>\n",
       "      <td>4.0341</td>\n",
       "      <td>&lt;1H OCEAN</td>\n",
       "    </tr>\n",
       "    <tr>\n",
       "      <th>14412</th>\n",
       "      <td>-117.23</td>\n",
       "      <td>32.78</td>\n",
       "      <td>35.0</td>\n",
       "      <td>1649.0</td>\n",
       "      <td>355.0</td>\n",
       "      <td>746.0</td>\n",
       "      <td>360.0</td>\n",
       "      <td>4.6293</td>\n",
       "      <td>NEAR OCEAN</td>\n",
       "    </tr>\n",
       "    <tr>\n",
       "      <th>1895</th>\n",
       "      <td>-120.02</td>\n",
       "      <td>38.91</td>\n",
       "      <td>22.0</td>\n",
       "      <td>2138.0</td>\n",
       "      <td>493.0</td>\n",
       "      <td>829.0</td>\n",
       "      <td>330.0</td>\n",
       "      <td>2.2056</td>\n",
       "      <td>INLAND</td>\n",
       "    </tr>\n",
       "  </tbody>\n",
       "</table>\n",
       "</div>"
      ],
      "text/plain": [
       "       longitude  latitude  housing_median_age  total_rooms  total_bedrooms  \\\n",
       "3186     -119.79     36.29                 6.0       1265.0           227.0   \n",
       "13904    -116.39     34.15                15.0       5583.0          1149.0   \n",
       "14154    -117.07     32.77                34.0       2245.0           394.0   \n",
       "5758     -118.28     34.17                22.0       2664.0           651.0   \n",
       "16608    -120.64     35.65                 9.0       3466.0           673.0   \n",
       "6465     -118.04     34.10                38.0       2317.0           451.0   \n",
       "5121     -118.31     33.96                52.0       2523.0           460.0   \n",
       "10848    -117.91     33.66                26.0       5761.0          1326.0   \n",
       "14412    -117.23     32.78                35.0       1649.0           355.0   \n",
       "1895     -120.02     38.91                22.0       2138.0           493.0   \n",
       "\n",
       "       population  households  median_income ocean_proximity  \n",
       "3186        764.0       246.0         4.2917          INLAND  \n",
       "13904      2709.0       964.0         1.9779          INLAND  \n",
       "14154      1849.0       429.0         3.5446      NEAR OCEAN  \n",
       "5758       1553.0       629.0         3.6354       <1H OCEAN  \n",
       "16608      2356.0       619.0         2.9926       <1H OCEAN  \n",
       "6465       1155.0       426.0         4.1488          INLAND  \n",
       "5121       1167.0       413.0         3.0625       <1H OCEAN  \n",
       "10848      2681.0      1116.0         4.0341       <1H OCEAN  \n",
       "14412       746.0       360.0         4.6293      NEAR OCEAN  \n",
       "1895        829.0       330.0         2.2056          INLAND  "
      ]
     },
     "execution_count": 38,
     "metadata": {},
     "output_type": "execute_result"
    }
   ],
   "source": [
    "test_data"
   ]
  },
  {
   "cell_type": "code",
   "execution_count": 39,
   "id": "4b383484",
   "metadata": {},
   "outputs": [],
   "source": [
    "test_label = y.loc[test_data.index]"
   ]
  },
  {
   "cell_type": "code",
   "execution_count": 40,
   "id": "ec13f30c",
   "metadata": {},
   "outputs": [
    {
     "data": {
      "text/plain": [
       "3186     104200.0\n",
       "13904     73300.0\n",
       "14154    185500.0\n",
       "5758     256300.0\n",
       "16608    158200.0\n",
       "6465     235300.0\n",
       "5121     127400.0\n",
       "10848    243300.0\n",
       "14412    356500.0\n",
       "1895     107200.0\n",
       "Name: median_house_value, dtype: float64"
      ]
     },
     "execution_count": 40,
     "metadata": {},
     "output_type": "execute_result"
    }
   ],
   "source": [
    "test_label"
   ]
  },
  {
   "cell_type": "code",
   "execution_count": 41,
   "id": "0d514d8d",
   "metadata": {},
   "outputs": [],
   "source": [
    "test_data_prepared = full_pipeline.transform(test_data)"
   ]
  },
  {
   "cell_type": "code",
   "execution_count": 24,
   "id": "b343bbef",
   "metadata": {},
   "outputs": [
    {
     "data": {
      "text/plain": [
       "array([[ 6.59301555e-01, -6.61400745e-01,  3.48490247e-01,\n",
       "        -3.84903954e-01, -5.62052491e-01, -5.17538826e-01,\n",
       "        -5.22335113e-01,  8.13893621e-01,  2.35178701e-01,\n",
       "        -2.70251688e-02, -7.75790968e-01,  1.00000000e+00,\n",
       "         0.00000000e+00,  0.00000000e+00,  0.00000000e+00,\n",
       "         0.00000000e+00],\n",
       "       [ 8.03897207e-01, -8.81376346e-01, -4.82684654e-02,\n",
       "        -5.77584761e-01, -6.36039159e-01, -4.62130924e-01,\n",
       "        -5.40709918e-01,  4.54589465e-01, -3.01993267e-01,\n",
       "        -2.79273150e-03, -2.86406915e-01,  1.00000000e+00,\n",
       "         0.00000000e+00,  0.00000000e+00,  0.00000000e+00,\n",
       "         0.00000000e+00],\n",
       "       [ 7.09162124e-01, -6.94163068e-01,  1.85617335e+00,\n",
       "        -4.90211603e-01, -7.14799160e-01, -6.42426477e-01,\n",
       "        -6.58833663e-01,  1.14967128e+00,  3.74515680e-01,\n",
       "        -2.60641057e-02, -1.05543010e+00,  1.00000000e+00,\n",
       "         0.00000000e+00,  0.00000000e+00,  0.00000000e+00,\n",
       "         0.00000000e+00],\n",
       "       [ 8.33813549e-01, -7.31605724e-01,  3.48490247e-01,\n",
       "        -1.45777416e-01, -2.06439153e-01, -2.25547980e-01,\n",
       "        -1.44339128e-01, -1.14615115e-01, -8.81814987e-02,\n",
       "        -4.03983257e-02, -3.18127535e-01,  1.00000000e+00,\n",
       "         0.00000000e+00,  0.00000000e+00,  0.00000000e+00,\n",
       "         0.00000000e+00],\n",
       "       [ 6.39357327e-01, -7.45646720e-01,  1.06265593e+00,\n",
       "        -5.36197475e-01,  1.70654185e-01,  1.57030387e-01,\n",
       "         1.18158084e-01, -1.13418398e+00, -1.14228425e+00,\n",
       "        -1.31285110e-02,  3.45591646e+00,  1.00000000e+00,\n",
       "         0.00000000e+00,  0.00000000e+00,  0.00000000e+00,\n",
       "         0.00000000e+00],\n",
       "       [-1.18055347e+00,  6.86534853e-01, -6.03730662e-01,\n",
       "        -1.17266175e-01, -4.33172490e-01, -4.51577038e-01,\n",
       "        -4.17336228e-01,  2.02456272e+00,  6.55453143e-01,\n",
       "        -3.62348921e-02, -1.09146214e+00,  1.00000000e+00,\n",
       "         0.00000000e+00,  0.00000000e+00,  0.00000000e+00,\n",
       "         0.00000000e+00],\n",
       "       [ 7.88939036e-01, -9.04778005e-01, -7.62434147e-01,\n",
       "         9.96051802e-01,  1.17066753e+00,  8.75574124e-01,\n",
       "         1.23639621e+00,  6.89755496e-02, -2.02587947e-01,\n",
       "        -5.20474155e-02,  2.00078583e-02,  1.00000000e+00,\n",
       "         0.00000000e+00,  0.00000000e+00,  0.00000000e+00,\n",
       "         0.00000000e+00],\n",
       "       [-1.41988420e+00,  2.25912638e+00, -1.00048937e+00,\n",
       "         4.18469241e-01,  3.95000855e-01,  3.29410524e-01,\n",
       "         4.14779933e-01, -9.09106867e-01, -1.55232642e-02,\n",
       "        -3.10819569e-02, -2.52782502e-01,  0.00000000e+00,\n",
       "         1.00000000e+00,  0.00000000e+00,  0.00000000e+00,\n",
       "         0.00000000e+00],\n",
       "       [ 8.93646232e-01, -9.14138669e-01, -1.00048937e+00,\n",
       "        -5.10445387e-01, -7.12412494e-01, -6.57377815e-01,\n",
       "        -6.61458635e-01,  9.61406829e-01,  3.10888255e-01,\n",
       "        -3.10110352e-02, -9.69072050e-01,  1.00000000e+00,\n",
       "         0.00000000e+00,  0.00000000e+00,  0.00000000e+00,\n",
       "         0.00000000e+00],\n",
       "       [-1.33013518e+00,  1.02351875e+00,  1.85617335e+00,\n",
       "        -1.22324621e-01,  4.89341835e-02, -4.28710285e-01,\n",
       "         4.99088085e-02, -3.84592119e-01, -3.59066482e-01,\n",
       "        -1.11216866e-01,  3.86445612e-01,  0.00000000e+00,\n",
       "         0.00000000e+00,  0.00000000e+00,  1.00000000e+00,\n",
       "         0.00000000e+00]])"
      ]
     },
     "execution_count": 24,
     "metadata": {},
     "output_type": "execute_result"
    }
   ],
   "source": [
    "test_data_prepared\n"
   ]
  },
  {
   "cell_type": "code",
   "execution_count": 42,
   "id": "6dc0c53b",
   "metadata": {},
   "outputs": [],
   "source": [
    "predicted_label = LR_model.predict(test_data_prepared)"
   ]
  },
  {
   "cell_type": "code",
   "execution_count": 43,
   "id": "8c69a344",
   "metadata": {},
   "outputs": [],
   "source": [
    "predicted_label\n",
    "test_label = y.loc[test_data.index]"
   ]
  },
  {
   "cell_type": "code",
   "execution_count": 44,
   "id": "836fa9d4",
   "metadata": {},
   "outputs": [
    {
     "data": {
      "text/html": [
       "<div>\n",
       "<style scoped>\n",
       "    .dataframe tbody tr th:only-of-type {\n",
       "        vertical-align: middle;\n",
       "    }\n",
       "\n",
       "    .dataframe tbody tr th {\n",
       "        vertical-align: top;\n",
       "    }\n",
       "\n",
       "    .dataframe thead th {\n",
       "        text-align: right;\n",
       "    }\n",
       "</style>\n",
       "<table border=\"1\" class=\"dataframe\">\n",
       "  <thead>\n",
       "    <tr style=\"text-align: right;\">\n",
       "      <th></th>\n",
       "      <th>Bashorat</th>\n",
       "      <th>Original</th>\n",
       "    </tr>\n",
       "  </thead>\n",
       "  <tbody>\n",
       "    <tr>\n",
       "      <th>3186</th>\n",
       "      <td>145746.290077</td>\n",
       "      <td>104200.0</td>\n",
       "    </tr>\n",
       "    <tr>\n",
       "      <th>13904</th>\n",
       "      <td>50947.852768</td>\n",
       "      <td>73300.0</td>\n",
       "    </tr>\n",
       "    <tr>\n",
       "      <th>14154</th>\n",
       "      <td>180225.476546</td>\n",
       "      <td>185500.0</td>\n",
       "    </tr>\n",
       "    <tr>\n",
       "      <th>5758</th>\n",
       "      <td>218574.070986</td>\n",
       "      <td>256300.0</td>\n",
       "    </tr>\n",
       "    <tr>\n",
       "      <th>16608</th>\n",
       "      <td>162973.838082</td>\n",
       "      <td>158200.0</td>\n",
       "    </tr>\n",
       "    <tr>\n",
       "      <th>6465</th>\n",
       "      <td>198736.373497</td>\n",
       "      <td>235300.0</td>\n",
       "    </tr>\n",
       "    <tr>\n",
       "      <th>5121</th>\n",
       "      <td>213056.667959</td>\n",
       "      <td>127400.0</td>\n",
       "    </tr>\n",
       "    <tr>\n",
       "      <th>10848</th>\n",
       "      <td>263990.456307</td>\n",
       "      <td>243300.0</td>\n",
       "    </tr>\n",
       "    <tr>\n",
       "      <th>14412</th>\n",
       "      <td>275338.251229</td>\n",
       "      <td>356500.0</td>\n",
       "    </tr>\n",
       "    <tr>\n",
       "      <th>1895</th>\n",
       "      <td>45286.866117</td>\n",
       "      <td>107200.0</td>\n",
       "    </tr>\n",
       "  </tbody>\n",
       "</table>\n",
       "</div>"
      ],
      "text/plain": [
       "            Bashorat  Original\n",
       "3186   145746.290077  104200.0\n",
       "13904   50947.852768   73300.0\n",
       "14154  180225.476546  185500.0\n",
       "5758   218574.070986  256300.0\n",
       "16608  162973.838082  158200.0\n",
       "6465   198736.373497  235300.0\n",
       "5121   213056.667959  127400.0\n",
       "10848  263990.456307  243300.0\n",
       "14412  275338.251229  356500.0\n",
       "1895    45286.866117  107200.0"
      ]
     },
     "execution_count": 44,
     "metadata": {},
     "output_type": "execute_result"
    }
   ],
   "source": [
    "pd.DataFrame({'Bashorat':predicted_label, 'Original':test_label})"
   ]
  },
  {
   "cell_type": "markdown",
   "id": "f9ad5c0a",
   "metadata": {},
   "source": [
    "# Evaluating Model\n"
   ]
  },
  {
   "cell_type": "code",
   "execution_count": 45,
   "id": "03f9dc6e",
   "metadata": {},
   "outputs": [
    {
     "data": {
      "text/html": [
       "<div>\n",
       "<style scoped>\n",
       "    .dataframe tbody tr th:only-of-type {\n",
       "        vertical-align: middle;\n",
       "    }\n",
       "\n",
       "    .dataframe tbody tr th {\n",
       "        vertical-align: top;\n",
       "    }\n",
       "\n",
       "    .dataframe thead th {\n",
       "        text-align: right;\n",
       "    }\n",
       "</style>\n",
       "<table border=\"1\" class=\"dataframe\">\n",
       "  <thead>\n",
       "    <tr style=\"text-align: right;\">\n",
       "      <th></th>\n",
       "      <th>longitude</th>\n",
       "      <th>latitude</th>\n",
       "      <th>housing_median_age</th>\n",
       "      <th>total_rooms</th>\n",
       "      <th>total_bedrooms</th>\n",
       "      <th>population</th>\n",
       "      <th>households</th>\n",
       "      <th>median_income</th>\n",
       "      <th>median_house_value</th>\n",
       "      <th>ocean_proximity</th>\n",
       "    </tr>\n",
       "  </thead>\n",
       "  <tbody>\n",
       "    <tr>\n",
       "      <th>20046</th>\n",
       "      <td>-119.01</td>\n",
       "      <td>36.06</td>\n",
       "      <td>25.0</td>\n",
       "      <td>1505.0</td>\n",
       "      <td>NaN</td>\n",
       "      <td>1392.0</td>\n",
       "      <td>359.0</td>\n",
       "      <td>1.6812</td>\n",
       "      <td>47700.0</td>\n",
       "      <td>INLAND</td>\n",
       "    </tr>\n",
       "    <tr>\n",
       "      <th>3024</th>\n",
       "      <td>-119.46</td>\n",
       "      <td>35.14</td>\n",
       "      <td>30.0</td>\n",
       "      <td>2943.0</td>\n",
       "      <td>NaN</td>\n",
       "      <td>1565.0</td>\n",
       "      <td>584.0</td>\n",
       "      <td>2.5313</td>\n",
       "      <td>45800.0</td>\n",
       "      <td>INLAND</td>\n",
       "    </tr>\n",
       "    <tr>\n",
       "      <th>15663</th>\n",
       "      <td>-122.44</td>\n",
       "      <td>37.80</td>\n",
       "      <td>52.0</td>\n",
       "      <td>3830.0</td>\n",
       "      <td>NaN</td>\n",
       "      <td>1310.0</td>\n",
       "      <td>963.0</td>\n",
       "      <td>3.4801</td>\n",
       "      <td>500001.0</td>\n",
       "      <td>NEAR BAY</td>\n",
       "    </tr>\n",
       "    <tr>\n",
       "      <th>20484</th>\n",
       "      <td>-118.72</td>\n",
       "      <td>34.28</td>\n",
       "      <td>17.0</td>\n",
       "      <td>3051.0</td>\n",
       "      <td>NaN</td>\n",
       "      <td>1705.0</td>\n",
       "      <td>495.0</td>\n",
       "      <td>5.7376</td>\n",
       "      <td>218600.0</td>\n",
       "      <td>&lt;1H OCEAN</td>\n",
       "    </tr>\n",
       "    <tr>\n",
       "      <th>9814</th>\n",
       "      <td>-121.93</td>\n",
       "      <td>36.62</td>\n",
       "      <td>34.0</td>\n",
       "      <td>2351.0</td>\n",
       "      <td>NaN</td>\n",
       "      <td>1063.0</td>\n",
       "      <td>428.0</td>\n",
       "      <td>3.7250</td>\n",
       "      <td>278000.0</td>\n",
       "      <td>NEAR OCEAN</td>\n",
       "    </tr>\n",
       "    <tr>\n",
       "      <th>...</th>\n",
       "      <td>...</td>\n",
       "      <td>...</td>\n",
       "      <td>...</td>\n",
       "      <td>...</td>\n",
       "      <td>...</td>\n",
       "      <td>...</td>\n",
       "      <td>...</td>\n",
       "      <td>...</td>\n",
       "      <td>...</td>\n",
       "      <td>...</td>\n",
       "    </tr>\n",
       "    <tr>\n",
       "      <th>15362</th>\n",
       "      <td>-117.22</td>\n",
       "      <td>33.36</td>\n",
       "      <td>16.0</td>\n",
       "      <td>3165.0</td>\n",
       "      <td>482.0</td>\n",
       "      <td>1351.0</td>\n",
       "      <td>452.0</td>\n",
       "      <td>4.6050</td>\n",
       "      <td>263300.0</td>\n",
       "      <td>&lt;1H OCEAN</td>\n",
       "    </tr>\n",
       "    <tr>\n",
       "      <th>16623</th>\n",
       "      <td>-120.83</td>\n",
       "      <td>35.36</td>\n",
       "      <td>28.0</td>\n",
       "      <td>4323.0</td>\n",
       "      <td>886.0</td>\n",
       "      <td>1650.0</td>\n",
       "      <td>705.0</td>\n",
       "      <td>2.7266</td>\n",
       "      <td>266800.0</td>\n",
       "      <td>NEAR OCEAN</td>\n",
       "    </tr>\n",
       "    <tr>\n",
       "      <th>18086</th>\n",
       "      <td>-122.05</td>\n",
       "      <td>37.31</td>\n",
       "      <td>25.0</td>\n",
       "      <td>4111.0</td>\n",
       "      <td>538.0</td>\n",
       "      <td>1585.0</td>\n",
       "      <td>568.0</td>\n",
       "      <td>9.2298</td>\n",
       "      <td>500001.0</td>\n",
       "      <td>&lt;1H OCEAN</td>\n",
       "    </tr>\n",
       "    <tr>\n",
       "      <th>2144</th>\n",
       "      <td>-119.76</td>\n",
       "      <td>36.77</td>\n",
       "      <td>36.0</td>\n",
       "      <td>2507.0</td>\n",
       "      <td>466.0</td>\n",
       "      <td>1227.0</td>\n",
       "      <td>474.0</td>\n",
       "      <td>2.7850</td>\n",
       "      <td>72300.0</td>\n",
       "      <td>INLAND</td>\n",
       "    </tr>\n",
       "    <tr>\n",
       "      <th>3665</th>\n",
       "      <td>-118.37</td>\n",
       "      <td>34.22</td>\n",
       "      <td>17.0</td>\n",
       "      <td>1787.0</td>\n",
       "      <td>463.0</td>\n",
       "      <td>1671.0</td>\n",
       "      <td>448.0</td>\n",
       "      <td>3.5521</td>\n",
       "      <td>151500.0</td>\n",
       "      <td>&lt;1H OCEAN</td>\n",
       "    </tr>\n",
       "  </tbody>\n",
       "</table>\n",
       "<p>4128 rows × 10 columns</p>\n",
       "</div>"
      ],
      "text/plain": [
       "       longitude  latitude  housing_median_age  total_rooms  total_bedrooms  \\\n",
       "20046    -119.01     36.06                25.0       1505.0             NaN   \n",
       "3024     -119.46     35.14                30.0       2943.0             NaN   \n",
       "15663    -122.44     37.80                52.0       3830.0             NaN   \n",
       "20484    -118.72     34.28                17.0       3051.0             NaN   \n",
       "9814     -121.93     36.62                34.0       2351.0             NaN   \n",
       "...          ...       ...                 ...          ...             ...   \n",
       "15362    -117.22     33.36                16.0       3165.0           482.0   \n",
       "16623    -120.83     35.36                28.0       4323.0           886.0   \n",
       "18086    -122.05     37.31                25.0       4111.0           538.0   \n",
       "2144     -119.76     36.77                36.0       2507.0           466.0   \n",
       "3665     -118.37     34.22                17.0       1787.0           463.0   \n",
       "\n",
       "       population  households  median_income  median_house_value  \\\n",
       "20046      1392.0       359.0         1.6812             47700.0   \n",
       "3024       1565.0       584.0         2.5313             45800.0   \n",
       "15663      1310.0       963.0         3.4801            500001.0   \n",
       "20484      1705.0       495.0         5.7376            218600.0   \n",
       "9814       1063.0       428.0         3.7250            278000.0   \n",
       "...           ...         ...            ...                 ...   \n",
       "15362      1351.0       452.0         4.6050            263300.0   \n",
       "16623      1650.0       705.0         2.7266            266800.0   \n",
       "18086      1585.0       568.0         9.2298            500001.0   \n",
       "2144       1227.0       474.0         2.7850             72300.0   \n",
       "3665       1671.0       448.0         3.5521            151500.0   \n",
       "\n",
       "      ocean_proximity  \n",
       "20046          INLAND  \n",
       "3024           INLAND  \n",
       "15663        NEAR BAY  \n",
       "20484       <1H OCEAN  \n",
       "9814       NEAR OCEAN  \n",
       "...               ...  \n",
       "15362       <1H OCEAN  \n",
       "16623      NEAR OCEAN  \n",
       "18086       <1H OCEAN  \n",
       "2144           INLAND  \n",
       "3665        <1H OCEAN  \n",
       "\n",
       "[4128 rows x 10 columns]"
      ]
     },
     "execution_count": 45,
     "metadata": {},
     "output_type": "execute_result"
    }
   ],
   "source": [
    " test_set"
   ]
  },
  {
   "cell_type": "code",
   "execution_count": 46,
   "id": "396def18",
   "metadata": {},
   "outputs": [],
   "source": [
    " X_test = test_set.drop('median_house_value',axis =1)"
   ]
  },
  {
   "cell_type": "code",
   "execution_count": 47,
   "id": "e533df3c",
   "metadata": {},
   "outputs": [
    {
     "data": {
      "text/html": [
       "<div>\n",
       "<style scoped>\n",
       "    .dataframe tbody tr th:only-of-type {\n",
       "        vertical-align: middle;\n",
       "    }\n",
       "\n",
       "    .dataframe tbody tr th {\n",
       "        vertical-align: top;\n",
       "    }\n",
       "\n",
       "    .dataframe thead th {\n",
       "        text-align: right;\n",
       "    }\n",
       "</style>\n",
       "<table border=\"1\" class=\"dataframe\">\n",
       "  <thead>\n",
       "    <tr style=\"text-align: right;\">\n",
       "      <th></th>\n",
       "      <th>longitude</th>\n",
       "      <th>latitude</th>\n",
       "      <th>housing_median_age</th>\n",
       "      <th>total_rooms</th>\n",
       "      <th>total_bedrooms</th>\n",
       "      <th>population</th>\n",
       "      <th>households</th>\n",
       "      <th>median_income</th>\n",
       "      <th>ocean_proximity</th>\n",
       "    </tr>\n",
       "  </thead>\n",
       "  <tbody>\n",
       "    <tr>\n",
       "      <th>20046</th>\n",
       "      <td>-119.01</td>\n",
       "      <td>36.06</td>\n",
       "      <td>25.0</td>\n",
       "      <td>1505.0</td>\n",
       "      <td>NaN</td>\n",
       "      <td>1392.0</td>\n",
       "      <td>359.0</td>\n",
       "      <td>1.6812</td>\n",
       "      <td>INLAND</td>\n",
       "    </tr>\n",
       "    <tr>\n",
       "      <th>3024</th>\n",
       "      <td>-119.46</td>\n",
       "      <td>35.14</td>\n",
       "      <td>30.0</td>\n",
       "      <td>2943.0</td>\n",
       "      <td>NaN</td>\n",
       "      <td>1565.0</td>\n",
       "      <td>584.0</td>\n",
       "      <td>2.5313</td>\n",
       "      <td>INLAND</td>\n",
       "    </tr>\n",
       "    <tr>\n",
       "      <th>15663</th>\n",
       "      <td>-122.44</td>\n",
       "      <td>37.80</td>\n",
       "      <td>52.0</td>\n",
       "      <td>3830.0</td>\n",
       "      <td>NaN</td>\n",
       "      <td>1310.0</td>\n",
       "      <td>963.0</td>\n",
       "      <td>3.4801</td>\n",
       "      <td>NEAR BAY</td>\n",
       "    </tr>\n",
       "    <tr>\n",
       "      <th>20484</th>\n",
       "      <td>-118.72</td>\n",
       "      <td>34.28</td>\n",
       "      <td>17.0</td>\n",
       "      <td>3051.0</td>\n",
       "      <td>NaN</td>\n",
       "      <td>1705.0</td>\n",
       "      <td>495.0</td>\n",
       "      <td>5.7376</td>\n",
       "      <td>&lt;1H OCEAN</td>\n",
       "    </tr>\n",
       "    <tr>\n",
       "      <th>9814</th>\n",
       "      <td>-121.93</td>\n",
       "      <td>36.62</td>\n",
       "      <td>34.0</td>\n",
       "      <td>2351.0</td>\n",
       "      <td>NaN</td>\n",
       "      <td>1063.0</td>\n",
       "      <td>428.0</td>\n",
       "      <td>3.7250</td>\n",
       "      <td>NEAR OCEAN</td>\n",
       "    </tr>\n",
       "    <tr>\n",
       "      <th>...</th>\n",
       "      <td>...</td>\n",
       "      <td>...</td>\n",
       "      <td>...</td>\n",
       "      <td>...</td>\n",
       "      <td>...</td>\n",
       "      <td>...</td>\n",
       "      <td>...</td>\n",
       "      <td>...</td>\n",
       "      <td>...</td>\n",
       "    </tr>\n",
       "    <tr>\n",
       "      <th>15362</th>\n",
       "      <td>-117.22</td>\n",
       "      <td>33.36</td>\n",
       "      <td>16.0</td>\n",
       "      <td>3165.0</td>\n",
       "      <td>482.0</td>\n",
       "      <td>1351.0</td>\n",
       "      <td>452.0</td>\n",
       "      <td>4.6050</td>\n",
       "      <td>&lt;1H OCEAN</td>\n",
       "    </tr>\n",
       "    <tr>\n",
       "      <th>16623</th>\n",
       "      <td>-120.83</td>\n",
       "      <td>35.36</td>\n",
       "      <td>28.0</td>\n",
       "      <td>4323.0</td>\n",
       "      <td>886.0</td>\n",
       "      <td>1650.0</td>\n",
       "      <td>705.0</td>\n",
       "      <td>2.7266</td>\n",
       "      <td>NEAR OCEAN</td>\n",
       "    </tr>\n",
       "    <tr>\n",
       "      <th>18086</th>\n",
       "      <td>-122.05</td>\n",
       "      <td>37.31</td>\n",
       "      <td>25.0</td>\n",
       "      <td>4111.0</td>\n",
       "      <td>538.0</td>\n",
       "      <td>1585.0</td>\n",
       "      <td>568.0</td>\n",
       "      <td>9.2298</td>\n",
       "      <td>&lt;1H OCEAN</td>\n",
       "    </tr>\n",
       "    <tr>\n",
       "      <th>2144</th>\n",
       "      <td>-119.76</td>\n",
       "      <td>36.77</td>\n",
       "      <td>36.0</td>\n",
       "      <td>2507.0</td>\n",
       "      <td>466.0</td>\n",
       "      <td>1227.0</td>\n",
       "      <td>474.0</td>\n",
       "      <td>2.7850</td>\n",
       "      <td>INLAND</td>\n",
       "    </tr>\n",
       "    <tr>\n",
       "      <th>3665</th>\n",
       "      <td>-118.37</td>\n",
       "      <td>34.22</td>\n",
       "      <td>17.0</td>\n",
       "      <td>1787.0</td>\n",
       "      <td>463.0</td>\n",
       "      <td>1671.0</td>\n",
       "      <td>448.0</td>\n",
       "      <td>3.5521</td>\n",
       "      <td>&lt;1H OCEAN</td>\n",
       "    </tr>\n",
       "  </tbody>\n",
       "</table>\n",
       "<p>4128 rows × 9 columns</p>\n",
       "</div>"
      ],
      "text/plain": [
       "       longitude  latitude  housing_median_age  total_rooms  total_bedrooms  \\\n",
       "20046    -119.01     36.06                25.0       1505.0             NaN   \n",
       "3024     -119.46     35.14                30.0       2943.0             NaN   \n",
       "15663    -122.44     37.80                52.0       3830.0             NaN   \n",
       "20484    -118.72     34.28                17.0       3051.0             NaN   \n",
       "9814     -121.93     36.62                34.0       2351.0             NaN   \n",
       "...          ...       ...                 ...          ...             ...   \n",
       "15362    -117.22     33.36                16.0       3165.0           482.0   \n",
       "16623    -120.83     35.36                28.0       4323.0           886.0   \n",
       "18086    -122.05     37.31                25.0       4111.0           538.0   \n",
       "2144     -119.76     36.77                36.0       2507.0           466.0   \n",
       "3665     -118.37     34.22                17.0       1787.0           463.0   \n",
       "\n",
       "       population  households  median_income ocean_proximity  \n",
       "20046      1392.0       359.0         1.6812          INLAND  \n",
       "3024       1565.0       584.0         2.5313          INLAND  \n",
       "15663      1310.0       963.0         3.4801        NEAR BAY  \n",
       "20484      1705.0       495.0         5.7376       <1H OCEAN  \n",
       "9814       1063.0       428.0         3.7250      NEAR OCEAN  \n",
       "...           ...         ...            ...             ...  \n",
       "15362      1351.0       452.0         4.6050       <1H OCEAN  \n",
       "16623      1650.0       705.0         2.7266      NEAR OCEAN  \n",
       "18086      1585.0       568.0         9.2298       <1H OCEAN  \n",
       "2144       1227.0       474.0         2.7850          INLAND  \n",
       "3665       1671.0       448.0         3.5521       <1H OCEAN  \n",
       "\n",
       "[4128 rows x 9 columns]"
      ]
     },
     "execution_count": 47,
     "metadata": {},
     "output_type": "execute_result"
    }
   ],
   "source": [
    "X_test"
   ]
  },
  {
   "cell_type": "code",
   "execution_count": 48,
   "id": "52993ac7",
   "metadata": {},
   "outputs": [],
   "source": [
    "y_test = test_set['median_house_value'].copy()"
   ]
  },
  {
   "cell_type": "code",
   "execution_count": 49,
   "id": "31e5c153",
   "metadata": {},
   "outputs": [],
   "source": [
    "X_test_prepared = full_pipeline.transform(X_test)"
   ]
  },
  {
   "cell_type": "code",
   "execution_count": 50,
   "id": "d6639d85",
   "metadata": {},
   "outputs": [],
   "source": [
    "y_predicted = LR_model.predict(X_test_prepared)"
   ]
  },
  {
   "cell_type": "code",
   "execution_count": 51,
   "id": "070fc02a",
   "metadata": {},
   "outputs": [
    {
     "data": {
      "text/plain": [
       "array([ 61874.25460143, 121853.52511139, 267770.94368091, ...,\n",
       "       447837.04647878, 117275.9214608 , 185597.46125194])"
      ]
     },
     "execution_count": 51,
     "metadata": {},
     "output_type": "execute_result"
    }
   ],
   "source": [
    "y_predicted"
   ]
  },
  {
   "cell_type": "code",
   "execution_count": 52,
   "id": "7011223c",
   "metadata": {},
   "outputs": [
    {
     "data": {
      "text/plain": [
       "20046     47700.0\n",
       "3024      45800.0\n",
       "15663    500001.0\n",
       "20484    218600.0\n",
       "9814     278000.0\n",
       "           ...   \n",
       "15362    263300.0\n",
       "16623    266800.0\n",
       "18086    500001.0\n",
       "2144      72300.0\n",
       "3665     151500.0\n",
       "Name: median_house_value, Length: 4128, dtype: float64"
      ]
     },
     "execution_count": 52,
     "metadata": {},
     "output_type": "execute_result"
    }
   ],
   "source": [
    "y_test"
   ]
  },
  {
   "cell_type": "markdown",
   "id": "5512d824",
   "metadata": {},
   "source": [
    "#  MEAN ABSOLUTE ERROR"
   ]
  },
  {
   "cell_type": "code",
   "execution_count": 53,
   "id": "4a16213a",
   "metadata": {},
   "outputs": [],
   "source": [
    "from sklearn.metrics import mean_absolute_error\n",
    "\n",
    "\n",
    "mae = mean_absolute_error(y_test,y_predicted)"
   ]
  },
  {
   "cell_type": "code",
   "execution_count": 54,
   "id": "be1045e0",
   "metadata": {},
   "outputs": [
    {
     "data": {
      "text/plain": [
       "50898.7395349408"
      ]
     },
     "execution_count": 54,
     "metadata": {},
     "output_type": "execute_result"
    }
   ],
   "source": [
    "mae # eror"
   ]
  },
  {
   "cell_type": "code",
   "execution_count": 56,
   "id": "db135118",
   "metadata": {},
   "outputs": [
    {
     "name": "stdout",
     "output_type": "stream",
     "text": [
      "Mae is  50898.7395349408\n"
     ]
    }
   ],
   "source": [
    "print(\"Mae is \" ,mae)"
   ]
  },
  {
   "cell_type": "code",
   "execution_count": 58,
   "id": "5185a84e",
   "metadata": {},
   "outputs": [
    {
     "name": "stdout",
     "output_type": "stream",
     "text": [
      "RMSE 72701.32600762139\n"
     ]
    }
   ],
   "source": [
    "from sklearn.metrics import mean_squared_error\n",
    "mse = mean_squared_error(y_test,y_predicted)\n",
    "print(\"RMSE\", np.sqrt(mse))"
   ]
  },
  {
   "cell_type": "markdown",
   "id": "80207b8a",
   "metadata": {},
   "source": [
    "# RANDOM FOREST"
   ]
  },
  {
   "cell_type": "code",
   "execution_count": 60,
   "id": "25d399e7",
   "metadata": {
    "scrolled": true
   },
   "outputs": [
    {
     "data": {
      "text/plain": [
       "RandomForestRegressor()"
      ]
     },
     "execution_count": 60,
     "metadata": {},
     "output_type": "execute_result"
    }
   ],
   "source": [
    "from sklearn.ensemble import RandomForestRegressor\n",
    "RF_model = RandomForestRegressor()\n",
    "RF_model.fit(x_prepared,y)"
   ]
  },
  {
   "cell_type": "code",
   "execution_count": 61,
   "id": "3bd6ba60",
   "metadata": {},
   "outputs": [],
   "source": [
    "y_predicted = RF_model.predict(X_test_prepared)"
   ]
  },
  {
   "cell_type": "code",
   "execution_count": 62,
   "id": "b4bc60e0",
   "metadata": {},
   "outputs": [
    {
     "name": "stdout",
     "output_type": "stream",
     "text": [
      "RMSE 50292.05043271166\n"
     ]
    }
   ],
   "source": [
    "from sklearn.metrics import mean_squared_error\n",
    "mse = mean_squared_error(y_test,y_predicted)\n",
    "print(\"RMSE\", np.sqrt(mse))"
   ]
  },
  {
   "cell_type": "markdown",
   "id": "fff6d5fb",
   "metadata": {},
   "source": [
    "# CROSS VALIDATION"
   ]
  },
  {
   "cell_type": "code",
   "execution_count": 63,
   "id": "2065107e",
   "metadata": {},
   "outputs": [],
   "source": [
    "X  = df.drop('median_house_value',axis=1)\n",
    "y = df[\"median_house_value\"].copy()\n",
    "\n",
    "X_prepared = full_pipeline.transform(X)"
   ]
  },
  {
   "cell_type": "code",
   "execution_count": 64,
   "id": "a31d465a",
   "metadata": {},
   "outputs": [],
   "source": [
    "from sklearn.model_selection import cross_val_score"
   ]
  },
  {
   "cell_type": "code",
   "execution_count": 67,
   "id": "45ab273a",
   "metadata": {},
   "outputs": [],
   "source": [
    "mse_scores =cross_val_score(LR_model,X_prepared,y,scoring=\"neg_mean_squared_error\",cv=5)\n"
   ]
  },
  {
   "cell_type": "code",
   "execution_count": null,
   "id": "b462ea8f",
   "metadata": {},
   "outputs": [],
   "source": [
    "def display(scores):\n",
    "    print(\"Scores: \",scores)\n",
    "    print(\"Mean: \", scores.mean())\n",
    "    print(\"Std.dev: \", scores.std())\n",
    "    \n",
    "display(np.sqrt(-mse_scores))"
   ]
  },
  {
   "cell_type": "code",
   "execution_count": null,
   "id": "858041c0",
   "metadata": {},
   "outputs": [],
   "source": [
    "scores=cross_val_score(RF_model,X_prepared,y,scoring=\"neg_mean_squared_error\",cv=10)\n",
    "LR_rmse_scores = np.sqrt(-scores)\n"
   ]
  },
  {
   "cell_type": "code",
   "execution_count": null,
   "id": "45502a70",
   "metadata": {},
   "outputs": [],
   "source": [
    "display(LR_rmse_scores)"
   ]
  },
  {
   "cell_type": "markdown",
   "id": "c0855aa4",
   "metadata": {},
   "source": [
    "# MODEL PRODUCTION"
   ]
  },
  {
   "cell_type": "code",
   "execution_count": 71,
   "id": "547de7d4",
   "metadata": {},
   "outputs": [
    {
     "ename": "NameError",
     "evalue": "name 'pickle' is not defined",
     "output_type": "error",
     "traceback": [
      "\u001b[1;31m---------------------------------------------------------------------------\u001b[0m",
      "\u001b[1;31mNameError\u001b[0m                                 Traceback (most recent call last)",
      "\u001b[1;32m<ipython-input-71-2954a0ff692e>\u001b[0m in \u001b[0;36m<module>\u001b[1;34m\u001b[0m\n\u001b[0;32m      3\u001b[0m \u001b[0mfilename\u001b[0m \u001b[1;33m=\u001b[0m \u001b[1;34m'RF_model.pkl'\u001b[0m\u001b[1;33m\u001b[0m\u001b[1;33m\u001b[0m\u001b[0m\n\u001b[0;32m      4\u001b[0m \u001b[1;32mwith\u001b[0m \u001b[0mopen\u001b[0m\u001b[1;33m(\u001b[0m\u001b[0mfilename\u001b[0m\u001b[1;33m,\u001b[0m\u001b[1;34m'wb'\u001b[0m\u001b[1;33m)\u001b[0m \u001b[1;32mas\u001b[0m \u001b[0mfile\u001b[0m\u001b[1;33m:\u001b[0m\u001b[1;33m\u001b[0m\u001b[1;33m\u001b[0m\u001b[0m\n\u001b[1;32m----> 5\u001b[1;33m     \u001b[0mpickle\u001b[0m\u001b[1;33m.\u001b[0m\u001b[0mdump\u001b[0m\u001b[1;33m(\u001b[0m\u001b[0mRF_model\u001b[0m\u001b[1;33m,\u001b[0m\u001b[0mfile\u001b[0m\u001b[1;33m)\u001b[0m\u001b[1;33m\u001b[0m\u001b[1;33m\u001b[0m\u001b[0m\n\u001b[0m",
      "\u001b[1;31mNameError\u001b[0m: name 'pickle' is not defined"
     ]
    }
   ],
   "source": [
    "#pickle\n",
    "\n",
    "filename = 'RF_model.pkl'\n",
    "with open(filename,'wb') as file:\n",
    "    pickle.dump(RF_model,file)"
   ]
  },
  {
   "cell_type": "code",
   "execution_count": 74,
   "id": "9058c6d0",
   "metadata": {},
   "outputs": [
    {
     "data": {
      "text/plain": [
       "['RF_model.jbl']"
      ]
     },
     "execution_count": 74,
     "metadata": {},
     "output_type": "execute_result"
    }
   ],
   "source": [
    "import joblib\n",
    "\n",
    "filename = 'RF_model.jbl'\n",
    "joblib.dump(RF_model,filename)"
   ]
  },
  {
   "cell_type": "markdown",
   "id": "f41cf8e6",
   "metadata": {},
   "source": []
  },
  {
   "cell_type": "code",
   "execution_count": 75,
   "id": "bdfd53a2",
   "metadata": {},
   "outputs": [],
   "source": [
    "model = joblib.load(filename)"
   ]
  },
  {
   "cell_type": "code",
   "execution_count": 76,
   "id": "0b6922d0",
   "metadata": {},
   "outputs": [
    {
     "data": {
      "text/plain": [
       "RandomForestRegressor()"
      ]
     },
     "execution_count": 76,
     "metadata": {},
     "output_type": "execute_result"
    }
   ],
   "source": [
    "model"
   ]
  },
  {
   "cell_type": "code",
   "execution_count": null,
   "id": "cb561284",
   "metadata": {},
   "outputs": [],
   "source": []
  }
 ],
 "metadata": {
  "kernelspec": {
   "display_name": "Python 3",
   "language": "python",
   "name": "python3"
  },
  "language_info": {
   "codemirror_mode": {
    "name": "ipython",
    "version": 3
   },
   "file_extension": ".py",
   "mimetype": "text/x-python",
   "name": "python",
   "nbconvert_exporter": "python",
   "pygments_lexer": "ipython3",
   "version": "3.8.7"
  }
 },
 "nbformat": 4,
 "nbformat_minor": 5
}
