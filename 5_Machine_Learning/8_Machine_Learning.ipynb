{
 "cells": [
  {
   "cell_type": "code",
   "execution_count": 1,
   "id": "998c4ad4",
   "metadata": {},
   "outputs": [],
   "source": [
    "import pandas as pd\n",
    "import numpy as np\n",
    "import sklearn # scikit-learn kutubxonasi"
   ]
  },
  {
   "cell_type": "code",
   "execution_count": 2,
   "id": "b1d8bf14",
   "metadata": {},
   "outputs": [],
   "source": [
    "# Onlayn dataset joylashgan manzilini ko'rsatamiaz\n",
    "URL = \"https://github.com/ageron/handson-ml2/blob/master/datasets/housing/housing.csv?raw=true\"\n",
    "df = pd.read_csv(URL)"
   ]
  },
  {
   "cell_type": "code",
   "execution_count": 3,
   "id": "a61ce0f1",
   "metadata": {},
   "outputs": [],
   "source": [
    "from sklearn.model_selection import train_test_split\n",
    "train_set, test_set = train_test_split(df, test_size=0.2, random_state=42)\n",
    "\n",
    "X_train = train_set.drop(\"median_house_value\", axis=1)\n",
    "y = train_set[\"median_house_value\"].copy()\n",
    "\n",
    "X_num = X_train.drop(\"ocean_proximity\", axis=1)"
   ]
  },
  {
   "cell_type": "code",
   "execution_count": 4,
   "id": "18885df0",
   "metadata": {},
   "outputs": [],
   "source": [
    "from sklearn.base import BaseEstimator, TransformerMixin\n",
    "# bizga kerak ustunlar indekslari\n",
    "rooms_ix, bedrooms_ix, population_ix, households_ix = 3, 4, 5, 6\n",
    "\n",
    "class CombinedAttributesAdder(BaseEstimator, TransformerMixin):\n",
    "    def __init__(self, add_bedrooms_per_room = True):\n",
    "        self.add_bedrooms_per_room = add_bedrooms_per_room\n",
    "    def fit(self, X, y=None):\n",
    "        return self # bizni funksiyamiz faqat transformer. estimator emas\n",
    "    def transform(self, X):\n",
    "        rooms_per_household = X[:, rooms_ix] / X[:, households_ix]\n",
    "        population_per_household = X[:, population_ix] / X[:, households_ix]\n",
    "        if self.add_bedrooms_per_room: # add_bedrooms_per_room ustuni ixtiyoriy bo'ladi\n",
    "            bedrooms_per_room = X[:, bedrooms_ix] / X[:, rooms_ix]\n",
    "            return np.c_[X, rooms_per_household, population_per_household, bedrooms_per_room]\n",
    "        else:\n",
    "            return np.c_[X, rooms_per_household, population_per_household]"
   ]
  },
  {
   "cell_type": "code",
   "execution_count": 5,
   "id": "66bdf3b1",
   "metadata": {},
   "outputs": [
    {
     "data": {
      "text/plain": [
       "array([[ 1.27258656, -1.3728112 ,  0.34849025, ..., -0.17491646,\n",
       "         0.05137609, -0.2117846 ],\n",
       "       [ 0.70916212, -0.87669601,  1.61811813, ..., -0.40283542,\n",
       "        -0.11736222,  0.34218528],\n",
       "       [-0.44760309, -0.46014647, -1.95271028, ...,  0.08821601,\n",
       "        -0.03227969, -0.66165785],\n",
       "       ...,\n",
       "       [ 0.59946887, -0.75500738,  0.58654547, ..., -0.60675918,\n",
       "         0.02030568,  0.99951387],\n",
       "       [-1.18553953,  0.90651045, -1.07984112, ...,  0.40217517,\n",
       "         0.00707608, -0.79086209],\n",
       "       [-1.41489815,  0.99543676,  1.85617335, ..., -0.85144571,\n",
       "        -0.08535429,  1.69520292]])"
      ]
     },
     "execution_count": 5,
     "metadata": {},
     "output_type": "execute_result"
    }
   ],
   "source": [
    "from sklearn.pipeline import Pipeline\n",
    "from sklearn.impute import SimpleImputer\n",
    "from sklearn.preprocessing import OneHotEncoder, StandardScaler\n",
    "\n",
    "num_pipeline = Pipeline([\n",
    "    ('imputermedian',SimpleImputer(strategy='median')),\n",
    "    ('attribs_adder',CombinedAttributesAdder()),\n",
    "    ('std_scaler',StandardScaler())\n",
    "])\n",
    "\n",
    "num_pipeline.fit_transform(X_num)"
   ]
  },
  {
   "cell_type": "code",
   "execution_count": 6,
   "id": "059c9897",
   "metadata": {},
   "outputs": [],
   "source": [
    "from sklearn.compose import ColumnTransformer\n",
    "\n",
    "num_attribs = list(X_num)"
   ]
  },
  {
   "cell_type": "code",
   "execution_count": 7,
   "id": "58af99e7",
   "metadata": {},
   "outputs": [
    {
     "data": {
      "text/plain": [
       "['longitude',\n",
       " 'latitude',\n",
       " 'housing_median_age',\n",
       " 'total_rooms',\n",
       " 'total_bedrooms',\n",
       " 'population',\n",
       " 'households',\n",
       " 'median_income']"
      ]
     },
     "execution_count": 7,
     "metadata": {},
     "output_type": "execute_result"
    }
   ],
   "source": [
    "num_attribs"
   ]
  },
  {
   "cell_type": "code",
   "execution_count": 8,
   "id": "d57c8e37",
   "metadata": {},
   "outputs": [
    {
     "data": {
      "text/plain": [
       "['ocean_proximity']"
      ]
     },
     "execution_count": 8,
     "metadata": {},
     "output_type": "execute_result"
    }
   ],
   "source": [
    "cat_attribs = ['ocean_proximity']\n",
    "cat_attribs"
   ]
  },
  {
   "cell_type": "code",
   "execution_count": 9,
   "id": "df3b0d34",
   "metadata": {},
   "outputs": [],
   "source": [
    "full_pipeline = ColumnTransformer([\n",
    "    ('num',num_pipeline,num_attribs),\n",
    "    ('cat',OneHotEncoder(),cat_attribs)\n",
    "])"
   ]
  },
  {
   "cell_type": "code",
   "execution_count": 12,
   "id": "bdd3f252",
   "metadata": {},
   "outputs": [],
   "source": [
    "x_prepared = full_pipeline.fit_transform(X_train)"
   ]
  },
  {
   "cell_type": "code",
   "execution_count": 13,
   "id": "550d468f",
   "metadata": {},
   "outputs": [
    {
     "data": {
      "text/plain": [
       "array([[ 1.27258656, -1.3728112 ,  0.34849025, ...,  0.        ,\n",
       "         0.        ,  1.        ],\n",
       "       [ 0.70916212, -0.87669601,  1.61811813, ...,  0.        ,\n",
       "         0.        ,  1.        ],\n",
       "       [-0.44760309, -0.46014647, -1.95271028, ...,  0.        ,\n",
       "         0.        ,  1.        ],\n",
       "       ...,\n",
       "       [ 0.59946887, -0.75500738,  0.58654547, ...,  0.        ,\n",
       "         0.        ,  0.        ],\n",
       "       [-1.18553953,  0.90651045, -1.07984112, ...,  0.        ,\n",
       "         0.        ,  0.        ],\n",
       "       [-1.41489815,  0.99543676,  1.85617335, ...,  0.        ,\n",
       "         1.        ,  0.        ]])"
      ]
     },
     "execution_count": 13,
     "metadata": {},
     "output_type": "execute_result"
    }
   ],
   "source": [
    "x_prepared"
   ]
  },
  {
   "cell_type": "markdown",
   "id": "48704cb8",
   "metadata": {},
   "source": [
    "# LINEAR REGRESSION"
   ]
  },
  {
   "cell_type": "code",
   "execution_count": 14,
   "id": "4f4a7dca",
   "metadata": {},
   "outputs": [],
   "source": [
    "from sklearn.linear_model import LinearRegression"
   ]
  },
  {
   "cell_type": "code",
   "execution_count": 15,
   "id": "4dfa37d8",
   "metadata": {},
   "outputs": [],
   "source": [
    "LR_model = LinearRegression()"
   ]
  },
  {
   "cell_type": "code",
   "execution_count": 17,
   "id": "2e439b25",
   "metadata": {},
   "outputs": [
    {
     "data": {
      "text/plain": [
       "LinearRegression()"
      ]
     },
     "execution_count": 17,
     "metadata": {},
     "output_type": "execute_result"
    }
   ],
   "source": [
    "LR_model.fit(x_prepared,y)"
   ]
  },
  {
   "cell_type": "code",
   "execution_count": 19,
   "id": "d57282e0",
   "metadata": {},
   "outputs": [],
   "source": [
    "test_data = X_train.sample(10)"
   ]
  },
  {
   "cell_type": "code",
   "execution_count": 20,
   "id": "1a56855a",
   "metadata": {},
   "outputs": [
    {
     "data": {
      "text/html": [
       "<div>\n",
       "<style scoped>\n",
       "    .dataframe tbody tr th:only-of-type {\n",
       "        vertical-align: middle;\n",
       "    }\n",
       "\n",
       "    .dataframe tbody tr th {\n",
       "        vertical-align: top;\n",
       "    }\n",
       "\n",
       "    .dataframe thead th {\n",
       "        text-align: right;\n",
       "    }\n",
       "</style>\n",
       "<table border=\"1\" class=\"dataframe\">\n",
       "  <thead>\n",
       "    <tr style=\"text-align: right;\">\n",
       "      <th></th>\n",
       "      <th>longitude</th>\n",
       "      <th>latitude</th>\n",
       "      <th>housing_median_age</th>\n",
       "      <th>total_rooms</th>\n",
       "      <th>total_bedrooms</th>\n",
       "      <th>population</th>\n",
       "      <th>households</th>\n",
       "      <th>median_income</th>\n",
       "      <th>ocean_proximity</th>\n",
       "    </tr>\n",
       "  </thead>\n",
       "  <tbody>\n",
       "    <tr>\n",
       "      <th>5705</th>\n",
       "      <td>-118.26</td>\n",
       "      <td>34.23</td>\n",
       "      <td>33.0</td>\n",
       "      <td>1805.0</td>\n",
       "      <td>303.0</td>\n",
       "      <td>838.0</td>\n",
       "      <td>301.0</td>\n",
       "      <td>5.4306</td>\n",
       "      <td>&lt;1H OCEAN</td>\n",
       "    </tr>\n",
       "    <tr>\n",
       "      <th>11323</th>\n",
       "      <td>-117.97</td>\n",
       "      <td>33.76</td>\n",
       "      <td>28.0</td>\n",
       "      <td>1386.0</td>\n",
       "      <td>272.0</td>\n",
       "      <td>901.0</td>\n",
       "      <td>294.0</td>\n",
       "      <td>4.7464</td>\n",
       "      <td>&lt;1H OCEAN</td>\n",
       "    </tr>\n",
       "    <tr>\n",
       "      <th>6634</th>\n",
       "      <td>-118.16</td>\n",
       "      <td>34.16</td>\n",
       "      <td>52.0</td>\n",
       "      <td>1576.0</td>\n",
       "      <td>239.0</td>\n",
       "      <td>696.0</td>\n",
       "      <td>249.0</td>\n",
       "      <td>6.0700</td>\n",
       "      <td>&lt;1H OCEAN</td>\n",
       "    </tr>\n",
       "    <tr>\n",
       "      <th>6177</th>\n",
       "      <td>-117.91</td>\n",
       "      <td>34.08</td>\n",
       "      <td>33.0</td>\n",
       "      <td>2325.0</td>\n",
       "      <td>452.0</td>\n",
       "      <td>1170.0</td>\n",
       "      <td>445.0</td>\n",
       "      <td>3.6625</td>\n",
       "      <td>&lt;1H OCEAN</td>\n",
       "    </tr>\n",
       "    <tr>\n",
       "      <th>4662</th>\n",
       "      <td>-118.30</td>\n",
       "      <td>34.05</td>\n",
       "      <td>42.0</td>\n",
       "      <td>1476.0</td>\n",
       "      <td>610.0</td>\n",
       "      <td>1605.0</td>\n",
       "      <td>545.0</td>\n",
       "      <td>1.7210</td>\n",
       "      <td>&lt;1H OCEAN</td>\n",
       "    </tr>\n",
       "    <tr>\n",
       "      <th>18626</th>\n",
       "      <td>-121.95</td>\n",
       "      <td>37.11</td>\n",
       "      <td>21.0</td>\n",
       "      <td>2387.0</td>\n",
       "      <td>357.0</td>\n",
       "      <td>913.0</td>\n",
       "      <td>341.0</td>\n",
       "      <td>7.7360</td>\n",
       "      <td>&lt;1H OCEAN</td>\n",
       "    </tr>\n",
       "    <tr>\n",
       "      <th>11472</th>\n",
       "      <td>-118.00</td>\n",
       "      <td>33.71</td>\n",
       "      <td>19.0</td>\n",
       "      <td>4808.0</td>\n",
       "      <td>1029.0</td>\n",
       "      <td>2422.0</td>\n",
       "      <td>971.0</td>\n",
       "      <td>4.0121</td>\n",
       "      <td>&lt;1H OCEAN</td>\n",
       "    </tr>\n",
       "    <tr>\n",
       "      <th>18787</th>\n",
       "      <td>-122.43</td>\n",
       "      <td>40.47</td>\n",
       "      <td>16.0</td>\n",
       "      <td>3552.0</td>\n",
       "      <td>704.0</td>\n",
       "      <td>1801.0</td>\n",
       "      <td>658.0</td>\n",
       "      <td>2.1496</td>\n",
       "      <td>INLAND</td>\n",
       "    </tr>\n",
       "    <tr>\n",
       "      <th>10594</th>\n",
       "      <td>-117.79</td>\n",
       "      <td>33.69</td>\n",
       "      <td>16.0</td>\n",
       "      <td>1532.0</td>\n",
       "      <td>240.0</td>\n",
       "      <td>679.0</td>\n",
       "      <td>248.0</td>\n",
       "      <td>5.7115</td>\n",
       "      <td>&lt;1H OCEAN</td>\n",
       "    </tr>\n",
       "    <tr>\n",
       "      <th>113</th>\n",
       "      <td>-122.25</td>\n",
       "      <td>37.83</td>\n",
       "      <td>52.0</td>\n",
       "      <td>2376.0</td>\n",
       "      <td>559.0</td>\n",
       "      <td>939.0</td>\n",
       "      <td>519.0</td>\n",
       "      <td>3.1484</td>\n",
       "      <td>NEAR BAY</td>\n",
       "    </tr>\n",
       "  </tbody>\n",
       "</table>\n",
       "</div>"
      ],
      "text/plain": [
       "       longitude  latitude  housing_median_age  total_rooms  total_bedrooms  \\\n",
       "5705     -118.26     34.23                33.0       1805.0           303.0   \n",
       "11323    -117.97     33.76                28.0       1386.0           272.0   \n",
       "6634     -118.16     34.16                52.0       1576.0           239.0   \n",
       "6177     -117.91     34.08                33.0       2325.0           452.0   \n",
       "4662     -118.30     34.05                42.0       1476.0           610.0   \n",
       "18626    -121.95     37.11                21.0       2387.0           357.0   \n",
       "11472    -118.00     33.71                19.0       4808.0          1029.0   \n",
       "18787    -122.43     40.47                16.0       3552.0           704.0   \n",
       "10594    -117.79     33.69                16.0       1532.0           240.0   \n",
       "113      -122.25     37.83                52.0       2376.0           559.0   \n",
       "\n",
       "       population  households  median_income ocean_proximity  \n",
       "5705        838.0       301.0         5.4306       <1H OCEAN  \n",
       "11323       901.0       294.0         4.7464       <1H OCEAN  \n",
       "6634        696.0       249.0         6.0700       <1H OCEAN  \n",
       "6177       1170.0       445.0         3.6625       <1H OCEAN  \n",
       "4662       1605.0       545.0         1.7210       <1H OCEAN  \n",
       "18626       913.0       341.0         7.7360       <1H OCEAN  \n",
       "11472      2422.0       971.0         4.0121       <1H OCEAN  \n",
       "18787      1801.0       658.0         2.1496          INLAND  \n",
       "10594       679.0       248.0         5.7115       <1H OCEAN  \n",
       "113         939.0       519.0         3.1484        NEAR BAY  "
      ]
     },
     "execution_count": 20,
     "metadata": {},
     "output_type": "execute_result"
    }
   ],
   "source": [
    "test_data"
   ]
  },
  {
   "cell_type": "code",
   "execution_count": 21,
   "id": "4b383484",
   "metadata": {},
   "outputs": [],
   "source": [
    "test_label = y.loc[test_data.index]"
   ]
  },
  {
   "cell_type": "code",
   "execution_count": 22,
   "id": "ec13f30c",
   "metadata": {},
   "outputs": [
    {
     "data": {
      "text/plain": [
       "5705     326600.0\n",
       "11323    187500.0\n",
       "6634     261800.0\n",
       "6177     217100.0\n",
       "4662     214300.0\n",
       "18626    397700.0\n",
       "11472    279700.0\n",
       "18787     97700.0\n",
       "10594    313900.0\n",
       "113      224100.0\n",
       "Name: median_house_value, dtype: float64"
      ]
     },
     "execution_count": 22,
     "metadata": {},
     "output_type": "execute_result"
    }
   ],
   "source": [
    "test_label"
   ]
  },
  {
   "cell_type": "code",
   "execution_count": 23,
   "id": "0d514d8d",
   "metadata": {},
   "outputs": [],
   "source": [
    "test_data_prepared = full_pipeline.transform(test_data)"
   ]
  },
  {
   "cell_type": "code",
   "execution_count": 24,
   "id": "b343bbef",
   "metadata": {},
   "outputs": [
    {
     "data": {
      "text/plain": [
       "array([[ 6.59301555e-01, -6.61400745e-01,  3.48490247e-01,\n",
       "        -3.84903954e-01, -5.62052491e-01, -5.17538826e-01,\n",
       "        -5.22335113e-01,  8.13893621e-01,  2.35178701e-01,\n",
       "        -2.70251688e-02, -7.75790968e-01,  1.00000000e+00,\n",
       "         0.00000000e+00,  0.00000000e+00,  0.00000000e+00,\n",
       "         0.00000000e+00],\n",
       "       [ 8.03897207e-01, -8.81376346e-01, -4.82684654e-02,\n",
       "        -5.77584761e-01, -6.36039159e-01, -4.62130924e-01,\n",
       "        -5.40709918e-01,  4.54589465e-01, -3.01993267e-01,\n",
       "        -2.79273150e-03, -2.86406915e-01,  1.00000000e+00,\n",
       "         0.00000000e+00,  0.00000000e+00,  0.00000000e+00,\n",
       "         0.00000000e+00],\n",
       "       [ 7.09162124e-01, -6.94163068e-01,  1.85617335e+00,\n",
       "        -4.90211603e-01, -7.14799160e-01, -6.42426477e-01,\n",
       "        -6.58833663e-01,  1.14967128e+00,  3.74515680e-01,\n",
       "        -2.60641057e-02, -1.05543010e+00,  1.00000000e+00,\n",
       "         0.00000000e+00,  0.00000000e+00,  0.00000000e+00,\n",
       "         0.00000000e+00],\n",
       "       [ 8.33813549e-01, -7.31605724e-01,  3.48490247e-01,\n",
       "        -1.45777416e-01, -2.06439153e-01, -2.25547980e-01,\n",
       "        -1.44339128e-01, -1.14615115e-01, -8.81814987e-02,\n",
       "        -4.03983257e-02, -3.18127535e-01,  1.00000000e+00,\n",
       "         0.00000000e+00,  0.00000000e+00,  0.00000000e+00,\n",
       "         0.00000000e+00],\n",
       "       [ 6.39357327e-01, -7.45646720e-01,  1.06265593e+00,\n",
       "        -5.36197475e-01,  1.70654185e-01,  1.57030387e-01,\n",
       "         1.18158084e-01, -1.13418398e+00, -1.14228425e+00,\n",
       "        -1.31285110e-02,  3.45591646e+00,  1.00000000e+00,\n",
       "         0.00000000e+00,  0.00000000e+00,  0.00000000e+00,\n",
       "         0.00000000e+00],\n",
       "       [-1.18055347e+00,  6.86534853e-01, -6.03730662e-01,\n",
       "        -1.17266175e-01, -4.33172490e-01, -4.51577038e-01,\n",
       "        -4.17336228e-01,  2.02456272e+00,  6.55453143e-01,\n",
       "        -3.62348921e-02, -1.09146214e+00,  1.00000000e+00,\n",
       "         0.00000000e+00,  0.00000000e+00,  0.00000000e+00,\n",
       "         0.00000000e+00],\n",
       "       [ 7.88939036e-01, -9.04778005e-01, -7.62434147e-01,\n",
       "         9.96051802e-01,  1.17066753e+00,  8.75574124e-01,\n",
       "         1.23639621e+00,  6.89755496e-02, -2.02587947e-01,\n",
       "        -5.20474155e-02,  2.00078583e-02,  1.00000000e+00,\n",
       "         0.00000000e+00,  0.00000000e+00,  0.00000000e+00,\n",
       "         0.00000000e+00],\n",
       "       [-1.41988420e+00,  2.25912638e+00, -1.00048937e+00,\n",
       "         4.18469241e-01,  3.95000855e-01,  3.29410524e-01,\n",
       "         4.14779933e-01, -9.09106867e-01, -1.55232642e-02,\n",
       "        -3.10819569e-02, -2.52782502e-01,  0.00000000e+00,\n",
       "         1.00000000e+00,  0.00000000e+00,  0.00000000e+00,\n",
       "         0.00000000e+00],\n",
       "       [ 8.93646232e-01, -9.14138669e-01, -1.00048937e+00,\n",
       "        -5.10445387e-01, -7.12412494e-01, -6.57377815e-01,\n",
       "        -6.61458635e-01,  9.61406829e-01,  3.10888255e-01,\n",
       "        -3.10110352e-02, -9.69072050e-01,  1.00000000e+00,\n",
       "         0.00000000e+00,  0.00000000e+00,  0.00000000e+00,\n",
       "         0.00000000e+00],\n",
       "       [-1.33013518e+00,  1.02351875e+00,  1.85617335e+00,\n",
       "        -1.22324621e-01,  4.89341835e-02, -4.28710285e-01,\n",
       "         4.99088085e-02, -3.84592119e-01, -3.59066482e-01,\n",
       "        -1.11216866e-01,  3.86445612e-01,  0.00000000e+00,\n",
       "         0.00000000e+00,  0.00000000e+00,  1.00000000e+00,\n",
       "         0.00000000e+00]])"
      ]
     },
     "execution_count": 24,
     "metadata": {},
     "output_type": "execute_result"
    }
   ],
   "source": [
    "test_data_prepared\n"
   ]
  },
  {
   "cell_type": "code",
   "execution_count": 26,
   "id": "6dc0c53b",
   "metadata": {},
   "outputs": [],
   "source": [
    "predicted_label = LR_model.predict(test_data_prepared)"
   ]
  },
  {
   "cell_type": "code",
   "execution_count": 30,
   "id": "8c69a344",
   "metadata": {},
   "outputs": [],
   "source": [
    "predicted_label\n",
    "test_label = y.loc[test_data.index]"
   ]
  },
  {
   "cell_type": "code",
   "execution_count": 32,
   "id": "836fa9d4",
   "metadata": {},
   "outputs": [
    {
     "data": {
      "text/html": [
       "<div>\n",
       "<style scoped>\n",
       "    .dataframe tbody tr th:only-of-type {\n",
       "        vertical-align: middle;\n",
       "    }\n",
       "\n",
       "    .dataframe tbody tr th {\n",
       "        vertical-align: top;\n",
       "    }\n",
       "\n",
       "    .dataframe thead th {\n",
       "        text-align: right;\n",
       "    }\n",
       "</style>\n",
       "<table border=\"1\" class=\"dataframe\">\n",
       "  <thead>\n",
       "    <tr style=\"text-align: right;\">\n",
       "      <th></th>\n",
       "      <th>Bashorat</th>\n",
       "      <th>Original</th>\n",
       "    </tr>\n",
       "  </thead>\n",
       "  <tbody>\n",
       "    <tr>\n",
       "      <th>5705</th>\n",
       "      <td>274418.610096</td>\n",
       "      <td>326600.0</td>\n",
       "    </tr>\n",
       "    <tr>\n",
       "      <th>11323</th>\n",
       "      <td>244063.219260</td>\n",
       "      <td>187500.0</td>\n",
       "    </tr>\n",
       "    <tr>\n",
       "      <th>6634</th>\n",
       "      <td>316490.551315</td>\n",
       "      <td>261800.0</td>\n",
       "    </tr>\n",
       "    <tr>\n",
       "      <th>6177</th>\n",
       "      <td>205480.661061</td>\n",
       "      <td>217100.0</td>\n",
       "    </tr>\n",
       "    <tr>\n",
       "      <th>4662</th>\n",
       "      <td>194744.540734</td>\n",
       "      <td>214300.0</td>\n",
       "    </tr>\n",
       "    <tr>\n",
       "      <th>18626</th>\n",
       "      <td>385043.330547</td>\n",
       "      <td>397700.0</td>\n",
       "    </tr>\n",
       "    <tr>\n",
       "      <th>11472</th>\n",
       "      <td>239977.915622</td>\n",
       "      <td>279700.0</td>\n",
       "    </tr>\n",
       "    <tr>\n",
       "      <th>18787</th>\n",
       "      <td>51194.173903</td>\n",
       "      <td>97700.0</td>\n",
       "    </tr>\n",
       "    <tr>\n",
       "      <th>10594</th>\n",
       "      <td>264808.580775</td>\n",
       "      <td>313900.0</td>\n",
       "    </tr>\n",
       "    <tr>\n",
       "      <th>113</th>\n",
       "      <td>250822.547453</td>\n",
       "      <td>224100.0</td>\n",
       "    </tr>\n",
       "  </tbody>\n",
       "</table>\n",
       "</div>"
      ],
      "text/plain": [
       "            Bashorat  Original\n",
       "5705   274418.610096  326600.0\n",
       "11323  244063.219260  187500.0\n",
       "6634   316490.551315  261800.0\n",
       "6177   205480.661061  217100.0\n",
       "4662   194744.540734  214300.0\n",
       "18626  385043.330547  397700.0\n",
       "11472  239977.915622  279700.0\n",
       "18787   51194.173903   97700.0\n",
       "10594  264808.580775  313900.0\n",
       "113    250822.547453  224100.0"
      ]
     },
     "execution_count": 32,
     "metadata": {},
     "output_type": "execute_result"
    }
   ],
   "source": [
    "pd.DataFrame({'Bashorat':predicted_label, 'Original':test_label})"
   ]
  },
  {
   "cell_type": "code",
   "execution_count": null,
   "id": "2c46865b",
   "metadata": {},
   "outputs": [],
   "source": []
  }
 ],
 "metadata": {
  "kernelspec": {
   "display_name": "Python 3",
   "language": "python",
   "name": "python3"
  },
  "language_info": {
   "codemirror_mode": {
    "name": "ipython",
    "version": 3
   },
   "file_extension": ".py",
   "mimetype": "text/x-python",
   "name": "python",
   "nbconvert_exporter": "python",
   "pygments_lexer": "ipython3",
   "version": "3.8.7"
  }
 },
 "nbformat": 4,
 "nbformat_minor": 5
}
